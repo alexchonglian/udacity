{
 "cells": [
  {
   "cell_type": "markdown",
   "metadata": {},
   "source": [
    "# Skip-gram Word2Vec\n",
    "\n",
    "In this notebook, I'll lead you through using PyTorch to implement the [Word2Vec algorithm](https://en.wikipedia.org/wiki/Word2vec) using the skip-gram architecture. By implementing this, you'll learn about embedding words for use in natural language processing. This will come in handy when dealing with things like machine translation.\n",
    "\n",
    "## Readings\n",
    "\n",
    "Here are the resources I used to build this notebook. I suggest reading these either beforehand or while you're working on this material.\n",
    "\n",
    "* A really good [conceptual overview](http://mccormickml.com/2016/04/19/word2vec-tutorial-the-skip-gram-model/) of Word2Vec from Chris McCormick \n",
    "* [First Word2Vec paper](https://arxiv.org/pdf/1301.3781.pdf) from Mikolov et al.\n",
    "* [Neural Information Processing Systems, paper](http://papers.nips.cc/paper/5021-distributed-representations-of-words-and-phrases-and-their-compositionality.pdf) with improvements for Word2Vec also from Mikolov et al.\n",
    "\n",
    "---\n",
    "## Word embeddings\n",
    "\n",
    "When you're dealing with words in text, you end up with tens of thousands of word classes to analyze; one for each word in a vocabulary. Trying to one-hot encode these words is massively inefficient because most values in a one-hot vector will be set to zero. So, the matrix multiplication that happens in between a one-hot input vector and a first, hidden layer will result in mostly zero-valued hidden outputs.\n",
    "\n",
    "<img src='assets/one_hot_encoding.png' width=50%>\n",
    "\n",
    "To solve this problem and greatly increase the efficiency of our networks, we use what are called **embeddings**. Embeddings are just a fully connected layer like you've seen before. We call this layer the embedding layer and the weights are embedding weights. We skip the multiplication into the embedding layer by instead directly grabbing the hidden layer values from the weight matrix. We can do this because the multiplication of a one-hot encoded vector with a matrix returns the row of the matrix corresponding the index of the \"on\" input unit.\n",
    "\n",
    "<img src='assets/lookup_matrix.png' width=50%>\n",
    "\n",
    "Instead of doing the matrix multiplication, we use the weight matrix as a lookup table. We encode the words as integers, for example \"heart\" is encoded as 958, \"mind\" as 18094. Then to get hidden layer values for \"heart\", you just take the 958th row of the embedding matrix. This process is called an **embedding lookup** and the number of hidden units is the **embedding dimension**.\n",
    "\n",
    "<img src='assets/tokenize_lookup.png' width=50%>\n",
    " \n",
    "There is nothing magical going on here. The embedding lookup table is just a weight matrix. The embedding layer is just a hidden layer. The lookup is just a shortcut for the matrix multiplication. The lookup table is trained just like any weight matrix.\n",
    "\n",
    "Embeddings aren't only used for words of course. You can use them for any model where you have a massive number of classes. A particular type of model called **Word2Vec** uses the embedding layer to find vector representations of words that contain semantic meaning."
   ]
  },
  {
   "cell_type": "markdown",
   "metadata": {},
   "source": [
    "---\n",
    "## Word2Vec\n",
    "\n",
    "The Word2Vec algorithm finds much more efficient representations by finding vectors that represent the words. These vectors also contain semantic information about the words.\n",
    "\n",
    "<img src=\"assets/context_drink.png\" width=40%>\n",
    "\n",
    "Words that show up in similar **contexts**, such as \"coffee\", \"tea\", and \"water\" will have vectors near each other. Different words will be further away from one another, and relationships can be represented by distance in vector space.\n",
    "\n",
    "<img src=\"assets/vector_distance.png\" width=40%>\n",
    "\n",
    "\n",
    "There are two architectures for implementing Word2Vec:\n",
    ">* CBOW (Continuous Bag-Of-Words) and \n",
    "* Skip-gram\n",
    "\n",
    "<img src=\"assets/word2vec_architectures.png\" width=60%>\n",
    "\n",
    "In this implementation, we'll be using the **skip-gram architecture** because it performs better than CBOW. Here, we pass in a word and try to predict the words surrounding it in the text. In this way, we can train the network to learn representations for words that show up in similar contexts."
   ]
  },
  {
   "cell_type": "markdown",
   "metadata": {},
   "source": [
    "---\n",
    "## Loading Data\n",
    "\n",
    "Next, we'll ask you to load in data and place it in the `data` directory\n",
    "\n",
    "1. Load the [text8 dataset](https://s3.amazonaws.com/video.udacity-data.com/topher/2018/October/5bbe6499_text8/text8.zip); a file of cleaned up *Wikipedia article text* from Matt Mahoney. \n",
    "2. Place that data in the `data` folder in the home directory.\n",
    "3. Then you can extract it and delete the archive, zip file to save storage space.\n",
    "\n",
    "After following these steps, you should have one file in your data directory: `data/text8`."
   ]
  },
  {
   "cell_type": "code",
   "execution_count": 1,
   "metadata": {},
   "outputs": [
    {
     "name": "stdout",
     "output_type": "stream",
     "text": [
      " anarchism originated as a term of abuse first used against early working class radicals including t\n"
     ]
    }
   ],
   "source": [
    "# read in the extracted text file      \n",
    "with open('data/text8') as f:\n",
    "    text = f.read()\n",
    "\n",
    "# print out the first 100 characters\n",
    "print(text[:100])"
   ]
  },
  {
   "cell_type": "markdown",
   "metadata": {},
   "source": [
    "## Pre-processing\n",
    "\n",
    "Here I'm fixing up the text to make training easier. This comes from the `utils.py` file. The `preprocess` function does a few things:\n",
    ">* It converts any punctuation into tokens, so a period is changed to ` <PERIOD> `. In this data set, there aren't any periods, but it will help in other NLP problems. \n",
    "* It removes all words that show up five or *fewer* times in the dataset. This will greatly reduce issues due to noise in the data and improve the quality of the vector representations. \n",
    "* It returns a list of words in the text.\n",
    "\n",
    "This may take a few seconds to run, since our text file is quite large. If you want to write your own functions for this stuff, go for it!"
   ]
  },
  {
   "cell_type": "code",
   "execution_count": 2,
   "metadata": {},
   "outputs": [
    {
     "name": "stdout",
     "output_type": "stream",
     "text": [
      "['anarchism', 'originated', 'as', 'a', 'term', 'of', 'abuse', 'first', 'used', 'against', 'early', 'working', 'class', 'radicals', 'including', 'the', 'diggers', 'of', 'the', 'english', 'revolution', 'and', 'the', 'sans', 'culottes', 'of', 'the', 'french', 'revolution', 'whilst']\n"
     ]
    }
   ],
   "source": [
    "import utils\n",
    "\n",
    "# get list of words\n",
    "words = utils.preprocess(text)\n",
    "print(words[:30])"
   ]
  },
  {
   "cell_type": "code",
   "execution_count": 3,
   "metadata": {},
   "outputs": [
    {
     "name": "stdout",
     "output_type": "stream",
     "text": [
      "Total words in text: 16680599\n",
      "Unique words: 63641\n"
     ]
    }
   ],
   "source": [
    "# print some stats about this word data\n",
    "print(\"Total words in text: {}\".format(len(words)))\n",
    "print(\"Unique words: {}\".format(len(set(words)))) # `set` removes any duplicate words"
   ]
  },
  {
   "cell_type": "markdown",
   "metadata": {},
   "source": [
    "### Dictionaries\n",
    "\n",
    "Next, I'm creating two dictionaries to convert words to integers and back again (integers to words). This is again done with a function in the `utils.py` file. `create_lookup_tables` takes in a list of words in a text and returns two dictionaries.\n",
    ">* The integers are assigned in descending frequency order, so the most frequent word (\"the\") is given the integer 0 and the next most frequent is 1, and so on. \n",
    "\n",
    "Once we have our dictionaries, the words are converted to integers and stored in the list `int_words`."
   ]
  },
  {
   "cell_type": "code",
   "execution_count": 4,
   "metadata": {},
   "outputs": [
    {
     "name": "stdout",
     "output_type": "stream",
     "text": [
      "[5233, 3080, 11, 5, 194, 1, 3133, 45, 58, 155, 127, 741, 476, 10571, 133, 0, 27349, 1, 0, 102, 854, 2, 0, 15067, 58112, 1, 0, 150, 854, 3580]\n"
     ]
    }
   ],
   "source": [
    "vocab_to_int, int_to_vocab = utils.create_lookup_tables(words)\n",
    "int_words = [vocab_to_int[word] for word in words]\n",
    "\n",
    "print(int_words[:30])"
   ]
  },
  {
   "cell_type": "markdown",
   "metadata": {},
   "source": [
    "## Subsampling\n",
    "\n",
    "Words that show up often such as \"the\", \"of\", and \"for\" don't provide much context to the nearby words. If we discard some of them, we can remove some of the noise from our data and in return get faster training and better representations. This process is called subsampling by Mikolov. For each word $w_i$ in the training set, we'll discard it with probability given by \n",
    "\n",
    "$$ P(w_i) = 1 - \\sqrt{\\frac{t}{f(w_i)}} $$\n",
    "\n",
    "where $t$ is a threshold parameter and $f(w_i)$ is the frequency of word $w_i$ in the total dataset.\n",
    "\n",
    "$$ P(0) = 1 - \\sqrt{\\frac{1*10^{-5}}{1*10^6/16*10^6}} = 0.98735 $$\n",
    "\n",
    "I'm going to leave this up to you as an exercise. Check out my solution to see how I did it.\n",
    "\n",
    "> **Exercise:** Implement subsampling for the words in `int_words`. That is, go through `int_words` and discard each word given the probablility $P(w_i)$ shown above. Note that $P(w_i)$ is the probability that a word is discarded. Assign the subsampled data to `train_words`."
   ]
  },
  {
   "cell_type": "code",
   "execution_count": 5,
   "metadata": {},
   "outputs": [
    {
     "name": "stdout",
     "output_type": "stream",
     "text": [
      "(5233, 303)\n",
      "[3080, 741, 10571, 27349, 854, 15067, 58112, 150, 854, 10712, 1324, 2731, 362, 3672, 11, 1423, 2757, 567, 7088, 5233, 1052, 44611, 2877, 5233, 8983, 4147, 6437, 5233, 447, 4860]\n"
     ]
    }
   ],
   "source": [
    "from collections import Counter\n",
    "import random\n",
    "import numpy as np\n",
    "\n",
    "threshold = 1e-5\n",
    "word_counts = Counter(int_words)\n",
    "print(list(word_counts.items())[0])  # dictionary of int_words, how many times they appear\n",
    "\n",
    "# discard some frequent words, according to the subsampling equation\n",
    "# create a new list of words for training\n",
    "total_count = len(int_words)\n",
    "word_frequency = {word: count/total_count for word, count in word_counts.items()}\n",
    "p_drop = {word: 1 - np.sqrt(threshold/word_frequency[word]) for word in word_counts}\n",
    "train_words = [word for word in int_words if random.random() < (1 - p_drop[word])]\n",
    "\n",
    "print(train_words[:30])"
   ]
  },
  {
   "cell_type": "markdown",
   "metadata": {},
   "source": [
    "## Making batches"
   ]
  },
  {
   "cell_type": "markdown",
   "metadata": {},
   "source": [
    "Now that our data is in good shape, we need to get it into the proper form to pass it into our network. With the skip-gram architecture, for each word in the text, we want to define a surrounding _context_ and grab all the words in a window around that word, with size $C$. \n",
    "\n",
    "From [Mikolov et al.](https://arxiv.org/pdf/1301.3781.pdf): \n",
    "\n",
    "\"Since the more distant words are usually less related to the current word than those close to it, we give less weight to the distant words by sampling less from those words in our training examples... If we choose $C = 5$, for each training word we will select randomly a number $R$ in range $[ 1: C ]$, and then use $R$ words from history and $R$ words from the future of the current word as correct labels.\"\n",
    "\n",
    "> **Exercise:** Implement a function `get_target` that receives a list of words, an index, and a window size, then returns a list of words in the window around the index. Make sure to use the algorithm described above, where you chose a random number of words to from the window.\n",
    "\n",
    "Say, we have an input and we're interested in the idx=2 token, `741`: \n",
    "```\n",
    "[5233, 58, 741, 10571, 27349, 0, 15067, 58112, 3580, 58, 10712]\n",
    "```\n",
    "\n",
    "For `R=2`, `get_target` should return a list of four values:\n",
    "```\n",
    "[5233, 58, 10571, 27349]\n",
    "```"
   ]
  },
  {
   "cell_type": "code",
   "execution_count": 6,
   "metadata": {},
   "outputs": [],
   "source": [
    "def get_target(words, idx, window_size=5):\n",
    "    ''' Get a list of words in a window around an index. '''\n",
    "    R = np.random.randint(1, window_size+1)\n",
    "    start = idx - R if (idx - R) > 0 else 0\n",
    "    stop = idx + R\n",
    "    target_words = words[start:idx] + words[idx+1:stop+1]\n",
    "    return target_words"
   ]
  },
  {
   "cell_type": "code",
   "execution_count": 7,
   "metadata": {},
   "outputs": [
    {
     "name": "stdout",
     "output_type": "stream",
     "text": [
      "Input:  [0, 1, 2, 3, 4, 5, 6, 7, 8, 9]\n",
      "Target:  [0, 1, 2, 3, 4, 6, 7, 8, 9]\n"
     ]
    }
   ],
   "source": [
    "# test your code!\n",
    "\n",
    "# run this cell multiple times to check for random window selection\n",
    "int_text = [i for i in range(10)]\n",
    "print('Input: ', int_text)\n",
    "idx=5 # word index of interest\n",
    "\n",
    "target = get_target(int_text, idx=idx, window_size=5)\n",
    "print('Target: ', target)  # you should get some indices around the idx"
   ]
  },
  {
   "cell_type": "markdown",
   "metadata": {},
   "source": [
    "### Generating Batches \n",
    "\n",
    "Here's a generator function that returns batches of input and target data for our model, using the `get_target` function from above. The idea is that it grabs `batch_size` words from a words list. Then for each of those batches, it gets the target words in a window."
   ]
  },
  {
   "cell_type": "code",
   "execution_count": 8,
   "metadata": {},
   "outputs": [],
   "source": [
    "def get_batches(words, batch_size, window_size=5):\n",
    "    ''' Create a generator of word batches as a tuple (inputs, targets) '''\n",
    "    \n",
    "    n_batches = len(words)//batch_size\n",
    "    \n",
    "    # only full batches\n",
    "    words = words[:n_batches*batch_size]\n",
    "    \n",
    "    for idx in range(0, len(words), batch_size):\n",
    "        x, y = [], []\n",
    "        batch = words[idx:idx+batch_size]\n",
    "        for ii in range(len(batch)):\n",
    "            batch_x = batch[ii]\n",
    "            batch_y = get_target(batch, ii, window_size)\n",
    "            y.extend(batch_y)\n",
    "            x.extend([batch_x]*len(batch_y))\n",
    "        yield x, y\n",
    "    "
   ]
  },
  {
   "cell_type": "code",
   "execution_count": 9,
   "metadata": {},
   "outputs": [
    {
     "name": "stdout",
     "output_type": "stream",
     "text": [
      "x\n",
      " [0, 1, 1, 1, 2, 2, 2, 3, 3, 3]\n",
      "y\n",
      " [1, 0, 2, 3, 0, 1, 3, 0, 1, 2]\n"
     ]
    }
   ],
   "source": [
    "int_text = [i for i in range(20)]\n",
    "x,y = next(get_batches(int_text, batch_size=4, window_size=5))\n",
    "\n",
    "print('x\\n', x)\n",
    "print('y\\n', y)"
   ]
  },
  {
   "cell_type": "markdown",
   "metadata": {},
   "source": [
    "## Building the graph\n",
    "\n",
    "Below is an approximate diagram of the general structure of our network.\n",
    "<img src=\"assets/skip_gram_net_arch.png\" width=60%>\n",
    "\n",
    ">* The input words are passed in as batches of input word tokens. \n",
    "* This will go into a hidden layer of linear units (our embedding layer). \n",
    "* Then, finally into a softmax output layer. \n",
    "\n",
    "We'll use the softmax layer to make a prediction about the context words by sampling, as usual.\n",
    "\n",
    "The idea here is to train the embedding layer weight matrix to find efficient representations for our words. We can discard the softmax layer because we don't really care about making predictions with this network. We just want the embedding matrix so we can use it in _other_ networks we build using this dataset."
   ]
  },
  {
   "cell_type": "markdown",
   "metadata": {},
   "source": [
    "---\n",
    "## Validation\n",
    "\n",
    "Here, I'm creating a function that will help us observe our model as it learns. We're going to choose a few common words and few uncommon words. Then, we'll print out the closest words to them using the cosine similarity: \n",
    "\n",
    "$$\n",
    "\\mathrm{similarity} = \\cos(\\theta) = \\frac{\\vec{a} \\cdot \\vec{b}}{|\\vec{a}||\\vec{b}|}\n",
    "$$\n",
    "\n",
    "\n",
    "We can encode the validation words as vectors $\\vec{a}$ using the embedding table, then calculate the similarity with each word vector $\\vec{b}$ in the embedding table. With the similarities, we can print out the validation words and words in our embedding table semantically similar to those words. It's a nice way to check that our embedding table is grouping together words with similar semantic meanings."
   ]
  },
  {
   "cell_type": "code",
   "execution_count": 10,
   "metadata": {},
   "outputs": [],
   "source": [
    "def cosine_similarity(embedding, valid_size=16, valid_window=100, device='cpu'):\n",
    "    \"\"\" Returns the cosine similarity of validation words with words in the embedding matrix.\n",
    "        Here, embedding should be a PyTorch embedding module.\n",
    "    \"\"\"\n",
    "    \n",
    "    # Here we're calculating the cosine similarity between some random words and \n",
    "    # our embedding vectors. With the similarities, we can look at what words are\n",
    "    # close to our random words.\n",
    "    \n",
    "    # sim = (a . b) / |a||b|\n",
    "    \n",
    "    embed_vectors = embedding.weight\n",
    "    \n",
    "    # magnitude of embedding vectors, |b|\n",
    "    magnitudes = embed_vectors.pow(2).sum(dim=1).sqrt().unsqueeze(0)\n",
    "    \n",
    "    # pick N words from our ranges (0,window) and (1000,1000+window). lower id implies more frequent \n",
    "    valid_examples = np.array(random.sample(range(valid_window), valid_size//2))\n",
    "    valid_examples = np.append(valid_examples,\n",
    "                               random.sample(range(1000,1000+valid_window), valid_size//2))\n",
    "    valid_examples = torch.LongTensor(valid_examples).to(device)\n",
    "    \n",
    "    valid_vectors = embedding(valid_examples)\n",
    "    similarities = torch.mm(valid_vectors, embed_vectors.t())/magnitudes\n",
    "        \n",
    "    return valid_examples, similarities"
   ]
  },
  {
   "cell_type": "markdown",
   "metadata": {},
   "source": [
    "## SkipGram model\n",
    "\n",
    "Define and train the SkipGram model. \n",
    "> You'll need to define an [embedding layer](https://pytorch.org/docs/stable/nn.html#embedding) and a final, softmax output layer.\n",
    "\n",
    "An Embedding layer takes in a number of inputs, importantly:\n",
    "* **num_embeddings** – the size of the dictionary of embeddings, or how many rows you'll want in the embedding weight matrix\n",
    "* **embedding_dim** – the size of each embedding vector; the embedding dimension"
   ]
  },
  {
   "cell_type": "code",
   "execution_count": 11,
   "metadata": {},
   "outputs": [],
   "source": [
    "import torch\n",
    "from torch import nn\n",
    "import torch.optim as optim"
   ]
  },
  {
   "cell_type": "code",
   "execution_count": 12,
   "metadata": {},
   "outputs": [],
   "source": [
    "class SkipGram(nn.Module):\n",
    "    def __init__(self, n_vocab, n_embed):\n",
    "        super().__init__()\n",
    "        # complete this SkipGram model\n",
    "        self.embed = nn.Embedding(n_vocab, n_embed)\n",
    "        self.output = nn.Linear(n_embed, n_vocab)\n",
    "        self.log_softmax = nn.LogSoftmax(dim=1)\n",
    "    \n",
    "    def forward(self, x):\n",
    "        # define the forward behavior\n",
    "        x = self.embed(x)\n",
    "        scores = self.output(x)\n",
    "        log_ps = self.log_softmax(scores)\n",
    "        return log_ps"
   ]
  },
  {
   "cell_type": "markdown",
   "metadata": {},
   "source": [
    "### Training\n",
    "\n",
    "Below is our training loop, and I recommend that you train on GPU, if available.\n",
    "\n",
    "**Note that, because we applied a softmax function to our model output, we are using NLLLoss** as opposed to cross entropy. This is because Softmax  in combination with NLLLoss = CrossEntropy loss ."
   ]
  },
  {
   "cell_type": "code",
   "execution_count": null,
   "metadata": {
    "scrolled": false
   },
   "outputs": [
    {
     "name": "stdout",
     "output_type": "stream",
     "text": [
      "about | totalitarian, xun, dillinger, reverse, prefer\n",
      "while | statement, advised, phosphorylated, disgraceful, ebcdic\n",
      "six | emphasis, exhibitions, picket, cana, magma\n",
      "the | mulroney, backpacking, cabriolet, diketone, deluded\n",
      "they | corridors, prefaced, particulary, guest, cranach\n",
      "it | koine, cyclopentadienyl, bysshe, coand, poaching\n",
      "he | vitus, mashed, snes, santo, polygamous\n",
      "as | lxx, kilobytes, maris, unexploded, until\n",
      "professional | mega, loud, multipurpose, rien, inadequate\n",
      "articles | causeway, resumed, comers, sdi, hake\n",
      "joseph | rescues, wag, nuke, teshuva, dihedral\n",
      "cost | habsburgs, undifferentiated, nader, mitsumi, christological\n",
      "institute | overlying, custom, nitrogenous, waiting, desalination\n",
      "numerous | culhwch, srgb, passionately, agong, ordinis\n",
      "troops | kinetochore, squid, detailing, demokratika, fortune\n",
      "engineering | lomond, stuarts, q, mufti, jettisoned\n",
      "...\n",
      "american | demobilized, fritz, whitish, excommunicates, pumice\n",
      "of | pneumatology, oda, kierkegaard, voodoo, gaia\n",
      "states | appropriating, baez, unspectacular, gonna, pleiades\n",
      "used | surpass, newsletters, addiction, blofeld, underworld\n",
      "there | roasted, schenectady, laker, banner, mooney\n",
      "who | danced, outweighs, fir, beckhams, haemophilia\n",
      "some | melt, sepia, polo, tigre, conserve\n",
      "people | summations, overlordship, suevi, gallon, enol\n",
      "placed | ziggurat, yamaha, puppy, occasions, predation\n",
      "creation | dispensing, newtons, lmi, queries, posterior\n",
      "governor | blot, filmfour, kohlberg, dawes, resisting\n",
      "institute | overlying, desalination, jest, nitrogenous, custom\n",
      "operations | aroostook, troubadors, rioters, membership, biomedicine\n",
      "award | eloquence, decommissioning, su, uncritically, lint\n",
      "stage | scoop, decompose, mysia, mayen, erich\n",
      "discovered | recent, hasse, mileva, hennig, mccune\n",
      "...\n",
      "after | measles, deafness, tudes, picked, demonstrators\n",
      "over | jaggies, bahrain, farm, iast, glossing\n",
      "would | critical, slaughterhouse, hr, comm, adoptionism\n",
      "united | deutschlands, prestigious, brian, pimp, defect\n",
      "people | summations, overlordship, suevi, lydia, enol\n",
      "will | bedridden, phillips, hyperbola, lemy, genosha\n",
      "has | subduction, uppermost, pageant, recall, orientis\n",
      "these | roch, preface, sata, rapes, coleco\n",
      "operations | aroostook, rioters, troubadors, membership, lillie\n",
      "road | tolerance, enterprises, velikovsky, dram, snegur\n",
      "mainly | physiol, minimization, salafi, sensory, villages\n",
      "primarily | tropes, ballot, uncollected, divergences, rangers\n",
      "grand | yakov, bluebell, supervises, evinced, branding\n",
      "consists | supplement, chronometer, wieman, humphreys, appear\n",
      "award | eloquence, su, decommissioning, uncritically, distillation\n",
      "paris | unjustified, gare, hickory, wuxia, incantation\n",
      "...\n",
      "state | thrilled, emphasizing, casares, preoccupations, abac\n",
      "their | waveguide, ensues, bioprospecting, enacted, untitled\n",
      "four | kaw, outlines, construed, wordplay, luanda\n",
      "where | poisson, barreto, hitter, pernicious, timesharing\n",
      "may | disconnect, rutherford, freenet, thumb, choctaw\n",
      "b | joshua, damadian, chime, illuminations, lutenists\n",
      "into | musicians, canso, alen, warrants, ratifies\n",
      "an | sherry, hbo, await, igniting, banner\n",
      "ocean | limehouse, sorority, gramme, webcast, subregions\n",
      "writers | renovation, perception, durable, hagia, stormbl\n",
      "grand | yakov, bluebell, evinced, kio, dinneen\n",
      "something | mina, evangelic, ts, karelia, comanche\n",
      "operations | aroostook, rioters, troubadors, cutlery, lillie\n",
      "issue | considerations, mazovia, oilseed, neurologist, pelagianism\n",
      "bible | tended, offload, mastery, projects, intermingle\n",
      "applications | indifference, letterman, galatea, trapping, wasps\n",
      "...\n",
      "war | xxxi, protostomes, fanlisting, substantial, apocryphal\n",
      "at | invalidated, cutting, birth, transboundary, quantified\n",
      "not | unsolvable, plaguing, raeben, easters, medusa\n",
      "used | surpass, newsletters, hint, addiction, underworld\n",
      "were | stiller, arenas, transponder, jade, monro\n",
      "two | lautoka, hamptons, surrenders, walks, granta\n",
      "only | ige, bantam, papadopoulos, plummet, daytona\n",
      "five | hugos, connick, approximately, diametrically, strengthening\n",
      "pre | dressers, muzorewa, ez, spacewalk, militarized\n",
      "heavy | bleaching, efficiently, mudville, cotopaxi, sede\n",
      "powers | jubilee, interesting, jongg, ibid, homophones\n",
      "orthodox | rectify, ghats, cossa, canons, juliane\n",
      "liberal | misdemeanor, watershed, allies, ekam, beckhams\n",
      "arts | bang, mindset, megabits, basingstoke, poecilia\n",
      "articles | causeway, comers, resumed, sdi, discontinuity\n",
      "issue | considerations, mazovia, pelagianism, neurologist, oilseed\n",
      "...\n",
      "state | protruding, emphasizing, warlike, casares, abac\n",
      "are | unproduced, silicon, theists, laud, centraal\n",
      "most | judgement, schwarz, nsted, paint, gel\n",
      "and | obese, need, kensington, which, serials\n",
      "while | phosphorylated, advised, disgraceful, machismo, oldsmobile\n",
      "people | summations, hardening, poised, overlordship, suevi\n",
      "his | contract, boziz, testifying, mawson, josip\n",
      "at | invalidated, cutting, cancelled, imbued, ippolito\n",
      "pope | polymath, flagellates, washed, tripura, romanorum\n",
      "proposed | solms, multiple, besieged, milit, belarussian\n",
      "active | culture, aloysius, rushton, fdm, bumped\n",
      "behind | jewels, ladas, curran, lanterns, caspar\n",
      "derived | be, ani, buzzcocks, choral, pubic\n",
      "arts | bang, mindset, megabits, basingstoke, poecilia\n",
      "square | negotiation, quests, watertight, barrows, muad\n",
      "hold | avms, receipt, bauds, horsepower, bark\n",
      "...\n",
      "so | decoy, extravagant, constants, reintroduction, rapprochement\n",
      "an | await, igniting, hbo, malatesta, banner\n",
      "all | attract, havenco, challenged, escobar, compute\n",
      "b | joshua, damadian, lutenists, chime, illuminations\n",
      "time | aramaic, kinks, gibson, told, navigator\n",
      "during | archipelagic, cinema, annunciation, delegates, demetrius\n",
      "many | containing, smiling, greeks, rest, printable\n",
      "such | mesures, default, turkmen, rare, losslessly\n",
      "construction | ephrem, stirrings, harassment, potters, incantations\n",
      "paris | divorced, gare, unjustified, wuxia, incantation\n",
      "test | cheung, vim, tupelo, usaf, dynasts\n",
      "brother | eldest, lineages, tenochtitlan, lfdan, mgf\n",
      "report | photoelectric, brownian, vip, blended, ville\n",
      "heavy | bleaching, efficiently, cotopaxi, mudville, mythbusters\n",
      "applied | insect, kalashnikov, bridget, ambrosia, oceanian\n",
      "consists | chronometer, supplement, humphreys, partial, wieman\n",
      "...\n",
      "been | custom, sweets, feral, lumberjack, lactate\n",
      "up | karaoke, nagas, spiracles, delay, toxin\n",
      "into | musicians, canso, warrants, josie, historicist\n",
      "american | fritz, demobilized, bx, henning, pumice\n",
      "also | scope, donner, gecko, insiders, newsweek\n",
      "over | jaggies, bahrain, chemie, iast, glossing\n",
      "states | swedes, evaporates, urchin, southey, appropriating\n",
      "has | subduction, nmr, uppermost, pageant, recall\n",
      "stage | mayen, floyd, scoop, decompose, erich\n",
      "notes | wallachia, fourfold, greys, multiculturalism, jfduke\n",
      "primarily | ravi, uncollected, kpa, militarism, concerns\n",
      "joseph | nuke, bachman, teshuva, endure, gurney\n",
      "paris | unjustified, gare, wuxia, incantation, divorced\n",
      "universe | knopf, fractured, folklife, ringmaster, disassembly\n",
      "pope | polymath, washed, flagellates, tripura, romanorum\n",
      "road | snegur, tolerance, dram, velikovsky, whilst\n",
      "...\n",
      "been | sweets, custom, baikonur, lactate, betelgeuse\n",
      "war | fanlisting, xxxi, universalism, substantial, blakey\n",
      "three | mads, one, six, nancy, whitney\n",
      "two | zero, lautoka, unflattering, one, three\n",
      "seven | fyodor, ethnomusicologist, umbilical, dummy, wright\n",
      "had | loren, affections, wad, psycholinguistics, recruits\n",
      "called | ios, attractors, immersed, mappings, pointy\n",
      "from | unresolved, lymphocyte, nonterminals, tertium, consonants\n",
      "road | whilst, snegur, tolerance, velikovsky, dram\n",
      "bill | unip, narrator, martin, stifles, allen\n",
      "paris | gare, divorced, unjustified, wuxia, katharine\n",
      "powers | interesting, jongg, ibid, jubilee, belgium\n",
      "smith | scud, hue, paley, dakota, univ\n",
      "derived | script, ani, be, choral, pubic\n",
      "stage | mayen, floyd, scoop, erich, decompose\n",
      "police | haughton, ideals, springtime, heralded, regurgitated\n",
      "...\n",
      "it | bit, koine, concerts, smoothly, repeated\n",
      "people | hardening, summations, reforms, poised, suevi\n",
      "by | magisterial, jolla, applicable, actions, panned\n",
      "war | fanlisting, substantial, universalism, xxxi, arabia\n",
      "b | joshua, damadian, lutenists, leslie, relocating\n",
      "three | one, mads, six, eight, two\n",
      "he | deceitful, santo, snoop, trusting, polygamous\n",
      "or | differentiate, telescope, refered, prophylaxis, flourish\n",
      "lived | scorecard, frogs, avalon, wallach, earliest\n",
      "applied | insect, bridget, kalashnikov, oceanian, welch\n",
      "animals | squealer, cryoprotectants, trilobite, undivided, reservoir\n",
      "road | snegur, whilst, velikovsky, enterprises, tolerance\n",
      "shows | skyways, residential, bolt, installation, kidding\n",
      "frac | goofy, denatured, ablaut, crowding, assumes\n",
      "liberal | allies, watershed, misdemeanor, ekam, beckhams\n",
      "bible | tended, mastery, mentions, interpretations, offload\n",
      "...\n",
      "system | runs, dagmar, rotation, pancreatic, proprietary\n",
      "such | rare, shalem, anchorite, turkmen, festive\n",
      "time | aramaic, gibson, lowly, kinks, told\n",
      "will | bedridden, hyperbola, zermelo, phillips, seemingly\n",
      "from | unresolved, lymphocyte, nonterminals, weill, consonants\n",
      "where | poisson, barreto, pernicious, hitter, artur\n",
      "have | verbal, chooses, unsound, sensitivity, secreted\n",
      "most | judgement, gel, nsted, schwarz, paint\n",
      "ice | asymmetric, infoplease, erasing, sv, soot\n",
      "mathematics | mcc, kilometres, coordinate, antibody, liliopsida\n",
      "running | archery, housman, wallonia, starling, zacharias\n",
      "issue | mazovia, neurologist, considerations, oilseed, pelagianism\n",
      "marriage | morrill, stood, magazines, simmering, mccall\n",
      "bible | mastery, tended, mentions, hamill, spook\n",
      "taking | optimised, orthographic, argc, schnauzer, cancellation\n",
      "writers | perception, archivist, hypertalk, stormbl, community\n",
      "...\n",
      "people | hardening, summations, poised, suevi, reforms\n",
      "up | karaoke, delay, cultivars, nagas, alfaro\n",
      "over | bahrain, jaggies, beating, chemie, birthrate\n",
      "with | homeworld, bikini, bongo, prohibiting, schiller\n",
      "may | disconnect, qualified, freenet, succinctly, ria\n",
      "two | zero, one, three, four, lautoka\n",
      "states | beagle, tibetan, plinth, accrington, urchin\n",
      "new | wai, renfrew, tombaugh, refactoring, flavio\n",
      "event | chilling, pool, tragedies, heijenoort, casuistry\n",
      "account | rectangles, quoting, hwang, retrospect, relaxing\n",
      "professional | mega, multipurpose, earthlike, loud, puppies\n",
      "units | hopelessness, spaceship, trabzon, incrimination, equipage\n",
      "ocean | limehouse, oceans, subregions, gramme, sorority\n",
      "governor | blot, filmfour, bicameral, kohlberg, dawes\n",
      "placed | ziggurat, uniformed, chargers, cantar, kannapolis\n",
      "rise | pmsd, chaucer, dump, franchises, fedex\n",
      "...\n",
      "so | extravagant, reintroduction, constants, feet, surnames\n",
      "or | differentiate, telescope, prophylaxis, choose, flourish\n",
      "had | wad, loren, affections, power, gokturks\n",
      "a | khazaria, iast, electronically, played, dembski\n",
      "only | ige, tribunals, voir, chumash, ppt\n",
      "war | fanlisting, substantial, xxxi, arabia, universalism\n",
      "i | brassy, opry, dreadlocks, bracelet, contemplated\n",
      "united | prestigious, deutschlands, brian, africana, pimp\n",
      "recorded | blackheath, doesburg, clinton, cert, inheriting\n",
      "bbc | canyons, hutch, sergius, bis, cyclopaedia\n",
      "engine | affirmative, jumped, tactical, underflow, ccitt\n",
      "ice | infoplease, asymmetric, sv, erasing, harriet\n",
      "mathematics | kilometres, mcc, coordinate, knot, nsson\n",
      "lived | scorecard, manz, frogs, domesday, hyperinsulinism\n",
      "paris | gare, divorced, katharine, wuxia, unjustified\n",
      "square | negotiation, simian, quests, tropane, beulah\n",
      "...\n",
      "their | ensues, waveguide, touched, knew, bioprospecting\n",
      "nine | five, one, seven, eight, three\n",
      "of | the, postcolonial, emerge, therus, s\n",
      "state | reorganised, university, emphasizing, spacing, warlike\n",
      "eight | one, four, three, six, five\n",
      "would | devito, ariane, adoptionism, slaughterhouse, embarrassing\n",
      "d | one, ernst, daly, in, gummo\n",
      "such | coroners, shalem, rare, anchorite, turkmen\n",
      "hit | berliner, niccolo, rcs, guadeloupe, whirlwind\n",
      "existence | subduing, pineal, countermeasures, cancellations, mahal\n",
      "paris | gare, katharine, wuxia, trials, occitan\n",
      "operating | maintainability, aerodynamics, walrus, core, kumba\n",
      "bbc | sergius, canyons, hutch, bis, stingray\n",
      "institute | overlying, assures, wiki, volcanism, analyzing\n",
      "notes | wallachia, fourfold, apo, jfduke, ein\n",
      "behind | ladas, jewels, shoot, curran, gulch\n",
      "...\n",
      "b | joshua, lutenists, leslie, gaud, musician\n",
      "such | coroners, rare, turkmen, mills, shalem\n",
      "but | abrupt, praetorian, god, bps, landy\n",
      "has | pageant, nmr, adherence, marmosets, ludvig\n",
      "between | west, scipio, discordian, rerum, moorish\n",
      "have | chooses, tumbler, verbal, sensitivity, differ\n",
      "american | fritz, nigger, canadian, demobilized, lagged\n",
      "which | boasian, nonaligned, vald, epistemic, renamed\n",
      "mainly | villages, prescribes, physiol, spoils, sensory\n",
      "arts | mindset, bang, communaute, doha, bulwer\n",
      "bill | geraldine, unip, endeavors, bargain, frank\n",
      "gold | fallible, camelopardalis, ministries, tons, desertification\n",
      "question | awareness, dread, habermas, subterfuge, bolden\n",
      "engineering | lomond, speculates, fpu, jettisoned, hazor\n",
      "running | housman, archery, wallonia, starling, kelsey\n",
      "construction | potters, aristocratic, harassment, killer, booke\n",
      "...\n",
      "system | runs, systems, proprietary, dagmar, rotation\n",
      "of | the, boroughs, staat, unaffiliated, therus\n",
      "however | logical, elia, fddi, frites, pythagoreans\n",
      "at | cancelled, experimenter, inaccurate, haddon, ippolito\n",
      "there | mooney, schenectady, ligurian, usa, walras\n",
      "up | spiracles, karaoke, guadalcanal, tapes, cultivars\n",
      "if | grundy, endomorphisms, coincidentally, awt, proposition\n",
      "than | markkaa, bobble, higher, dispersive, smaller\n",
      "operations | aroostook, crustal, amx, technology, libraries\n",
      "placed | ziggurat, poles, uniformed, lightning, bsec\n",
      "alternative | maximization, delgado, comets, binders, ruggiero\n",
      "freedom | overheard, fiqh, libertarianism, chthonic, reasoned\n",
      "heavy | efficiently, cotopaxi, bleaching, hudd, miserably\n",
      "bbc | sergius, hutch, canyons, bis, doomsday\n",
      "universe | afraid, knopf, gravitational, folklife, monic\n",
      "square | negotiation, tropane, dredging, simian, paved\n",
      "...\n",
      "other | rspca, expropriation, hunmin, weights, members\n",
      "in | delius, birthstone, kiel, leinster, siege\n",
      "if | grundy, coincidentally, endomorphisms, proposition, awt\n",
      "there | ligurian, mooney, usa, over, schenectady\n",
      "first | valois, bot, antonov, strait, sith\n",
      "to | wrong, mellows, make, bring, that\n",
      "has | pageant, nmr, unprovoked, adherence, simian\n",
      "were | stiller, transponder, olmsted, rejected, arenas\n",
      "governor | blot, dawes, filmfour, bicameral, icrm\n",
      "older | misnomer, cartier, theatrics, hypro, jasmuheen\n",
      "egypt | employment, fluently, ncb, galicia, attack\n",
      "ocean | subregions, oceans, limehouse, lodi, offshore\n",
      "versions | software, version, verified, emmer, stressed\n",
      "professional | mega, earthlike, ousting, zealand, cana\n",
      "account | rectangles, quoting, kbit, intelligible, relaxing\n",
      "rise | pmsd, chaucer, fedex, eng, late\n",
      "...\n"
     ]
    }
   ],
   "source": [
    "# check if GPU is available\n",
    "device = 'cuda' if torch.cuda.is_available() else 'cpu'\n",
    "\n",
    "embedding_dim=300 # you can change, if you want\n",
    "\n",
    "model = SkipGram(len(vocab_to_int), embedding_dim).to(device)\n",
    "criterion = nn.NLLLoss()\n",
    "optimizer = optim.Adam(model.parameters(), lr=0.003)\n",
    "\n",
    "print_every = 500\n",
    "steps = 0\n",
    "epochs = 5\n",
    "\n",
    "# train for some number of epochs\n",
    "for e in range(epochs):\n",
    "    \n",
    "    # get input and target batches\n",
    "    for inputs, targets in get_batches(train_words, 512):\n",
    "        steps += 1\n",
    "        inputs, targets = torch.LongTensor(inputs), torch.LongTensor(targets)\n",
    "        inputs, targets = inputs.to(device), targets.to(device)\n",
    "        \n",
    "        log_ps = model(inputs)\n",
    "        loss = criterion(log_ps, targets)\n",
    "        optimizer.zero_grad()\n",
    "        loss.backward()\n",
    "        optimizer.step()\n",
    "\n",
    "        if steps % print_every == 0:                  \n",
    "            # getting examples and similarities      \n",
    "            valid_examples, valid_similarities = cosine_similarity(model.embed, device=device)\n",
    "            _, closest_idxs = valid_similarities.topk(6) # topk highest similarities\n",
    "            \n",
    "            valid_examples, closest_idxs = valid_examples.to('cpu'), closest_idxs.to('cpu')\n",
    "            for ii, valid_idx in enumerate(valid_examples):\n",
    "                closest_words = [int_to_vocab[idx.item()] for idx in closest_idxs[ii]][1:]\n",
    "                print(int_to_vocab[valid_idx.item()] + \" | \" + ', '.join(closest_words))\n",
    "            print(\"...\")"
   ]
  },
  {
   "cell_type": "markdown",
   "metadata": {},
   "source": [
    "## Visualizing the word vectors\n",
    "\n",
    "Below we'll use T-SNE to visualize how our high-dimensional word vectors cluster together. T-SNE is used to project these vectors into two dimensions while preserving local stucture. Check out [this post from Christopher Olah](http://colah.github.io/posts/2014-10-Visualizing-MNIST/) to learn more about T-SNE and other ways to visualize high-dimensional data."
   ]
  },
  {
   "cell_type": "code",
   "execution_count": null,
   "metadata": {},
   "outputs": [],
   "source": [
    "%matplotlib inline\n",
    "%config InlineBackend.figure_format = 'retina'\n",
    "\n",
    "import matplotlib.pyplot as plt\n",
    "from sklearn.manifold import TSNE"
   ]
  },
  {
   "cell_type": "code",
   "execution_count": null,
   "metadata": {},
   "outputs": [],
   "source": [
    "# getting embeddings from the embedding layer of our model, by name\n",
    "embeddings = model.embed.weight.to('cpu').data.numpy()"
   ]
  },
  {
   "cell_type": "code",
   "execution_count": null,
   "metadata": {},
   "outputs": [],
   "source": [
    "viz_words = 600\n",
    "tsne = TSNE()\n",
    "embed_tsne = tsne.fit_transform(embeddings[:viz_words, :])"
   ]
  },
  {
   "cell_type": "code",
   "execution_count": null,
   "metadata": {},
   "outputs": [],
   "source": [
    "fig, ax = plt.subplots(figsize=(16, 16))\n",
    "for idx in range(viz_words):\n",
    "    plt.scatter(*embed_tsne[idx, :], color='steelblue')\n",
    "    plt.annotate(int_to_vocab[idx], (embed_tsne[idx, 0], embed_tsne[idx, 1]), alpha=0.7)"
   ]
  },
  {
   "cell_type": "code",
   "execution_count": null,
   "metadata": {},
   "outputs": [],
   "source": []
  }
 ],
 "metadata": {
  "kernelspec": {
   "display_name": "Python 3",
   "language": "python",
   "name": "python3"
  },
  "language_info": {
   "codemirror_mode": {
    "name": "ipython",
    "version": 3
   },
   "file_extension": ".py",
   "mimetype": "text/x-python",
   "name": "python",
   "nbconvert_exporter": "python",
   "pygments_lexer": "ipython3",
   "version": "3.6.3"
  }
 },
 "nbformat": 4,
 "nbformat_minor": 2
}
