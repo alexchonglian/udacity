{
 "cells": [
  {
   "cell_type": "markdown",
   "metadata": {
    "editable": true
   },
   "source": [
    "# Analyzing NBA player and team stats with Spark/Redshift\n",
    "### Data Engineering Capstone Project\n",
    "\n",
    "#### Project Summary\n",
    "\n",
    "\n",
    "The project follows the follow steps:\n",
    "* Step 1: Scope the Project and Gather Data\n",
    "* Step 2: Explore and Assess the Data\n",
    "* Step 3: Define the Data Model\n",
    "* Step 4: Run ETL to Model the Data\n",
    "* Step 5: Complete Project Write Up"
   ]
  },
  {
   "cell_type": "markdown",
   "metadata": {
    "editable": true
   },
   "source": [
    "## Step 1: Scope the Project and Gather Data\n",
    "\n",
    "### Scope\n",
    "\n",
    "The goal of this capstone project is to:\n",
    "* Collect NBA player data, season stats data, and team data.\n",
    "* Extract data from S3 files (in csv, json, txt format) to Spark DataFrame.\n",
    "* Clean and transform data using Spark, load data back to S3 in parquet format.\n",
    "* Load them to Redshift tables.\n",
    "    * on high level, the data model I'm thinking about looks like:\n",
    "\n",
    "<img src=\"data-model-high-lvl.png\">\n",
    "\n",
    "* Analyze NBA dataset for more insights using SQL. I will try to write some queries to answer questions, e.g. \n",
    "  * What is the best winning percentage team?\n",
    "  * Which team have the most star players?\n",
    "  * Top 10 coach in history?\n",
    "  * The most efficient player? The best 3 point shooter? The best defensive player in terms of block and steal?\n",
    "  * How does the game evolve over time? for example, shooting more 3 pointers? or focusing more on defense?\n",
    "\n",
    "\n",
    "### Describe and Gather Data \n",
    "\n",
    "#### DataSet 1: NBA player and player stats per season.\n",
    "https://www.kaggle.com/drgilermo/nba-players-stats\n",
    "\n",
    "This dataset contains aggregate individual statistics for 67 NBA seasons. from basic box-score attributes such as points, assists, rebounds etc., to more advanced money-ball like features such as Value Over Replacement.\n",
    "The data was scraped from [basketball-reference](https://www.basketball-reference.com/)\n",
    "\n",
    "* **Players.csv**: \n",
    "This file basic player information, e.g. weight, height, college.\n",
    "Since all the play names in this file are unique, I will mainly use this csv file to create player table. Sample data:\n",
    "|Id | Player | height | weight | collage | born | birth_city | birth_state |\n",
    "|:-|:-|:-|:-|:-|:-|:-|:-|\n",
    "|2590 | Vince Carter | 198 | 99 | University of North Carolina | 1977 | Daytona Beach | Florida |\n",
    "\n",
    "* **player_data.json**: \n",
    "This file contains extra player information, e.g. more accurate birth date.\n",
    "Since this file contains duplicate NBA players names, as I show in Step 2: Explore and Assess the Data, for this project, I will only use it to augment the birth date information in the player table.\n",
    "```\n",
    "    \"4290\": {\n",
    "        \"name\": \"Russell Westbrook\",\n",
    "        \"year_start\": \"2009\",\n",
    "        \"year_end\": \"2018\",\n",
    "        \"position\": \"G\",\n",
    "        \"height\": \"6-3\",\n",
    "        \"weight\": \"200\",\n",
    "        \"birth_date\": \"November 12, 1988\",\n",
    "        \"college\": \"University of California, Los Angeles\"\n",
    "    }\n",
    "```\n",
    "\n",
    "* **Seasons_Stats.csv**: \n",
    "This file contains NBA player stats over all the seasons, from 1950 to 2015. \n",
    "The column names are abbreviated, e.g. **3P%** - 3-Point Field Goal Percentage (available since the 1979-80 season in the NBA); the formula is 3P / 3PA.\n",
    "More detailed column description can be found in [glossary](https://www.basketball-reference.com/about/glossary.html)\n",
    "Maybe expand them to more human readable format when creating tables on Redshift. Sample data:\n",
    "\n",
    "| Id | Year | Player | Pos | Age | Tm | ... | AST | STL | BLK | TOV | PF | PTS |\n",
    "|:-|:-|:-|:-|:-|:-|:-|:-|:-|:-|:-|:-|:-|\n",
    "| 16746 | 2004 | LeBron James | SG | 19 | CLE | ... | 465 | 130 | 58 | 273 | 149 | 1654 |\n",
    "\n",
    "\n",
    "\n",
    "#### DataSet 2: NBA team record per season.\n",
    "https://www.kaggle.com/boonpalipatana/nba-season-records-from-every-year\n",
    "This dataset contains every season record for each NBA teams from 73 seasons (#wins, #losses, standing, playoff result, and more).\n",
    "* **Team_Records.csv**:\n",
    "This file contains every season record for each NBA team from 73 seasons, from 1946 to 2017.\n",
    "\n",
    "| Season | Lg | Team | W | L | W/L% | Finish | ...  | Coaches | Top WS |\n",
    "|:-|:-|:-|:-|:-|:-|:-|:-|:-|:-|\n",
    "| 2004-05 | NBA | Boston Celtics* | 45 | 37 | 0.549 | 1 | ...       | D. Rivers (45-37) | P. Pierce (11.2) |\n",
    "| 2003-04 | NBA | Boston Celtics* | 36 | 46 | 0.439 | 4 | ...       | J. O'Brien (22-24) J. Carroll (14-22) | P. Pierce (7.1) |\n",
    "\n",
    "Multiple coaches can coach the same team in a season, thus I need to parse \"J. O'Brien (22-24) J. Carroll (14-22),P. Pierce (7.1)\" into a list of coaching history.\n",
    "\n",
    "\n",
    "#### DataSet 3: NBA team timeline.\n",
    "http://www.shrpsports.com/nba/explain.htm\n",
    "\n",
    "This is a webpage that contains team name, team abbrevation, start and end season.\n",
    "Dataset 1 (player stats) uses team abbrevation, while dataset 2 (team stats) uses full team name, establishing the mapping between abbrev and full name (e.g. GSW => Golden State Warrior) requires a lots of manual work, I hope to automate joining two tables using information in this webpage.\n",
    "\n",
    "* **team-abbrevation.txt**:\n",
    "This files contains city, abbrevation, team name and time.\n",
    "\n",
    "```\n",
    "...\n",
    "Baltimore    \tBal\tBaltimore Bullets [2nd team] (1963-64 - 1972-73)\n",
    "Boston       \tBos\tBoston Celtics (1946-47 - present)\n",
    "Brooklyn     \tBkn\tBrooklyn Nets (2012-13 - present)\n",
    "Buffalo      \tBuf\tBuffalo Braves (1970-71 - 1977-78)\n",
    "Capital      \tCap\tCapital Bullets (1973-74)\n",
    "Charlotte    \tCha\tCharlotte Hornets (1988-89 - 2001-02, 2014-15 - present)\n",
    "Cha Bobcats  \tChB\tCharlotte Bobcats (2004-05 - 2013-14)\n",
    "...\n",
    "```"
   ]
  },
  {
   "cell_type": "markdown",
   "metadata": {
    "editable": true
   },
   "source": [
    "## Step 2: Explore and Assess the Data\n",
    "#### Explore the Data \n",
    "Identify data quality issues, like missing values, duplicate data, etc.\n",
    "\n",
    "#### Cleaning Steps\n",
    "Document steps necessary to clean the data"
   ]
  },
  {
   "cell_type": "code",
   "execution_count": 1,
   "metadata": {
    "editable": true
   },
   "outputs": [],
   "source": [
    "import boto3\n",
    "import os\n",
    "import configparser\n",
    "from datetime import datetime\n",
    "from pyspark.sql import SparkSession\n",
    "import pyspark.sql.functions as F\n",
    "from pyspark.sql.functions import udf, col, isnan, when, count, trim, desc, sum, asc\n",
    "from pyspark.sql.functions import year, month, dayofmonth, hour, weekofyear, date_format\n",
    "from pyspark.sql.functions import countDistinct, explode, split, concat_ws, collect_list\n",
    "from pyspark.sql.types import (\n",
    "    StructType as R,\n",
    "    StructField as Fld,\n",
    "    DoubleType as Dbl,\n",
    "    StringType as Str,\n",
    "    IntegerType as Int,\n",
    "    DateType as Date,\n",
    "    TimestampType as Ts,\n",
    ")"
   ]
  },
  {
   "cell_type": "code",
   "execution_count": 2,
   "metadata": {
    "editable": true
   },
   "outputs": [],
   "source": [
    "config = configparser.ConfigParser()\n",
    "\n",
    "#Normally this file should be in ~/.aws/credentials\n",
    "config.read_file(open('dwh.cfg'))\n",
    "\n",
    "KEY                    = config.get('AWS','KEY')\n",
    "SECRET                 = config.get('AWS','SECRET')\n",
    "\n",
    "os.environ[\"AWS_ACCESS_KEY_ID\"]= config['AWS']['KEY']\n",
    "os.environ[\"AWS_SECRET_ACCESS_KEY\"]= config['AWS']['SECRET']"
   ]
  },
  {
   "cell_type": "code",
   "execution_count": 3,
   "metadata": {
    "editable": true
   },
   "outputs": [],
   "source": [
    "spark = SparkSession.builder\\\n",
    "                     .config(\"spark.jars.packages\",\"org.apache.hadoop:hadoop-aws:2.7.0\")\\\n",
    "                     .getOrCreate()"
   ]
  },
  {
   "cell_type": "markdown",
   "metadata": {
    "editable": true
   },
   "source": [
    "### Load Players.csv into dataFrame \"dfPlayer\", this file contains NBA player data, will use this df to create dfPlayerJoin"
   ]
  },
  {
   "cell_type": "code",
   "execution_count": 5,
   "metadata": {
    "editable": true
   },
   "outputs": [
    {
     "name": "stdout",
     "output_type": "stream",
     "text": [
      "+---+---------------+------+------+--------------------+----+-----------+-----------+\n",
      "| id|           name|height|weight|             collage|born| birth_city|birth_state|\n",
      "+---+---------------+------+------+--------------------+----+-----------+-----------+\n",
      "|  0|Curly Armstrong|   180|    77|  Indiana University|1918|       null|       null|\n",
      "|  1|   Cliff Barker|   188|    83|University of Ken...|1921|   Yorktown|    Indiana|\n",
      "|  2|  Leo Barnhorst|   193|    86|University of Not...|1924|       null|       null|\n",
      "|  3|     Ed Bartels|   196|    88|North Carolina St...|1925|       null|       null|\n",
      "|  4|    Ralph Beard|   178|    79|University of Ken...|1927|Hardinsburg|   Kentucky|\n",
      "+---+---------------+------+------+--------------------+----+-----------+-----------+\n",
      "only showing top 5 rows\n",
      "\n",
      "count =  3922\n"
     ]
    }
   ],
   "source": [
    "# load players.csv\n",
    "playerSchema = R([\n",
    "    Fld(\"id\", Int()),\n",
    "    Fld(\"name\", Str()), # rename column, Player => name\n",
    "    Fld(\"height\", Int()), # cm\n",
    "    Fld(\"weight\", Int()), # kg\n",
    "    Fld(\"collage\", Str()), # I know it's misspelled (collage => college), will rename column later, when joining with dfPlayerExtra\n",
    "    Fld(\"born\", Int()),\n",
    "    Fld(\"birth_city\", Str()),\n",
    "    Fld(\"birth_state\", Str()),\n",
    "])\n",
    "dfPlayer = spark.read.csv(\"s3a://udacity-data-eng-capstone/Players.csv\", header=True, schema=playerSchema)\n",
    "#dfPlayer.printSchema()\n",
    "dfPlayer.show(5)\n",
    "print(\"count = \", dfPlayer.count())"
   ]
  },
  {
   "cell_type": "code",
   "execution_count": 6,
   "metadata": {
    "editable": true
   },
   "outputs": [
    {
     "name": "stdout",
     "output_type": "stream",
     "text": [
      "+--------------+\n",
      "|          name|\n",
      "+--------------+\n",
      "|Allen Iverson*|\n",
      "+--------------+\n",
      "\n",
      "+---------+\n",
      "|     name|\n",
      "+---------+\n",
      "|Yao Ming*|\n",
      "+---------+\n",
      "\n"
     ]
    }
   ],
   "source": [
    "dfPlayer.select(\"name\").where(dfPlayer.name.like('%Iverson%')).show()\n",
    "dfPlayer.select(\"name\").where(dfPlayer.name.like('%Yao Ming%')).show()"
   ]
  },
  {
   "cell_type": "markdown",
   "metadata": {
    "editable": true
   },
   "source": [
    "#### Need to clean up player name, some hall of famer have star in their names \"Yao Ming*\", \"Allen Iverson*\""
   ]
  },
  {
   "cell_type": "code",
   "execution_count": 7,
   "metadata": {
    "editable": true
   },
   "outputs": [],
   "source": [
    "# trim * in name\n",
    "dfPlayer = dfPlayer.withColumn(\"name\", F.regexp_replace(\"name\", \"\\*+\", \"\"))\n",
    "#dfPlayer = dfPlayer.withColumn(\"name\", F.regexp_replace(\"name\", \"([\\w+\\s]+)\", \"$1\")) #figure out capture group"
   ]
  },
  {
   "cell_type": "code",
   "execution_count": 8,
   "metadata": {
    "editable": true
   },
   "outputs": [
    {
     "name": "stdout",
     "output_type": "stream",
     "text": [
      "+-------------+\n",
      "|         name|\n",
      "+-------------+\n",
      "|Allen Iverson|\n",
      "+-------------+\n",
      "\n",
      "+--------+\n",
      "|    name|\n",
      "+--------+\n",
      "|Yao Ming|\n",
      "+--------+\n",
      "\n"
     ]
    }
   ],
   "source": [
    "# verify names are trimmed\n",
    "dfPlayer.select(\"name\").where(dfPlayer.name.like('%Iverson%')).show()\n",
    "dfPlayer.select(\"name\").where(dfPlayer.name.like('%Yao Ming%')).show()"
   ]
  },
  {
   "cell_type": "code",
   "execution_count": 9,
   "metadata": {
    "editable": true
   },
   "outputs": [
    {
     "name": "stdout",
     "output_type": "stream",
     "text": [
      "+-------------+-----+\n",
      "|name         |count|\n",
      "+-------------+-----+\n",
      "|Patrick Ewing|2    |\n",
      "|Gary Payton  |2    |\n",
      "+-------------+-----+\n",
      "\n"
     ]
    }
   ],
   "source": [
    "# player with the same name?\n",
    "dfPlayer.groupBy(\"name\").count().filter(\"count > 1\").show(truncate=False)"
   ]
  },
  {
   "cell_type": "code",
   "execution_count": 10,
   "metadata": {
    "editable": true
   },
   "outputs": [
    {
     "name": "stdout",
     "output_type": "stream",
     "text": [
      "+----+-------------+------+------+---------------------+----+----------+-----------+\n",
      "|id  |name         |height|weight|collage              |born|birth_city|birth_state|\n",
      "+----+-------------+------+------+---------------------+----+----------+-----------+\n",
      "|1721|Patrick Ewing|213   |108   |Georgetown University|1962|Kingston  |Jamaica    |\n",
      "|3406|Patrick Ewing|213   |108   |Georgetown University|1962|Kingston  |Jamaica    |\n",
      "+----+-------------+------+------+---------------------+----+----------+-----------+\n",
      "\n",
      "+----+-----------+------+------+-----------------------+----+----------+-----------+\n",
      "|id  |name       |height|weight|collage                |born|birth_city|birth_state|\n",
      "+----+-----------+------+------+-----------------------+----+----------+-----------+\n",
      "|2099|Gary Payton|193   |81    |Oregon State University|1968|Oakland   |California |\n",
      "|3894|Gary Payton|193   |81    |Oregon State University|1968|Oakland   |California |\n",
      "+----+-----------+------+------+-----------------------+----+----------+-----------+\n",
      "\n"
     ]
    }
   ],
   "source": [
    "# inspect player with identical names\n",
    "dfPlayer.where(dfPlayer.name == 'Patrick Ewing').show(truncate=False)\n",
    "dfPlayer.where(dfPlayer.name == 'Gary Payton').show(truncate=False)"
   ]
  },
  {
   "cell_type": "code",
   "execution_count": 11,
   "metadata": {
    "editable": true
   },
   "outputs": [
    {
     "name": "stdout",
     "output_type": "stream",
     "text": [
      "before delete, num rows 3922\n",
      "after  delete, num rows 3920\n"
     ]
    }
   ],
   "source": [
    "# Since they have identical record, except id, so its safe to drop them\n",
    "print(\"before delete, num rows\", dfPlayer.count())\n",
    "dfPlayer = dfPlayer.dropDuplicates([\"name\", \"born\"])\n",
    "print(\"after  delete, num rows\", dfPlayer.count())"
   ]
  },
  {
   "cell_type": "markdown",
   "metadata": {
    "editable": true
   },
   "source": [
    "#### Load player_data2.json into dataFrame \"dfplayExtra\", this file contains duplicate player names, also the birth date is more accurate than Players.csv\n",
    "\n",
    "* both dfPlayer and dfPlayerExtra have weight and height columns, but unit is different, keep dfPlayer's height and weight.\n",
    "* will parse player birth from dfPlayerExtra, and add extra colums (birth_day, birth_month, birth_year) to dfPlayer."
   ]
  },
  {
   "cell_type": "code",
   "execution_count": 12,
   "metadata": {
    "editable": true
   },
   "outputs": [
    {
     "name": "stdout",
     "output_type": "stream",
     "text": [
      "+----------------+--------------------+------+-------------------+--------+------+--------+----------+\n",
      "|      birth_date|             college|height|               name|position|weight|year_end|year_start|\n",
      "+----------------+--------------------+------+-------------------+--------+------+--------+----------+\n",
      "|   June 24, 1968|     Duke University|  6-10|     Alaa Abdelnaby|     F-C| 240.0|    1995|      1991|\n",
      "|   April 7, 1946|Iowa State Univer...|   6-9|    Zaid Abdul-Aziz|     C-F| 235.0|    1978|      1969|\n",
      "|  April 16, 1947|University of Cal...|   7-2|Kareem Abdul-Jabbar|       C| 225.0|    1989|      1970|\n",
      "|   March 9, 1969|Louisiana State U...|   6-1| Mahmoud Abdul-Rauf|       G| 162.0|    2001|      1991|\n",
      "|November 3, 1974|San Jose State Un...|   6-6|  Tariq Abdul-Wahad|       F| 223.0|    2003|      1998|\n",
      "+----------------+--------------------+------+-------------------+--------+------+--------+----------+\n",
      "only showing top 5 rows\n",
      "\n",
      "count =  4550\n"
     ]
    }
   ],
   "source": [
    "# load player_data2.json\n",
    "playerExtraSchema = R([\n",
    "    Fld(\"name\", Str()),\n",
    "    Fld(\"year_start\", Int()),\n",
    "    Fld(\"year_end\", Int()),\n",
    "    Fld(\"position\", Str()),\n",
    "    Fld(\"height\", Str()), # feet-inches\n",
    "    Fld(\"weight\", Int()), # pound lbs\n",
    "    Fld(\"birth_date\", Str()),\n",
    "    Fld(\"college\", Str()),\n",
    "])\n",
    "# json file was generated by `df.to_json('player_data2.json', orient='records', indent=4)`\n",
    "dfPlayerExtra = spark.read.option(\"multiline\", \"true\").json(\n",
    "    \"s3a://udacity-data-eng-capstone/player_data2.json\"\n",
    ")\n",
    "#dfPlayerExtra.printSchema()\n",
    "dfPlayerExtra.show(5)\n",
    "print(\"count = \", dfPlayerExtra.count())"
   ]
  },
  {
   "cell_type": "code",
   "execution_count": 13,
   "metadata": {
    "editable": true
   },
   "outputs": [
    {
     "name": "stdout",
     "output_type": "stream",
     "text": [
      "+------------+--------------------+------+-----------+--------+------+--------+----------+\n",
      "|  birth_date|             college|height|       name|position|weight|year_end|year_start|\n",
      "+------------+--------------------+------+-----------+--------+------+--------+----------+\n",
      "|May 12, 1952|University of Nor...|  null|George Karl|    null|  null|    1978|      1974|\n",
      "+------------+--------------------+------+-----------+--------+------+--------+----------+\n",
      "\n"
     ]
    }
   ],
   "source": [
    "# some row has missing value\n",
    "dfPlayerExtra.where(dfPlayerExtra.name == \"George Karl\").show()"
   ]
  },
  {
   "cell_type": "code",
   "execution_count": 14,
   "metadata": {
    "editable": true
   },
   "outputs": [
    {
     "data": {
      "text/plain": [
       "0"
      ]
     },
     "execution_count": 14,
     "metadata": {},
     "output_type": "execute_result"
    }
   ],
   "source": [
    "# before parsing birth_date column, verify no missing value in birth_date column\n",
    "dfPlayerExtra.where(dfPlayerExtra.birth_date == None).count()"
   ]
  },
  {
   "cell_type": "code",
   "execution_count": 15,
   "metadata": {
    "editable": true
   },
   "outputs": [],
   "source": [
    "# trim * in name column\n",
    "# split and parse birth_date into 3 columns(year, month, day)\n",
    "\n",
    "dfPlayerExtra = dfPlayerExtra.withColumn(\n",
    "    \"name\", F.regexp_replace(\"name\", \"\\*+\", \"\") # trim * in name\n",
    ").withColumn(\n",
    "    \"birth_date_split\", F.split(F.regexp_replace(\"birth_date\", \",\", \"\"), \" \")\n",
    ")\n",
    "\n",
    "dfPlayerExtra = dfPlayerExtra.withColumn(\n",
    "    \"birth_month\", dfPlayerExtra.birth_date_split.getItem(0) # need to convert Jan=>1\n",
    ").withColumn(\n",
    "    \"birth_day\",   dfPlayerExtra.birth_date_split.getItem(1).cast(Int())\n",
    ").withColumn(\n",
    "    \"birth_year\",  dfPlayerExtra.birth_date_split.getItem(2).cast(Int())\n",
    ").drop(\n",
    "    \"birth_date_split\"\n",
    ").drop(\n",
    "    \"birth_date\"\n",
    ").dropna(\n",
    "    subset=[\"birth_year\", \"birth_month\", \"birth_day\"]\n",
    ")"
   ]
  },
  {
   "cell_type": "code",
   "execution_count": 16,
   "metadata": {
    "editable": true
   },
   "outputs": [
    {
     "name": "stdout",
     "output_type": "stream",
     "text": [
      "+-------------------+----------+-----------+---------+\n",
      "|               name|birth_year|birth_month|birth_day|\n",
      "+-------------------+----------+-----------+---------+\n",
      "|     Alaa Abdelnaby|      1968|       June|       24|\n",
      "|    Zaid Abdul-Aziz|      1946|      April|        7|\n",
      "|Kareem Abdul-Jabbar|      1947|      April|       16|\n",
      "| Mahmoud Abdul-Rauf|      1969|      March|        9|\n",
      "|  Tariq Abdul-Wahad|      1974|   November|        3|\n",
      "+-------------------+----------+-----------+---------+\n",
      "only showing top 5 rows\n",
      "\n"
     ]
    }
   ],
   "source": [
    "# verify\n",
    "dfPlayerExtra.select([\"name\", \"birth_year\", \"birth_month\", \"birth_day\"]).show(5)"
   ]
  },
  {
   "cell_type": "code",
   "execution_count": 17,
   "metadata": {
    "editable": true
   },
   "outputs": [
    {
     "name": "stdout",
     "output_type": "stream",
     "text": [
      "+-----------+\n",
      "|birth_month|\n",
      "+-----------+\n",
      "|       July|\n",
      "|   November|\n",
      "|   February|\n",
      "|    January|\n",
      "|      March|\n",
      "|    October|\n",
      "|        May|\n",
      "|     August|\n",
      "|      April|\n",
      "|       June|\n",
      "|   December|\n",
      "|  September|\n",
      "+-----------+\n",
      "\n"
     ]
    }
   ],
   "source": [
    "# find all distinct months\n",
    "dfPlayerExtra.select(\"birth_month\").dropDuplicates().show()"
   ]
  },
  {
   "cell_type": "code",
   "execution_count": 18,
   "metadata": {
    "editable": true
   },
   "outputs": [],
   "source": [
    "# convert month Str=>Int, e.g. Jan=>1\n",
    "map_month = {\n",
    "    \"July\":         7,\n",
    "    \"November\":     11,\n",
    "    \"February\":     2,\n",
    "    \"January\":      1,\n",
    "    \"March\":        3,\n",
    "    \"October\":      10,\n",
    "    \"May\":          5,\n",
    "    \"August\":       8,\n",
    "    \"April\":        4,\n",
    "    \"June\":         6,\n",
    "    \"December\":     12,\n",
    "    \"September\":    9,\n",
    "}\n",
    "\n",
    "def translate(mapping):\n",
    "    def translate_(col):\n",
    "        return mapping.get(col, col)\n",
    "    return udf(translate_, Int())\n",
    "\n",
    "dfPlayerExtra = dfPlayerExtra.withColumn(\"birth_month\", translate(map_month)(\"birth_month\"))"
   ]
  },
  {
   "cell_type": "code",
   "execution_count": 19,
   "metadata": {
    "editable": true
   },
   "outputs": [
    {
     "name": "stdout",
     "output_type": "stream",
     "text": [
      "+-----------+\n",
      "|birth_month|\n",
      "+-----------+\n",
      "|         12|\n",
      "|          1|\n",
      "|          6|\n",
      "|          3|\n",
      "|          5|\n",
      "|          9|\n",
      "|          4|\n",
      "|          8|\n",
      "|          7|\n",
      "|         10|\n",
      "|         11|\n",
      "|          2|\n",
      "+-----------+\n",
      "\n",
      "+--------------------+------+---------------+--------+------+--------+----------+-----------+---------+----------+\n",
      "|             college|height|           name|position|weight|year_end|year_start|birth_month|birth_day|birth_year|\n",
      "+--------------------+------+---------------+--------+------+--------+----------+-----------+---------+----------+\n",
      "|     Duke University|  6-10| Alaa Abdelnaby|     F-C| 240.0|    1995|      1991|          6|       24|      1968|\n",
      "|Iowa State Univer...|   6-9|Zaid Abdul-Aziz|     C-F| 235.0|    1978|      1969|          4|        7|      1946|\n",
      "+--------------------+------+---------------+--------+------+--------+----------+-----------+---------+----------+\n",
      "only showing top 2 rows\n",
      "\n"
     ]
    }
   ],
   "source": [
    "# check translate is successful\n",
    "dfPlayerExtra.select(\"birth_month\").dropDuplicates().show()\n",
    "dfPlayerExtra.show(2)\n",
    "#dfPlayerExtra.printSchema()"
   ]
  },
  {
   "cell_type": "code",
   "execution_count": 20,
   "metadata": {
    "editable": true
   },
   "outputs": [],
   "source": [
    "# add column birth_ds (datestamp), will later separate (year, month, day, ts) to a dim table later, when loading to Redshift\n",
    "from datetime import datetime\n",
    "\n",
    "def translate():\n",
    "    def translate_(y, m, d):\n",
    "        return datetime(y, m, d)\n",
    "    return udf(translate_, Date())\n",
    "\n",
    "dfPlayerExtra = dfPlayerExtra.withColumn(\"birth_ds\", translate()(\"birth_year\", \"birth_month\", \"birth_day\"))"
   ]
  },
  {
   "cell_type": "code",
   "execution_count": 21,
   "metadata": {
    "editable": true
   },
   "outputs": [
    {
     "name": "stdout",
     "output_type": "stream",
     "text": [
      "+--------------------+------+---------------+--------+------+--------+----------+-----------+---------+----------+----------+\n",
      "|             college|height|           name|position|weight|year_end|year_start|birth_month|birth_day|birth_year|  birth_ds|\n",
      "+--------------------+------+---------------+--------+------+--------+----------+-----------+---------+----------+----------+\n",
      "|     Duke University|  6-10| Alaa Abdelnaby|     F-C| 240.0|    1995|      1991|          6|       24|      1968|1968-06-24|\n",
      "|Iowa State Univer...|   6-9|Zaid Abdul-Aziz|     C-F| 235.0|    1978|      1969|          4|        7|      1946|1946-04-07|\n",
      "+--------------------+------+---------------+--------+------+--------+----------+-----------+---------+----------+----------+\n",
      "only showing top 2 rows\n",
      "\n"
     ]
    }
   ],
   "source": [
    "# check add column successfully\n",
    "#dfPlayerExtra.printSchema()\n",
    "dfPlayerExtra.show(2)"
   ]
  },
  {
   "cell_type": "code",
   "execution_count": 22,
   "metadata": {
    "editable": true
   },
   "outputs": [],
   "source": [
    "uniqPlayer      = [r[0] for r in dfPlayer.     select(\"name\").dropDuplicates().collect()]\n",
    "uniqPlayerExtra = [r[0] for r in dfPlayerExtra.select(\"name\").dropDuplicates().collect()]"
   ]
  },
  {
   "cell_type": "code",
   "execution_count": 23,
   "metadata": {
    "editable": true
   },
   "outputs": [
    {
     "name": "stdout",
     "output_type": "stream",
     "text": [
      "585\n"
     ]
    }
   ],
   "source": [
    "# players in extra, not in orig table\n",
    "diff1 = set(uniqPlayerExtra) - set(uniqPlayer)\n",
    "print(len(diff1))"
   ]
  },
  {
   "cell_type": "code",
   "execution_count": 24,
   "metadata": {
    "editable": true
   },
   "outputs": [
    {
     "name": "stdout",
     "output_type": "stream",
     "text": [
      "35\n",
      "{'Juan Carlos', 'Whitey Von', 'Sheldon McClellan', 'Metta World', 'Vinny Del', 'Joe Barry', 'Butch Van', 'Peter John', 'Walter Tavares', 'Billy Ray', 'Dick Van', 'Eddie Lee', 'Johnny Macknowski', 'Don Bielke', 'Bob Schafer', 'Horacio Llamas', 'Jan Van', 'Luc Mbah', 'Nick Van', 'Norm Van', 'Micheal Ray', 'Keith Van', 'James Michael', 'World B.', 'Nando De', \"Mike O'Neill\", 'Frank Reddout', 'Wah Wah', 'Logan Vander', 'George Bon', 'Hot Rod', 'Ken McBride', 'nan', 'Jo Jo', 'Tom Van'}\n"
     ]
    }
   ],
   "source": [
    "# players in orig table, not in extra\n",
    "# dfPlayer p1 left join dfPlayerExtra p2 on p1.name = p2.name, how many rows will have null value on p2\n",
    "diff2 = set(uniqPlayer) - set(uniqPlayerExtra)\n",
    "print(len(diff2))\n",
    "print(diff2)"
   ]
  },
  {
   "cell_type": "code",
   "execution_count": 25,
   "metadata": {
    "editable": true
   },
   "outputs": [
    {
     "name": "stdout",
     "output_type": "stream",
     "text": [
      "+---+----+------+------+-------+----+----------+-----------+\n",
      "| id|name|height|weight|collage|born|birth_city|birth_state|\n",
      "+---+----+------+------+-------+----+----------+-----------+\n",
      "|  0|   0|     1|     1|    348|   1|       470|        483|\n",
      "+---+----+------+------+-------+----+----------+-----------+\n",
      "\n",
      "+-------+------+----+--------+------+--------+----------+-----------+---------+----------+--------+\n",
      "|college|height|name|position|weight|year_end|year_start|birth_month|birth_day|birth_year|birth_ds|\n",
      "+-------+------+----+--------+------+--------+----------+-----------+---------+----------+--------+\n",
      "|    301|     1|   0|       1|     5|       0|         0|          0|        0|         0|       0|\n",
      "+-------+------+----+--------+------+--------+----------+-----------+---------+----------+--------+\n",
      "\n"
     ]
    }
   ],
   "source": [
    "# print the count of null for each columns\n",
    "dfPlayer.select([count(when(col(c).isNull(), c)).alias(c) for c in dfPlayer.columns]).show()\n",
    "dfPlayerExtra.select([count(when(col(c).isNull(), c)).alias(c) for c in dfPlayerExtra.columns]).show()"
   ]
  },
  {
   "cell_type": "code",
   "execution_count": 26,
   "metadata": {
    "editable": true
   },
   "outputs": [
    {
     "name": "stdout",
     "output_type": "stream",
     "text": [
      "dfPlayer      count =  3920\n",
      "dfPlayerExtra count =  4519\n",
      "dfJoinPlayer  count =  3920\n"
     ]
    }
   ],
   "source": [
    "# join dfPlayer and dfPlayerExtra\n",
    "# fill college column\n",
    "dfJoinPlayer = dfPlayer.join(\n",
    "    dfPlayerExtra,\n",
    "    (dfPlayer.name == dfPlayerExtra.name) & (dfPlayer.born == dfPlayerExtra.birth_year),\n",
    "    \"left\"\n",
    ").withColumn(\n",
    "    \"college\", F.coalesce(dfPlayer.collage, dfPlayerExtra.college)\n",
    ").drop(\n",
    "    dfPlayer.born\n",
    ").drop(\n",
    "    dfPlayerExtra.name\n",
    ").drop(\n",
    "    dfPlayerExtra.height\n",
    ").drop(\n",
    "    dfPlayerExtra.weight\n",
    ").drop(\n",
    "    dfPlayer.collage\n",
    ").drop(\n",
    "    dfPlayerExtra.college\n",
    ")\n",
    "\n",
    "print(\"dfPlayer      count = \", dfPlayer.count())\n",
    "print(\"dfPlayerExtra count = \", dfPlayerExtra.count())\n",
    "print(\"dfJoinPlayer  count = \", dfJoinPlayer.count())"
   ]
  },
  {
   "cell_type": "code",
   "execution_count": 27,
   "metadata": {
    "editable": true
   },
   "outputs": [
    {
     "name": "stdout",
     "output_type": "stream",
     "text": [
      "root\n",
      " |-- id: integer (nullable = true)\n",
      " |-- name: string (nullable = true)\n",
      " |-- height: integer (nullable = true)\n",
      " |-- weight: integer (nullable = true)\n",
      " |-- birth_city: string (nullable = true)\n",
      " |-- birth_state: string (nullable = true)\n",
      " |-- college: string (nullable = true)\n",
      " |-- position: string (nullable = true)\n",
      " |-- year_end: long (nullable = true)\n",
      " |-- year_start: long (nullable = true)\n",
      " |-- birth_month: integer (nullable = true)\n",
      " |-- birth_day: integer (nullable = true)\n",
      " |-- birth_year: integer (nullable = true)\n",
      " |-- birth_ds: date (nullable = true)\n",
      "\n",
      "+---+----------------+------+------+-----------+-----------+--------------------+--------+--------+----------+-----------+---------+----------+----------+\n",
      "| id|            name|height|weight| birth_city|birth_state|             college|position|year_end|year_start|birth_month|birth_day|birth_year|  birth_ds|\n",
      "+---+----------------+------+------+-----------+-----------+--------------------+--------+--------+----------+-----------+---------+----------+----------+\n",
      "|877|Bobby Washington|   180|    79|       null|       null|Eastern Kentucky ...|       G|    1972|      1970|          7|       11|      1947|1947-07-11|\n",
      "|523|         Don Ohl|   190|    86|Murphysboro|   Illinois|University of Ill...|       G|    1970|      1961|          4|       18|      1936|1936-04-18|\n",
      "+---+----------------+------+------+-----------+-----------+--------------------+--------+--------+----------+-----------+---------+----------+----------+\n",
      "only showing top 2 rows\n",
      "\n"
     ]
    }
   ],
   "source": [
    "dfJoinPlayer.printSchema()\n",
    "dfJoinPlayer.show(2)"
   ]
  },
  {
   "cell_type": "code",
   "execution_count": 28,
   "metadata": {
    "editable": true
   },
   "outputs": [
    {
     "name": "stdout",
     "output_type": "stream",
     "text": [
      "+---+----+------+------+----------+-----------+-------+--------+--------+----------+-----------+---------+----------+--------+\n",
      "| id|name|height|weight|birth_city|birth_state|college|position|year_end|year_start|birth_month|birth_day|birth_year|birth_ds|\n",
      "+---+----+------+------+----------+-----------+-------+--------+--------+----------+-----------+---------+----------+--------+\n",
      "|  0|   0|     1|     1|       470|        483|    332|     276|     275|       275|        275|      275|       275|     275|\n",
      "+---+----+------+------+----------+-----------+-------+--------+--------+----------+-----------+---------+----------+--------+\n",
      "\n"
     ]
    }
   ],
   "source": [
    "dfJoinPlayer.select([count(when(col(c).isNull(), c)).alias(c) for c in dfJoinPlayer.columns]).show()"
   ]
  },
  {
   "cell_type": "code",
   "execution_count": 29,
   "metadata": {
    "editable": true
   },
   "outputs": [
    {
     "name": "stdout",
     "output_type": "stream",
     "text": [
      "+----+--------------------+------+------+----------+-----------+-------+--------+--------+----------+-----------+---------+----------+----------+\n",
      "|  id|                name|height|weight|birth_city|birth_state|college|position|year_end|year_start|birth_month|birth_day|birth_year|  birth_ds|\n",
      "+----+--------------------+------+------+----------+-----------+-------+--------+--------+----------+-----------+---------+----------+----------+\n",
      "|3865|    Juan Hernangomez|   206|   104|    Madrid|      Spain|   null|       F|    2018|      2017|          9|       28|      1995|1995-09-28|\n",
      "|3881|Timothe Luwawu-Ca...|   198|    92|    Cannes|     France|   null|       F|    2018|      2017|          5|        9|      1995|1995-05-09|\n",
      "|2955|       Darko Milicic|   213|   113|  Novi Sad|     Serbia|   null|     F-C|    2013|      2004|          6|       20|      1985|1985-06-20|\n",
      "|2771|       Hedo Turkoglu|   208|    99|  Istanbul|     Turkey|   null|       F|    2015|      2001|          3|       19|      1979|1979-03-19|\n",
      "|2574|           Keith Van|   208|   104|      null|       null|   null|    null|    null|      null|       null|     null|      null|      null|\n",
      "+----+--------------------+------+------+----------+-----------+-------+--------+--------+----------+-----------+---------+----------+----------+\n",
      "only showing top 5 rows\n",
      "\n"
     ]
    }
   ],
   "source": [
    "dfJoinPlayer.where(dfJoinPlayer.college.isNull()).show(5)"
   ]
  },
  {
   "cell_type": "code",
   "execution_count": 30,
   "metadata": {
    "editable": true
   },
   "outputs": [
    {
     "data": {
      "text/plain": [
       "332"
      ]
     },
     "execution_count": 30,
     "metadata": {},
     "output_type": "execute_result"
    }
   ],
   "source": [
    "dfJoinPlayer.where(dfJoinPlayer.college.isNull()).count()"
   ]
  },
  {
   "cell_type": "markdown",
   "metadata": {
    "editable": true
   },
   "source": [
    "#### Create dfBirthTime dataframe and save to s3."
   ]
  },
  {
   "cell_type": "code",
   "execution_count": 31,
   "metadata": {
    "editable": true
   },
   "outputs": [
    {
     "data": {
      "text/plain": [
       "3407"
      ]
     },
     "execution_count": 31,
     "metadata": {},
     "output_type": "execute_result"
    }
   ],
   "source": [
    "dfBirthTime = dfJoinPlayer.select([\"birth_ds\", \"birth_year\", \"birth_month\", \"birth_day\"]).dropDuplicates().dropna(\"any\")\n",
    "dfBirthTime.count()"
   ]
  },
  {
   "cell_type": "code",
   "execution_count": null,
   "metadata": {
    "editable": true
   },
   "outputs": [],
   "source": [
    "dfBirthTime.write.parquet(\"s3a://udacity-data-eng-capstone-parquet/dimBirthTime/\", mode=\"overwrite\")"
   ]
  },
  {
   "cell_type": "markdown",
   "metadata": {
    "editable": true
   },
   "source": [
    "#### Create dfTeamStats"
   ]
  },
  {
   "cell_type": "code",
   "execution_count": 32,
   "metadata": {
    "editable": true
   },
   "outputs": [
    {
     "name": "stdout",
     "output_type": "stream",
     "text": [
      "+-------+------+---------------+----+------+-----+------+-----+----+--------+-----+--------+-----+--------+--------------------+------------------+----------------+\n",
      "| season|league|           team|wins|losses|wl_pc|finish|  srs|pace|rel_pace| ortg|rel_ortg| drtg|rel_drtg|            playoffs|           coaches|          top_ws|\n",
      "+-------+------+---------------+----+------+-----+------+-----+----+--------+-----+--------+-----+--------+--------------------+------------------+----------------+\n",
      "|2017-18|   NBA| Boston Celtics|  29|    10|0.744|     1| 4.38|95.4|    -1.7|108.0|     0.2|102.8|    -5.0|                null|B. Stevens (29-10)| K. Irving (5.7)|\n",
      "|2016-17|   NBA|Boston Celtics*|  53|    29|0.646|     1| 2.25|96.8|     0.4|111.2|     2.4|108.4|    -0.4|Lost E. Conf. Finals|B. Stevens (53-29)|I. Thomas (12.5)|\n",
      "|2015-16|   NBA|Boston Celtics*|  48|    34|0.585|     2| 2.84|98.5|     2.7|106.8|     0.4|103.6|    -2.8|Lost E. Conf. 1st...|B. Stevens (48-34)| I. Thomas (9.7)|\n",
      "|2014-15|   NBA|Boston Celtics*|  40|    42|0.488|     2| -0.4|95.8|     1.9|104.7|    -0.9|104.5|    -1.1|Lost E. Conf. 1st...|B. Stevens (40-42)| T. Zeller (6.5)|\n",
      "|2013-14|   NBA| Boston Celtics|  25|    57|0.305|     4|-4.97|93.3|    -0.6|102.9|    -3.8|107.7|     1.0|                null|B. Stevens (25-57)|   B. Bass (5.1)|\n",
      "|2012-13|   NBA|Boston Celtics*|  41|    40|0.506|     3|-0.62|91.7|    -0.3|103.1|    -2.8|103.3|    -2.6|Lost E. Conf. 1st...| D. Rivers (41-40)| P. Pierce (7.2)|\n",
      "|2011-12|   NBA|Boston Celtics*|  39|    27|0.591|     1| 2.26|90.4|    -0.9|101.0|    -3.6| 98.2|    -6.4|Lost E. Conf. Finals| D. Rivers (39-27)| P. Pierce (7.0)|\n",
      "|2010-11|   NBA|Boston Celtics*|  56|    26|0.683|     1| 4.83|90.4|    -1.7|106.2|    -1.1|100.3|    -7.0| Lost E. Conf. Semis| D. Rivers (56-26)|P. Pierce (11.6)|\n",
      "|2009-10|   NBA|Boston Celtics*|  50|    32| 0.61|     1| 3.37|91.6|    -1.1|107.7|     0.1|103.8|    -3.8|         Lost Finals| D. Rivers (50-32)|  R. Rondo (9.6)|\n",
      "|2008-09|   NBA|Boston Celtics*|  62|    20|0.756|     1| 7.44|90.4|    -1.3|110.5|     2.2|102.3|    -6.0| Lost E. Conf. Semis| D. Rivers (62-20)| R. Allen (11.1)|\n",
      "+-------+------+---------------+----+------+-----+------+-----+----+--------+-----+--------+-----+--------+--------------------+------------------+----------------+\n",
      "only showing top 10 rows\n",
      "\n",
      "count =  1483\n"
     ]
    }
   ],
   "source": [
    "teamStatsSchema = R([       # orig col  renamed     description\n",
    "    Fld(\"season\", Str()),   # Season    season      .\n",
    "    Fld(\"league\", Str()),   # Lg        league      .\n",
    "    Fld(\"team\", Str()),     # Team      team        .\n",
    "    Fld(\"wins\", Int()),     # W         wins        .\n",
    "    Fld(\"losses\", Int()),   # L         losses      .\n",
    "    Fld(\"wl_pc\", Dbl()),    # W/L%      wl_pc       Win-Loss Percentage\n",
    "    Fld(\"finish\", Int()),   # Finish    finish standing\n",
    "    Fld(\"srs\", Dbl()),      # SRS       srs         Simple Rating System\n",
    "    Fld(\"pace\", Dbl()),     # Pace      pace        Pace Factor - the number of possessions a team uses per game\n",
    "    Fld(\"rel_pace\", Dbl()), # Rel_Pace  rel_pace    relative Pace\n",
    "    Fld(\"ortg\", Dbl()),     # ORtg      ortg        Offensive Rating\n",
    "    Fld(\"rel_ortg\", Dbl()), # Rel_ORtg  rel_ortg    relative Offensive Rating\n",
    "    Fld(\"drtg\", Dbl()),     # DRtg      drtg        Defensive Rating\n",
    "    Fld(\"rel_drtg\", Dbl()), # Rel_DRtg  rel_drtg    relative Defensive Rating\n",
    "    Fld(\"playoffs\", Str()), # Playoffs  playoffs    .\n",
    "    Fld(\"coaches\", Str()),  # Coaches   coaches     a team can have multiple coaches throughout a season\n",
    "    Fld(\"top_ws\", Str()),   # Top WS    top_ws      top Win Share, this col seems the best player on team\n",
    "])\n",
    "dfTeamStats = spark.read.csv(\n",
    "    \"s3a://udacity-data-eng-capstone/Team_Records.csv\",\n",
    "    header=True, schema=teamStatsSchema,\n",
    ")\n",
    "#dfTeamStats.printSchema()\n",
    "dfTeamStats.show(10)\n",
    "print(\"count = \", dfTeamStats.count())"
   ]
  },
  {
   "cell_type": "code",
   "execution_count": 33,
   "metadata": {
    "editable": true
   },
   "outputs": [
    {
     "data": {
      "text/plain": [
       "[Row(playoffs='Lost W. Div. Semis', count=34),\n",
       " Row(playoffs='Won Finals', count=75),\n",
       " Row(playoffs='Lost E. Div. Third Place Tiebreaker', count=1),\n",
       " Row(playoffs='Lost E. Div. Semis', count=32),\n",
       " Row(playoffs='Lost W. Conf. 1st Rnd.', count=152),\n",
       " Row(playoffs='Lost W. Div. Finals', count=26),\n",
       " Row(playoffs='Lost 1st Rnd.', count=1),\n",
       " Row(playoffs=None, count=623),\n",
       " Row(playoffs='Lost W. Conf. Finals', count=47),\n",
       " Row(playoffs='Lost W. Conf. Semis', count=94),\n",
       " Row(playoffs='Lost Central Div. Finals', count=1),\n",
       " Row(playoffs='Lost Semis', count=2),\n",
       " Row(playoffs='Lost Finals', count=73),\n",
       " Row(playoffs='Lost E. Conf. Finals', count=47),\n",
       " Row(playoffs='Eliminated in E. Div. Rnd. Robin', count=1),\n",
       " Row(playoffs='Lost E. Conf. 1st Rnd.', count=152),\n",
       " Row(playoffs='Lost Central Div. Semis', count=1),\n",
       " Row(playoffs='Lost Quarterfinals', count=2),\n",
       " Row(playoffs='Lost E. Conf. Semis', count=94),\n",
       " Row(playoffs='Lost E. Div. Finals', count=22),\n",
       " Row(playoffs='Lost W. Div. Tiebreaker', count=2),\n",
       " Row(playoffs='Eliminated in W. Div. Rnd. Robin', count=1)]"
      ]
     },
     "execution_count": 33,
     "metadata": {},
     "output_type": "execute_result"
    }
   ],
   "source": [
    "# figure out a way to quantify playoffs column\n",
    "#dfTeamStats.select(dfTeamStats.playoffs).dropDuplicates().collect()\n",
    "dfTeamStats.groupBy(dfTeamStats.playoffs).count().collect()"
   ]
  },
  {
   "cell_type": "code",
   "execution_count": 34,
   "metadata": {
    "editable": true
   },
   "outputs": [
    {
     "name": "stdout",
     "output_type": "stream",
     "text": [
      "+-------+------+--------------+----+------+-----+------+----+----+--------+-----+--------+-----+--------+--------+------------------+---------------+-------------+\n",
      "| season|league|          team|wins|losses|wl_pc|finish| srs|pace|rel_pace| ortg|rel_ortg| drtg|rel_drtg|playoffs|           coaches|         top_ws|playoff_score|\n",
      "+-------+------+--------------+----+------+-----+------+----+----+--------+-----+--------+-----+--------+--------+------------------+---------------+-------------+\n",
      "|2017-18|   NBA|Boston Celtics|  29|    10|0.744|     1|4.38|95.4|    -1.7|108.0|     0.2|102.8|    -5.0|    null|B. Stevens (29-10)|K. Irving (5.7)|            0|\n",
      "+-------+------+--------------+----+------+-----+------+----+----+--------+-----+--------+-----+--------+--------+------------------+---------------+-------------+\n",
      "only showing top 1 row\n",
      "\n",
      "[Row(season='2007-08', team='Boston Celtics', playoffs='Won Finals', playoff_score=6)]\n",
      "[Row(season='2009-10', team='Boston Celtics', playoffs='Lost Finals', playoff_score=5)]\n",
      "[Row(season='1974-75', team='Denver Nuggets', playoffs='Lost W. Div. Finals', playoff_score=4)]\n",
      "[Row(season='2003-04', team='Minnesota Timberwolves', playoffs='Lost W. Conf. Finals', playoff_score=4)]\n",
      "[Row(season='1949-50', team='Fort Wayne Pistons', playoffs='Lost Central Div. Finals', playoff_score=4)]\n",
      "[Row(season='2016-17', team='Boston Celtics', playoffs='Lost E. Conf. Finals', playoff_score=4)]\n",
      "[Row(season='1966-67', team='Boston Celtics', playoffs='Lost E. Div. Finals', playoff_score=4)]\n",
      "[Row(season='1947-48', team='Boston Celtics', playoffs='Lost Quarterfinals', playoff_score=3)]\n",
      "[Row(season='1972-73', team='Denver Rockets', playoffs='Lost W. Div. Semis', playoff_score=3)]\n",
      "[Row(season='1955-56', team='Boston Celtics', playoffs='Lost E. Div. Semis', playoff_score=3)]\n",
      "[Row(season='2012-13', team='Oklahoma City Thunder', playoffs='Lost W. Conf. Semis', playoff_score=3)]\n",
      "[Row(season='1946-47', team='New York Knicks', playoffs='Lost Semis', playoff_score=3)]\n",
      "[Row(season='1949-50', team='Rochester Royals', playoffs='Lost Central Div. Semis', playoff_score=3)]\n",
      "[Row(season='2010-11', team='Boston Celtics', playoffs='Lost E. Conf. Semis', playoff_score=3)]\n",
      "[Row(season='2015-16', team='Boston Celtics', playoffs='Lost E. Conf. 1st Rnd.', playoff_score=2)]\n",
      "[Row(season='2002-03', team='Minnesota Timberwolves', playoffs='Lost W. Conf. 1st Rnd.', playoff_score=2)]\n",
      "[Row(season='1975-76', team='Indiana Pacers', playoffs='Lost 1st Rnd.', playoff_score=2)]\n",
      "[Row(season='1973-74', team='Denver Rockets', playoffs='Lost W. Div. Tiebreaker', playoff_score=1)]\n",
      "[Row(season='1953-54', team='Fort Wayne Pistons', playoffs='Eliminated in W. Div. Rnd. Robin', playoff_score=1)]\n",
      "[Row(season='1953-54', team='New York Knicks', playoffs='Eliminated in E. Div. Rnd. Robin', playoff_score=1)]\n",
      "[Row(season='1955-56', team='New York Knicks', playoffs='Lost E. Div. Third Place Tiebreaker', playoff_score=1)]\n"
     ]
    }
   ],
   "source": [
    "# convert playoff string to playoff score, championship is 6, not in playoff is 0, \"???\" means I'm not sure either\n",
    "map_playoff_score = {\n",
    "    None:                       0, # count=623\n",
    "\n",
    "    'Won Finals':               6, # count=75\n",
    "    'Lost Finals':              5, # count=73\n",
    "\n",
    "    'Lost W. Div. Finals':      4, # count=26\n",
    "    'Lost W. Conf. Finals':     4, # count=47\n",
    "    'Lost Central Div. Finals': 4, # count=1\n",
    "    'Lost E. Conf. Finals':     4, # count=47\n",
    "    'Lost E. Div. Finals':      4, # count=22\n",
    "\n",
    "    'Lost Quarterfinals':       3, # count=2 ???\n",
    "    'Lost W. Div. Semis':       3, # count=34\n",
    "    'Lost E. Div. Semis':       3, # count=32\n",
    "    'Lost W. Conf. Semis':      3, # count=94\n",
    "    'Lost Semis':               3, # count=2\n",
    "    'Lost Central Div. Semis':  3, # count=1\n",
    "    'Lost E. Conf. Semis':      3, # count=94\n",
    "\n",
    "    'Lost E. Conf. 1st Rnd.':   2, # count=152\n",
    "    'Lost W. Conf. 1st Rnd.':   2, # count=152\n",
    "    'Lost 1st Rnd.':            2, # count=1\n",
    "\n",
    "    'Lost W. Div. Tiebreaker':              1, # count=2 ???\n",
    "    'Eliminated in W. Div. Rnd. Robin':     1, # count=1 ???\n",
    "    'Eliminated in E. Div. Rnd. Robin':     1, # count=1 ???\n",
    "    'Lost E. Div. Third Place Tiebreaker':  1, # count=1 ???\n",
    "}\n",
    "\n",
    "def translate(mapping):\n",
    "    def translate_(col):\n",
    "        return mapping.get(col, col)\n",
    "    return udf(translate_, Int())\n",
    "\n",
    "dfTeamStats = dfTeamStats.withColumn(\n",
    "    \"playoff_score\", translate(map_playoff_score)(\"playoffs\")\n",
    ").withColumn(\n",
    "    # need to clean up * in name column, e.g. \"Boston Celtics*\", * means this team is in playoff that year\n",
    "    \"team\", F.regexp_replace(\"team\", \"\\*+\", \"\")    \n",
    ")\n",
    "\n",
    "dfTeamStats.where(dfTeamStats.playoffs.isNull()).show(1)\n",
    "\n",
    "for playoffs_str in ['Won Finals','Lost Finals',\n",
    "                     'Lost W. Div. Finals','Lost W. Conf. Finals','Lost Central Div. Finals','Lost E. Conf. Finals','Lost E. Div. Finals',\n",
    "                     'Lost Quarterfinals',\n",
    "                     'Lost W. Div. Semis','Lost E. Div. Semis','Lost W. Conf. Semis','Lost Semis','Lost Central Div. Semis','Lost E. Conf. Semis',\n",
    "                     'Lost E. Conf. 1st Rnd.','Lost W. Conf. 1st Rnd.','Lost 1st Rnd.',\n",
    "                     'Lost W. Div. Tiebreaker','Eliminated in W. Div. Rnd. Robin','Eliminated in E. Div. Rnd. Robin','Lost E. Div. Third Place Tiebreaker']:\n",
    "    print(dfTeamStats.where(dfTeamStats.playoffs == playoffs_str).select([\"season\", \"team\", \"playoffs\", \"playoff_score\"]).limit(1).collect())"
   ]
  },
  {
   "cell_type": "markdown",
   "metadata": {
    "editable": true
   },
   "source": [
    "#### Create dfCoache from dfTeamStats"
   ]
  },
  {
   "cell_type": "code",
   "execution_count": 35,
   "metadata": {
    "editable": true
   },
   "outputs": [
    {
     "data": {
      "text/plain": [
       "[Row(coaches='D. Chaney (15-24) H. Williams (1-0) L. Wilkens (23-19)')]"
      ]
     },
     "execution_count": 35,
     "metadata": {},
     "output_type": "execute_result"
    }
   ],
   "source": [
    "# coaches column are non structured string, need to explode the column into multiple rows\n",
    "dfTeamStats.where(\"season = '2003-04' and team = 'New York Knicks'\").select(\"coaches\").collect()"
   ]
  },
  {
   "cell_type": "code",
   "execution_count": 36,
   "metadata": {
    "editable": true
   },
   "outputs": [
    {
     "name": "stdout",
     "output_type": "stream",
     "text": [
      "root\n",
      " |-- season: string (nullable = true)\n",
      " |-- league: string (nullable = true)\n",
      " |-- team: string (nullable = true)\n",
      " |-- finish: integer (nullable = true)\n",
      " |-- top_ws: string (nullable = true)\n",
      " |-- coach: string (nullable = true)\n",
      " |-- wins: integer (nullable = true)\n",
      " |-- losses: integer (nullable = true)\n",
      "\n",
      "+-------+------+--------------+------+---------------+----------+----+------+\n",
      "| season|league|          team|finish|         top_ws|     coach|wins|losses|\n",
      "+-------+------+--------------+------+---------------+----------+----+------+\n",
      "|2017-18|   NBA|Boston Celtics|     1|K. Irving (5.7)|B. Stevens|  29|    10|\n",
      "+-------+------+--------------+------+---------------+----------+----+------+\n",
      "only showing top 1 row\n",
      "\n",
      "+-------+------+---------------+------+----------------+-----------+----+------+\n",
      "| season|league|           team|finish|          top_ws|      coach|wins|losses|\n",
      "+-------+------+---------------+------+----------------+-----------+----+------+\n",
      "|2003-04|   NBA|New York Knicks|     3|S. Marbury (5.5)|  D. Chaney|  15|    24|\n",
      "|2003-04|   NBA|New York Knicks|     3|S. Marbury (5.5)|H. Williams|   1|     0|\n",
      "|2003-04|   NBA|New York Knicks|     3|S. Marbury (5.5)| L. Wilkens|  23|    19|\n",
      "+-------+------+---------------+------+----------------+-----------+----+------+\n",
      "\n"
     ]
    }
   ],
   "source": [
    "# copy to dfCoache\n",
    "dfCoache = dfTeamStats.withColumn(\n",
    "    'coach_and_stat', explode(F.split(dfTeamStats.coaches, '\\) '))\n",
    ").select([\"coach_and_stat\", \"season\", \"league\", \"team\", \"finish\", \"top_ws\"])\n",
    "\n",
    "# parse: \"D. Chaney (15-24)\" => [\"D. Chaney\", 15, 24]\n",
    "dfCoache = dfCoache.withColumn(\n",
    "    \"coach_and_stat\", F.split(\n",
    "        F.regexp_replace(\n",
    "            F.regexp_replace(\"coach_and_stat\", \"\\)$\", \"\"),\n",
    "            \" \\(\",\n",
    "            \"-\"),\n",
    "        \"-\"\n",
    "    )\n",
    ")\n",
    "\n",
    "dfCoache = dfCoache.withColumn(\n",
    "    \"coach\", dfCoache.coach_and_stat.getItem(0).cast(Str())\n",
    ").withColumn(\n",
    "    \"wins\", dfCoache.coach_and_stat.getItem(1).cast(Int())\n",
    ").withColumn(\n",
    "    \"losses\", dfCoache.coach_and_stat.getItem(2).cast(Int())\n",
    ").drop(\n",
    "    \"coach_and_stat\"\n",
    ")\n",
    "dfCoache.printSchema()\n",
    "dfCoache.show(1)\n",
    "dfCoache.where(\"season = '2003-04' and team = 'New York Knicks'\").show()"
   ]
  },
  {
   "cell_type": "markdown",
   "metadata": {
    "editable": true
   },
   "source": [
    "#### create dfPlayerStats"
   ]
  },
  {
   "cell_type": "code",
   "execution_count": 40,
   "metadata": {
    "editable": true
   },
   "outputs": [
    {
     "name": "stdout",
     "output_type": "stream",
     "text": [
      "+---+----+---------------+---+---+----+---+----+----+----+-----+----+-----+-----+-----+-----+-----+-----+-----+-----+-----+-----+----+----+----+-------+------+----+----+----+----+---+---+-----+----+----+----+---+---+-----+-----+---+---+-----+----+----+----+---+----+----+----+---+---+\n",
      "| id|year|         player|pos|age|team|  g|  gs|  mp| per| ts_p|3par|  ftr|orb_p|drb_p|trb_p|ast_p|stl_p|blk_p|tov_p|usg_p|blanl| ows| dws|  ws|ws_o_48|blank2|obpm|dbpm| bpm|vorp| fg|fga| fg_p|  3p| 3pa|3p_p| 2p|2pa| 2p_p|efg_p| ft|fta| ft_p| orb| drb| trb|ast| stl| blk| tov| pf|pts|\n",
      "+---+----+---------------+---+---+----+---+----+----+----+-----+----+-----+-----+-----+-----+-----+-----+-----+-----+-----+-----+----+----+----+-------+------+----+----+----+----+---+---+-----+----+----+----+---+---+-----+-----+---+---+-----+----+----+----+---+----+----+----+---+---+\n",
      "|  0|1950|Curly Armstrong|G-F| 31| FTW| 63|null|null|null|0.368|null|0.467| null| null| null| null| null| null| null| null| null|-0.1| 3.6| 3.5|   null|  null|null|null|null|null|144|516|0.279|null|null|null|144|516|0.279|0.279|170|241|0.705|null|null|null|176|null|null|null|217|458|\n",
      "|  1|1950|   Cliff Barker| SG| 29| INO| 49|null|null|null|0.435|null|0.387| null| null| null| null| null| null| null| null| null| 1.6| 0.6| 2.2|   null|  null|null|null|null|null|102|274|0.372|null|null|null|102|274|0.372|0.372| 75|106|0.708|null|null|null|109|null|null|null| 99|279|\n",
      "|  2|1950|  Leo Barnhorst| SF| 25| CHS| 67|null|null|null|0.394|null|0.259| null| null| null| null| null| null| null| null| null| 0.9| 2.8| 3.6|   null|  null|null|null|null|null|174|499|0.349|null|null|null|174|499|0.349|0.349| 90|129|0.698|null|null|null|140|null|null|null|192|438|\n",
      "|  3|1950|     Ed Bartels|  F| 24| TOT| 15|null|null|null|0.312|null|0.395| null| null| null| null| null| null| null| null| null|-0.5|-0.1|-0.6|   null|  null|null|null|null|null| 22| 86|0.256|null|null|null| 22| 86|0.256|0.256| 19| 34|0.559|null|null|null| 20|null|null|null| 29| 63|\n",
      "|  4|1950|     Ed Bartels|  F| 24| DNN| 13|null|null|null|0.308|null|0.378| null| null| null| null| null| null| null| null| null|-0.5|-0.1|-0.6|   null|  null|null|null|null|null| 21| 82|0.256|null|null|null| 21| 82|0.256|0.256| 17| 31|0.548|null|null|null| 20|null|null|null| 27| 59|\n",
      "+---+----+---------------+---+---+----+---+----+----+----+-----+----+-----+-----+-----+-----+-----+-----+-----+-----+-----+-----+----+----+----+-------+------+----+----+----+----+---+---+-----+----+----+----+---+---+-----+-----+---+---+-----+----+----+----+---+----+----+----+---+---+\n",
      "only showing top 5 rows\n",
      "\n",
      "count =  24691\n"
     ]
    }
   ],
   "source": [
    "playerStatsSchema = R([         # orig col  renamed     description\n",
    "    Fld(\"id\",       Int()),     # Id        id          .\n",
    "    Fld(\"year\",     Int()),     # Year      year        .\n",
    "    Fld(\"player\",   Str()),     # Player    player      .\n",
    "    Fld(\"pos\",      Str()),     # Pos       pos         Position\n",
    "    Fld(\"age\",      Int()),     # Age       age         .\n",
    "    Fld(\"team\",     Str()),     # Tm        team        .\n",
    "    Fld(\"g\",        Int()),     # G         g           Games\n",
    "    Fld(\"gs\",       Int()),     # GS        gs          Games Started\n",
    "    Fld(\"mp\",       Int()),     # MP        mp          Minutes Played (available since the 1951-52 season)\n",
    "    Fld(\"per\",      Dbl()),     # PER       per         Player Efficiency Rating\n",
    "    Fld(\"ts_p\",     Dbl()),     # TS%       ts_p        True Shooting Percentage, the formula is TS% = PTS/(2*TSA)\n",
    "    Fld(\"3par\",     Dbl()),     # 3PAr      3par        3-Pointer Rate, 3-Pointer Attempts to Field Goal Attempts. 3PA/FGA.\n",
    "    Fld(\"ftr\",      Dbl()),     # FTr       ftr         Free Throw Rate, formula is FTA/FGA.\n",
    "    Fld(\"orb_p\",    Dbl()),     # ORB%      orb_p       Offensive Rebound Percentage\n",
    "    Fld(\"drb_p\",    Dbl()),     # DRB%      drb_p       Defensive Rebound Percentage\n",
    "    Fld(\"trb_p\",    Dbl()),     # TRB%      trb_p       Total Rebound Percentage\n",
    "    Fld(\"ast_p\",    Dbl()),     # AST%      ast_p       Assist Percentage\n",
    "    Fld(\"stl_p\",    Dbl()),     # STL%      stl_p       Steal Percentage\n",
    "    Fld(\"blk_p\",    Dbl()),     # BLK%      blk_p       Block Percentage\n",
    "    Fld(\"tov_p\",    Dbl()),     # TOV%      tov_p       Turnover Percentage\n",
    "    Fld(\"usg_p\",    Dbl()),     # USG%      usg_p       Usage Percentage\n",
    "    Fld(\"blanl\",    Str()),     # blanl     blanl       .\n",
    "    Fld(\"ows\",      Dbl()),     # OWS       ows         Offensive Win Shares\n",
    "    Fld(\"dws\",      Dbl()),     # DWS       dws         Defensive Win Shares\n",
    "    Fld(\"ws\",       Dbl()),     # WS        ws          Win Shares\n",
    "    Fld(\"ws_o_48\",  Dbl()),     # WS/48     ws_o_48     Win Shares Per 48 Minutes\n",
    "    Fld(\"blank2\",   Str()),     # blank2    blank2      .\n",
    "    Fld(\"obpm\",     Dbl()),     # OBPM      obpm        Offensive Box Plus Minus\n",
    "    Fld(\"dbpm\",     Dbl()),     # DBPM      dbpm        Defensive Box Plus Minus\n",
    "    Fld(\"bpm\",      Dbl()),     # BPM       bpm         Box Plus Minus\n",
    "    Fld(\"vorp\",     Dbl()),     # VORP      vorp        Value Over Replacement Player\n",
    "    Fld(\"fg\",       Int()),     # FG        fg          Field Goals\n",
    "    Fld(\"fga\",      Int()),     # FGA       fga         Field Goal Attempts (includes 2-point and 3-point field goal attempts)\n",
    "    Fld(\"fg_p\",     Dbl()),     # FG%       fg_p        Field Goal Percentage; the formula is FG/FGA.\n",
    "    Fld(\"3p\",       Int()),     # 3P        3p          3-Point Field Goals\n",
    "    Fld(\"3pa\",      Int()),     # 3PA       3pa         3-Point Field Goal Attempts\n",
    "    Fld(\"3p_p\",     Dbl()),     # 3P%       3p_p        3-Point Field Goal Percentage\n",
    "    Fld(\"2p\",       Int()),     # 2P        2p          2-Point Field Goals\n",
    "    Fld(\"2pa\",      Int()),     # 2PA       2pa         2-Point Field Goal Attempts\n",
    "    Fld(\"2p_p\",     Dbl()),     # 2P%       2p_p        2-Point Field Goal Percentage\n",
    "    Fld(\"efg_p\",    Dbl()),     # eFG%      efg_p       Effective Field Goal Percentage; the formula is (FG + 0.5 * 3P) / FGA\n",
    "    Fld(\"ft\",       Int()),     # FT        ft          Free Throws\n",
    "    Fld(\"fta\",      Int()),     # FTA       fta         Free Throws Attempts\n",
    "    Fld(\"ft_p\",     Dbl()),     # FT%       ft_p        Free Throws Pecentage\n",
    "    Fld(\"orb\",      Int()),     # ORB       orb         Offensive Rebounds\n",
    "    Fld(\"drb\",      Int()),     # DRB       drb         Defensive Rebounds\n",
    "    Fld(\"trb\",      Int()),     # TRB       trb         Total Rebounds\n",
    "    Fld(\"ast\",      Int()),     # AST       ast         Assists\n",
    "    Fld(\"stl\",      Int()),     # STL       stl         Steals\n",
    "    Fld(\"blk\",      Int()),     # BLK       blk         Blocks\n",
    "    Fld(\"tov\",      Int()),     # TOV       tov         Turnovers\n",
    "    Fld(\"pf\",       Int()),     # PF        pf          Personal Fouls\n",
    "    Fld(\"pts\",      Int()),     # PTS       pts         Points\n",
    "])\n",
    "\n",
    "dfPlayerStats = spark.read.csv(\n",
    "    \"s3a://udacity-data-eng-capstone/Seasons_Stats.csv\",\n",
    "    header=True, schema=playerStatsSchema)\n",
    "\n",
    "#dfPlayerStats.printSchema()\n",
    "dfPlayerStats.show(5)\n",
    "print(\"count = \", dfPlayerStats.count())"
   ]
  },
  {
   "cell_type": "markdown",
   "metadata": {
    "editable": true
   },
   "source": [
    "#### More detailed column description can be found in [glossary](https://www.basketball-reference.com/about/glossary.html)"
   ]
  },
  {
   "cell_type": "markdown",
   "metadata": {
    "editable": true
   },
   "source": [
    "#### Player stats uses team abbrevations, Team stats uses team name, need to establish mapping between them"
   ]
  },
  {
   "cell_type": "code",
   "execution_count": 41,
   "metadata": {
    "editable": true
   },
   "outputs": [
    {
     "name": "stdout",
     "output_type": "stream",
     "text": [
      "+-------------+------+--------------------------------------------------------+\n",
      "|city         |abbrev|description                                             |\n",
      "+-------------+------+--------------------------------------------------------+\n",
      "|Atlanta      |Atl   |Atlanta Hawks (1968-69 - present)                       |\n",
      "|Anderson     |And   |Anderson Packers (1949-50)                              |\n",
      "|Bal Bullets  |BlB   |Baltimore Bullets [1st team] (1947-48 - 1953-54)        |\n",
      "|Baltimore    |Bal   |Baltimore Bullets [2nd team] (1963-64 - 1972-73)        |\n",
      "|Boston       |Bos   |Boston Celtics (1946-47 - present)                      |\n",
      "|Brooklyn     |Bkn   |Brooklyn Nets (2012-13 - present)                       |\n",
      "|Buffalo      |Buf   |Buffalo Braves (1970-71 - 1977-78)                      |\n",
      "|Capital      |Cap   |Capital Bullets (1973-74)                               |\n",
      "|Charlotte    |Cha   |Charlotte Hornets (1988-89 - 2001-02, 2014-15 - present)|\n",
      "|Cha Bobcats  |ChB   |Charlotte Bobcats (2004-05 - 2013-14)                   |\n",
      "+-------------+------+--------------------------------------------------------+\n",
      "only showing top 10 rows\n",
      "\n",
      "+-----------+------+----------------------------+------------------------------------+\n",
      "|city       |abbrev|name                        |time                                |\n",
      "+-----------+------+----------------------------+------------------------------------+\n",
      "|Atlanta    |ATL   |Atlanta Hawks               |1968-69 - present                   |\n",
      "|Anderson   |AND   |Anderson Packers            |1949-50                             |\n",
      "|Bal Bullets|BLB   |Baltimore Bullets [1st team]|1947-48 - 1953-54                   |\n",
      "|Baltimore  |BAL   |Baltimore Bullets [2nd team]|1963-64 - 1972-73                   |\n",
      "|Boston     |BOS   |Boston Celtics              |1946-47 - present                   |\n",
      "|Brooklyn   |BKN   |Brooklyn Nets               |2012-13 - present                   |\n",
      "|Buffalo    |BUF   |Buffalo Braves              |1970-71 - 1977-78                   |\n",
      "|Capital    |CAP   |Capital Bullets             |1973-74                             |\n",
      "|Charlotte  |CHA   |Charlotte Hornets           |1988-89 - 2001-02, 2014-15 - present|\n",
      "|Cha Bobcats|CHB   |Charlotte Bobcats           |2004-05 - 2013-14                   |\n",
      "+-----------+------+----------------------------+------------------------------------+\n",
      "only showing top 10 rows\n",
      "\n",
      "['1968-69 - present', '1949-50', '1947-48 - 1953-54', '1963-64 - 1972-73', '1946-47 - present', '2012-13 - present', '1970-71 - 1977-78', '1973-74', '1988-89 - 2001-02, 2014-15 - present', '2004-05 - 2013-14', '1966-67 - present', '1961-62', '1946-47 - 1949-50', '1962-63', '1957-58 - 1971-72', '1970-71 - present', '1946-47', '1980-81 - present', '1949-50', '1976-77 - present', '1946-47', '1957-58 - present', '1948-49 - 1956-57', '1971-72 - present', '1971-72 - present', '1976-77 - present', '1948-49', '1949-50 - 1952-53', '1975-76 - 1984-85', '1972-73 - 1974-75', '1984-85 - present', '1960-61 - present', '2001-02 - present', '1988-89 - present', '1951-52 - 1954-55', '1968-69 - present', '1948-49 - 1959-60', '1989-90 - present', '1977-78 - 2011-12', '2002-03 - 2004-05, 2007-08 - 2012-13', '1974-75 - 1978-79', '2013-14 - present', '2005-06 - 2006-07', '1946-47 - present', '1976-77', '2008-09 - present', '1989-90 - present', '1946-47 - 1961-62', '1963-64 - present', '1968-69 - present', '1946-47', '1970-71 - present', '1946-47 - 1948-49', '1948-49 - 1956-57', '1985-86 - present', '1976-77 - present', '1978-79 - 1983-84', '1962-63 - 1970-71', '1967-68 - 1970-71', '1967-68 - 2007-08', '1949-50', '1946-47 - 1949-50', '1955-56 - 1967-68', '1949-50 - 1962-63', '1946-47', '1995-96 - present', '1949-50 - 1950-51', '1979-80 - present', '1995-96 - 2000-01', '1946-47 - 1949-50', '1974-75 - 1996-97', '1997-98 - present', '1949-50']\n",
      "['Atlanta', 'Anderson', 'Bal Bullets', 'Baltimore', 'Boston', 'Brooklyn', 'Buffalo', 'Capital', 'Charlotte', 'Cha Bobcats', 'Chicago', 'Chi Packers', 'Chi Stags', 'Chi Zephyrs', 'Cincinnati', 'Cleveland', 'Cle Rebels', 'Dallas', 'Den Nuggets', 'Denver', 'Det Falcons', 'Detroit', 'Ft Wayne', 'Golden State', 'Houston', 'Indiana', 'Ind Jets', 'Ind Olympians', 'Kansas City', 'KC-Omaha', 'LA Clippers', 'LA Lakers', 'Memphis', 'Miami', 'Mil Hawks', 'Milwaukee', 'Minneapolis', 'Minnesota', 'New Jersey', 'NO Hornets', 'NO Jazz', 'New Orleans', 'New Orl/OkC', 'New York', 'NY Nets', 'Oklahoma City', 'Orlando', 'Phi Warriors', 'Philadelphia', 'Phoenix', 'Pittsburgh', 'Portland', 'Providence', 'Rochester', 'Sacramento', 'San Antonio', 'San Diego', 'San Francisco', 'SD Rockets', 'Seattle', 'Sheboygan', 'StL Bombers', 'St Louis', 'Syracuse', 'Tor Huskies', 'Toronto', 'Tri-Cities', 'Utah', 'Vancouver', 'Was Capitols', 'Was Bullets', 'Washington', 'Waterloo']\n"
     ]
    }
   ],
   "source": [
    "teamSchema = R([\n",
    "    Fld(\"city\", Str()),\n",
    "    Fld(\"abbrev\", Str()),\n",
    "    Fld(\"description\", Str()),\n",
    "])\n",
    "dfTeam = spark.read.option(\"header\", \"true\") \\\n",
    "    .option(\"delimiter\", \"\t\") \\\n",
    "    .csv(\"s3a://udacity-data-eng-capstone/team-abbrevation.txt\",\n",
    "        schema= teamSchema)\n",
    "\n",
    "dfTeam.show(10, truncate=False)\n",
    "\n",
    "# turn abbrev upper case Atl => ATL\n",
    "# trim trailing spaces in city column\n",
    "# split description to name (str) and time (str)\n",
    "dfTeam = dfTeam.withColumn(\n",
    "    \"abbrev\", F.upper(dfTeam.abbrev)\n",
    ").withColumn(\n",
    "    \"city\", F.regexp_replace(\"city\", \"\\s+$\", \"\")\n",
    ").withColumn(\n",
    "    \"description\", F.regexp_replace(\"description\", \"\\)$\", \"\")\n",
    ").withColumn(\n",
    "    \"desc_split\", F.split(\"description\", \" \\(\")\n",
    ")\n",
    "\n",
    "dfTeam = dfTeam.withColumn(\n",
    "    \"name\", dfTeam.desc_split.getItem(0).cast(Str())\n",
    ").withColumn(\n",
    "    \"time\", dfTeam.desc_split.getItem(1).cast(Str())\n",
    ").drop(\n",
    "    \"desc_split\"\n",
    ").drop(\n",
    "    \"description\"\n",
    ")\n",
    "\n",
    "dfTeam.show(10, truncate=False)\n",
    "\n",
    "# eyeball if everything okay\n",
    "print([r[0] for r in dfTeam.select(\"time\").collect()])\n",
    "print([r[0] for r in dfTeam.select(\"city\").collect()])"
   ]
  },
  {
   "cell_type": "markdown",
   "metadata": {
    "editable": true
   },
   "source": [
    "### Find out the mismatched abbrevs and names"
   ]
  },
  {
   "cell_type": "code",
   "execution_count": 42,
   "metadata": {
    "editable": true
   },
   "outputs": [
    {
     "name": "stdout",
     "output_type": "stream",
     "text": [
      "True True\n",
      "\n",
      "abbre0\n",
      " {'MLH', 'CHZ', 'HOU', 'BAL', 'BUF', 'ATL', 'CHS', 'MEM', 'POR', 'MIN', 'NY ', 'AND', 'ROC', 'OKC', 'CHI', 'GS ', 'ORL', 'LAL', 'BKN', 'SAC', 'CHB', 'SF ', 'PIT', 'NYN', 'TRI', 'MIA', 'SHE', 'UTA', 'DTF', 'WSH', 'PHO', 'PHI', 'KCO', 'WSC', 'DEN', 'VAN', 'WAT', 'LAC', 'FTW', 'CAP', 'DAL', 'BLB', 'BOS', 'NOJ', 'STL', 'TOR', 'PHW', 'SDR', 'NO ', 'SEA', 'WSB', 'IND', 'DET', 'NJ ', 'CHP', 'NOK', 'SA ', 'SYR', 'MNL', 'SD ', 'KC ', 'NOH', 'CIN', 'CLR', 'DNN', 'MIL', 'PRO', 'CHA', 'CLE', 'INJ', 'TRH', 'INO', 'STB'}\n",
      "abbre1\n",
      " {'MLH', 'CHZ', 'HOU', 'BUF', 'BAL', 'CHS', 'POR', 'MEM', 'TRI', None, 'TOR', 'AND', 'MIN', 'OKC', 'ATL', 'CHI', 'ORL', 'LAL', 'STB', 'SAC', 'NOP', 'TOT', 'NYN', 'UTA', 'BRK', 'MIA', 'PHO', 'ROC', 'WSC', 'KCO', 'CHO', 'PHI', 'VAN', 'DEN', 'WAT', 'LAC', 'FTW', 'BLB', 'SDC', 'BOS', 'GSW', 'NOJ', 'DAL', 'STL', 'PHW', 'CAP', 'SDR', 'SEA', 'KCK', 'WSB', 'IND', 'DET', 'CHP', 'NOK', 'SAS', 'SYR', 'WAS', 'MNL', 'SHE', 'NOH', 'NJN', 'CIN', 'MIL', 'DNN', 'SFW', 'CHA', 'CLE', 'CHH', 'INO', 'NYK'}\n",
      "names0\n",
      " {'Indianapolis Jets', 'St Louis Hawks', 'Chicago Packers', 'Toronto Huskies', 'Detroit Falcons', 'Capital Bullets', 'Oklahoma City', 'Orlando Magic', 'St Louis Bombers', 'Waterloo Hawks', 'Chicago Zephyrs', 'Denver Nuggets [2nd team]', 'Baltimore Bullets [2nd team]', 'Washington Capitols', 'Denver Nuggets [1st team]', 'New Jersey Nets', 'Anderson Packers', 'San Francisco Warriors', 'Memphis Grizzlies', 'New York Knick(erbocker)s', 'Baltimore Bullets [1st team]', 'Cleveland Cavaliers', 'Phoenix Suns', 'Syracuse Nationals', 'Buffalo Braves', 'Rochester Royals', 'Portland TrailBlazers', 'Milwaukee Hawks', 'Minneapolis Lakers', 'Detroit Pistons', 'San Diego Rockets', 'New Orleans Jazz', 'Utah Jazz', 'Tri-Cities Blackhawks', 'Toronto Raptors', 'Milwaukee Bucks', 'San Antonio Spurs', 'New Orleans/Oklahoma City Hornets', 'Golden State Warriors', 'Minnesota Timberwolves', 'Indiana Pacers', 'Chicago Stags', 'Los Angeles Lakers', 'New York Nets', 'Charlotte Hornets', 'Cleveland Rebels', 'Pittsburgh Ironmen', 'Houston Rockets', 'Sacramento Kings', 'Vancouver Grizzlies', 'Cincinnati Royals', 'Dallas Mavericks', 'Providence Steamrollers', 'Seattle SuperSonics', 'Charlotte Bobcats', 'San Diego Clippers', 'Brooklyn Nets', 'Washington Bullets', 'Atlanta Hawks', 'Washington Wizards', 'Kansas City Kings', 'KC-Omaha Kings', 'Los Angeles Clippers', 'Miami Heat', 'New Orleans Hornets', 'New Orleans Pelicans', 'Philadelphia Warriors', 'Philadelphia 76ers', 'Indianapolis Olympians', 'Chicago Bulls', 'Sheboygan Redskins', 'Boston Celtics', 'Ft Wayne Pistons'}\n",
      "names1\n",
      " {'Chicago Packers', 'Capital Bullets', 'Orlando Magic', 'Chicago Zephyrs', 'Texas Chaparrals', 'New Jersey Nets', 'San Francisco Warriors', 'Memphis Grizzlies', 'Denver Nuggets', 'Phoenix Suns', 'Syracuse Nationals', 'Cleveland Cavaliers', 'Buffalo Braves', 'Rochester Royals', 'Milwaukee Hawks', 'Minneapolis Lakers', 'Detroit Pistons', 'San Diego Rockets', 'New Orleans Jazz', 'Utah Jazz', 'Tri-Cities Blackhawks', 'Oklahoma City Thunder', 'Toronto Raptors', 'Milwaukee Bucks', 'San Antonio Spurs', 'New Orleans/Oklahoma City Hornets', 'Golden State Warriors', 'Minnesota Timberwolves', 'Baltimore Bullets', 'Indiana Pacers', 'Los Angeles Lakers', 'Vancouver Grizzlies', 'New York Nets', 'Charlotte Hornets', 'Portland Trail Blazers', 'Houston Rockets', 'Denver Rockets', 'Sacramento Kings', 'St. Louis Hawks', 'Dallas Mavericks', 'Cincinnati Royals', 'Seattle SuperSonics', 'Charlotte Bobcats', 'New York Knicks', 'Brooklyn Nets', 'Fort Wayne Pistons', 'Dallas Chaparrals', 'Atlanta Hawks', 'Washington Bullets', 'Washington Wizards', 'Kansas City-Omaha Kings', 'Kansas City Kings', 'Los Angeles Clippers', 'New Orleans Pelicans', 'New Orleans Hornets', 'New Jersey Americans', 'Philadelphia Warriors', 'Philadelphia 76ers', 'Miami Heat', 'Chicago Bulls', 'Boston Celtics', 'San Diego Clippers'}\n",
      "\n",
      "set(abbre0) - set(abbre1)\n",
      " {'PIT', 'SA ', 'NO ', 'WSH', 'DTF', 'SD ', 'NJ ', 'KC ', 'NY ', 'SF ', 'CLR', 'PRO', 'GS ', 'INJ', 'TRH', 'BKN', 'CHB'}\n",
      "set(abbre1) - set(abbre0)\n",
      " {'GSW', 'SAS', 'TOT', 'WAS', 'BRK', 'KCK', 'NJN', None, 'CHO', 'SFW', 'CHH', 'NOP', 'SDC', 'NYK'}\n",
      "set(names0) - set(names1)\n",
      " {'St Louis Hawks', 'Indianapolis Jets', 'Waterloo Hawks', 'Toronto Huskies', 'Detroit Falcons', 'Oklahoma City', 'St Louis Bombers', 'Denver Nuggets [2nd team]', 'Baltimore Bullets [2nd team]', 'Washington Capitols', 'Denver Nuggets [1st team]', 'Anderson Packers', 'New York Knick(erbocker)s', 'Baltimore Bullets [1st team]', 'Portland TrailBlazers', 'Chicago Stags', 'Cleveland Rebels', 'Pittsburgh Ironmen', 'Providence Steamrollers', 'KC-Omaha Kings', 'Indianapolis Olympians', 'Sheboygan Redskins', 'Ft Wayne Pistons'}\n",
      "set(names1) - set(names0)\n",
      " {'Denver Nuggets', 'Fort Wayne Pistons', 'Dallas Chaparrals', 'Kansas City-Omaha Kings', 'Portland Trail Blazers', 'Baltimore Bullets', 'Texas Chaparrals', 'New Jersey Americans', 'Denver Rockets', 'St. Louis Hawks', 'Oklahoma City Thunder', 'New York Knicks'}\n"
     ]
    }
   ],
   "source": [
    "# team name and team abbrev, mapping player stats to team stats\n",
    "abbre0 = [r[0] for r in dfTeam.select(dfTeam.abbrev).collect()]\n",
    "names0 = [r[0] for r in dfTeam.select(dfTeam.name).collect()]\n",
    "print(\n",
    "    len(abbre0) == len(set(abbre0)), \n",
    "    len(names0) == len(set(names0)),\n",
    ")\n",
    "abbre0 = set(abbre0)\n",
    "names0 = set(names0)\n",
    "abbre1 = {r[0] for r in dfPlayerStats.select(dfPlayerStats.team).dropDuplicates().collect()}\n",
    "names1 = {r[0] for r in dfTeamStats.select(dfTeamStats.team).dropDuplicates().collect()}\n",
    "print()\n",
    "print(\"abbre0\\n\", abbre0)\n",
    "print(\"abbre1\\n\", abbre1)\n",
    "print(\"names0\\n\", names0)\n",
    "print(\"names1\\n\", names1)\n",
    "print()\n",
    "print(\"set(abbre0) - set(abbre1)\\n\", set(abbre0) - set(abbre1))\n",
    "print(\"set(abbre1) - set(abbre0)\\n\", set(abbre1) - set(abbre0))\n",
    "print(\"set(names0) - set(names1)\\n\", set(names0) - set(names1))\n",
    "print(\"set(names1) - set(names0)\\n\", set(names1) - set(names0))"
   ]
  },
  {
   "cell_type": "markdown",
   "metadata": {
    "editable": true
   },
   "source": [
    "### Manually establish mapping between abbrevs and names\n",
    "\n",
    "* Tables that need change, colored red\n",
    "\n",
    "<img src ='team-name-and-abbrev-need-manual-change.png'>\n",
    "\n",
    "* Abbrevs\n",
    "\n",
    "```\n",
    "team  : player_stat\n",
    "'BKN' : 'BRK'\n",
    "            change team, altho BKN seems better, but easier to change team (BKN => BRK)\n",
    "'CHB' : 'CHO'\n",
    "            change team\n",
    "            CHH Charlotte Hornets [1st team] (1988-89 - 2001-02)\n",
    "            CHA Charlotte Bobcats (2004-05 - 2013-14)\n",
    "            CHO Charlotte Hornets [2nd team] (2014-15 - present)\n",
    "'CLR' : \n",
    "            Cleveland Rebels (1946-47), player_stats starts from 1950, no action\n",
    "'DTF' : ?\n",
    "            Detroit Falcons (1946-47), too early no action\n",
    "'GS ' : 'GSW'\n",
    "            change team\n",
    "'INJ' : ?\n",
    "            Indianapolis Jets (1948-49), too early no action\n",
    "'KC ' : 'KCK'\n",
    "            change team\n",
    "'NJ ' : 'NJN'\n",
    "            change team\n",
    "'NO ' : 'NOP'\n",
    "            change team\n",
    "'NY ' : 'NYK'\n",
    "            change team\n",
    "'PIT' : ?\n",
    "            Pittsburgh Ironmen (1946-47), too early no action\n",
    "'PRO' : ?\n",
    "            Providence Steamrollers (1946-47 - 1948-49), too early no action\n",
    "'SA ' : 'SAS'\n",
    "            change team\n",
    "'SD ' : 'SDC'\n",
    "            change team\n",
    "'SF ' : 'SFW'\n",
    "            change team\n",
    "'TRH'\n",
    "'WSH' : 'WAS'\n",
    "            change team\n",
    "\n",
    "?    : None\n",
    "?    : 'TOT' => it means the player plays for multiple teams that season\n",
    "             => stands for Transfer of Team? or ?\n",
    "```\n",
    "\n",
    "* Names\n",
    "\n",
    "```\n",
    "team => team_stats\n",
    "'Anderson Packers'              :\n",
    "'Baltimore Bullets [1st team]'  : 'Baltimore Bullets'\n",
    "'Baltimore Bullets [2nd team]'  : 'Baltimore Bullets'       <need to map it based on time?>\n",
    "'Chicago Stags'                 :\n",
    "'Cleveland Rebels'              :\n",
    "?                               : 'Dallas Chaparrals'       <ABA team, should clean all ABA team records?>\n",
    "    \n",
    "'Denver Nuggets [1st team]'     : 'Denver Nuggets'\n",
    "'Denver Nuggets [2nd team]'     : 'Denver Nuggets'          <need to map it based on time?>\n",
    "?                               : 'Denver Rockets'          <ABA team>\n",
    "'Detroit Falcons'               :\n",
    "'Ft Wayne Pistons'              : 'Fort Wayne Pistons'      <change>\n",
    "'Indianapolis Jets'             :\n",
    "'Indianapolis Olympians'        :\n",
    "'KC-Omaha Kings'                : 'Kansas City-Omaha Kings' <change>\n",
    "?                               : 'New Jersey Americans'    <ABA team>\n",
    "'New York Knick(erbocker)s'     : 'New York Knicks'         <change>\n",
    "'Oklahoma City'                 : 'Oklahoma City Thunder'   <change>\n",
    "'Pittsburgh Ironmen'            :\n",
    "'Portland TrailBlazers'         : 'Portland Trail Blazers'  <change>\n",
    "'Providence Steamrollers'       :\n",
    "'Sheboygan Redskins'            :\n",
    "'St Louis Bombers'              :                           <change too, all St to St.>\n",
    "'St Louis Hawks'                : 'St. Louis Hawks'         <change>\n",
    "'Toronto Huskies'               :\n",
    "?                               : 'Texas Chaparrals'        <ABA team>\n",
    "'Washington Capitols'           :\n",
    "'Waterloo Hawks'                :\n",
    "```"
   ]
  },
  {
   "cell_type": "markdown",
   "metadata": {
    "editable": true
   },
   "source": [
    "#### Filter all non NBA teams records"
   ]
  },
  {
   "cell_type": "code",
   "execution_count": 43,
   "metadata": {
    "editable": true
   },
   "outputs": [
    {
     "name": "stdout",
     "output_type": "stream",
     "text": [
      "{'ABA', 'NBA', 'BAA'}\n",
      "1483\n",
      "1435\n"
     ]
    }
   ],
   "source": [
    "leagues = {r[0] for r in dfTeamStats.select(dfTeamStats.league).dropDuplicates().collect()}\n",
    "print(leagues)\n",
    "print(dfTeamStats.count())\n",
    "dfTeamStats = dfTeamStats.filter(dfTeamStats.league == \"NBA\")\n",
    "print(dfTeamStats.count())"
   ]
  },
  {
   "cell_type": "markdown",
   "metadata": {
    "editable": true
   },
   "source": [
    "#### Manually make corresponding changes in team-abbrevation-v2.txt and uploaded to S3\n",
    "\n",
    "```\n",
    "...\n",
    "Baltimore    \tBLB\tBaltimore Bullets [1st team] (1947-48 - 1953-54)\n",
    "Baltimore    \tBAL\tBaltimore Bullets [2nd team] (1963-64 - 1972-73)\n",
    "Boston       \tBOS\tBoston Celtics (1946-47 - present)\n",
    "Brooklyn     \tBRK\tBrooklyn Nets (2012-13 - present)\n",
    "Buffalo      \tBUF\tBuffalo Braves (1970-71 - 1977-78)\n",
    "Capital      \tCAP\tCapital Bullets (1973-74)\n",
    "Charlotte    \tCHH\tCharlotte Hornets [1st team] (1988-89 - 2001-02)\n",
    "Charlotte    \tCHA\tCharlotte Bobcats (2004-05 - 2013-14)\n",
    "Charlotte    \tCHO\tCharlotte Hornets [2nd team] (2014-15 - present)\n",
    "Chicago      \tCHI\tChicago Bulls (1966-67 - present)\n",
    "Chicago      \tCHP\tChicago Packers (1961-62)\n",
    "Chicago      \tCHS\tChicago Stags (1946-47 - 1949-50)\n",
    "Chicago      \tCHZ\tChicago Zephyrs (1962-63)\n",
    "Cincinnati   \tCIN\tCincinnati Royals (1957-58 - 1971-72)\n",
    "Cleveland    \tCLE\tCleveland Cavaliers (1970-71 - present)\n",
    "...\n",
    "```"
   ]
  },
  {
   "cell_type": "code",
   "execution_count": 44,
   "metadata": {
    "editable": true
   },
   "outputs": [
    {
     "name": "stdout",
     "output_type": "stream",
     "text": [
      "['1968-69 - present', '1949-50', '1947-48 - 1953-54', '1963-64 - 1972-73', '1946-47 - present', '2012-13 - present', '1970-71 - 1977-78', '1973-74', '1988-89 - 2001-02', '2004-05 - 2013-14', '2014-15 - present', '1966-67 - present', '1961-62', '1946-47 - 1949-50', '1962-63', '1957-58 - 1971-72', '1970-71 - present', '1946-47', '1980-81 - present', '1949-50', '1976-77 - present', '1946-47', '1957-58 - present', '1948-49 - 1956-57', '1971-72 - present', '1971-72 - present', '1976-77 - present', '1948-49', '1949-50 - 1952-53', '1975-76 - 1984-85', '1972-73 - 1974-75', '1984-85 - present', '1960-61 - present', '2001-02 - present', '1988-89 - present', '1951-52 - 1954-55', '1968-69 - present', '1948-49 - 1959-60', '1989-90 - present', '1977-78 - 2011-12', '2002-03 - 2004-05, 2007-08 - 2012-13', '1974-75 - 1978-79', '2013-14 - present', '2005-06 - 2006-07', '1946-47 - present', '1976-77', '2008-09 - present', '1989-90 - present', '1946-47 - 1961-62', '1963-64 - present', '1968-69 - present', '1946-47', '1970-71 - present', '1946-47 - 1948-49', '1948-49 - 1956-57', '1985-86 - present', '1976-77 - present', '1978-79 - 1983-84', '1962-63 - 1970-71', '1967-68 - 1970-71', '1967-68 - 2007-08', '1949-50', '1946-47 - 1949-50', '1955-56 - 1967-68', '1949-50 - 1962-63', '1946-47', '1995-96 - present', '1949-50 - 1950-51', '1979-80 - present', '1995-96 - 2000-01', '1946-47 - 1949-50', '1974-75 - 1996-97', '1997-98 - present', '1949-50']\n",
      "['Atlanta', 'Anderson', 'Baltimore', 'Baltimore', 'Boston', 'Brooklyn', 'Buffalo', 'Capital', 'Charlotte', 'Charlotte', 'Charlotte', 'Chicago', 'Chicago', 'Chicago', 'Chicago', 'Cincinnati', 'Cleveland', 'Cleveland', 'Dallas', 'Denver', 'Denver', 'Detroit', 'Detroit', 'Ft Wayne', 'Golden State', 'Houston', 'Indiana', 'Indianapolis', 'Indianapolis', 'Kansas City', 'KC-Omaha', 'Los Angeles', 'Los Angeles', 'Memphis', 'Miami', 'Milwaukee', 'Milwaukee', 'Minneapolis', 'Minnesota', 'New Jersey', 'New Orleans', 'New Orleans', 'New Orleans', 'New Orl/OkC', 'New York', 'New York', 'Oklahoma City', 'Orlando', 'Philadelphia', 'Philadelphia', 'Phoenix', 'Pittsburgh', 'Portland', 'Providence', 'Rochester', 'Sacramento', 'San Antonio', 'San Diego', 'San Francisco', 'San Diego', 'Seattle', 'Sheboygan', 'St. Louis', 'St. Louis', 'Syracuse', 'Toronto', 'Toronto', 'Tri-Cities', 'Utah', 'Vancouver', 'Washington', 'Washington', 'Washington', 'Waterloo']\n"
     ]
    }
   ],
   "source": [
    "dfTeam = spark.read.option(\"header\", \"true\") \\\n",
    "    .option(\"delimiter\", \"\t\") \\\n",
    "    .csv(\"s3a://udacity-data-eng-capstone/team-abbrevation-v2.txt\", schema= teamSchema)\n",
    "\n",
    "# turn abbrev upper case Atl => ATL\n",
    "# trim trailing spaces in city column\n",
    "# split description to name (str) and time (str)\n",
    "dfTeam = dfTeam.withColumn(\n",
    "    \"abbrev\", F.upper(dfTeam.abbrev)\n",
    ").withColumn(\n",
    "    \"city\", F.regexp_replace(\"city\", \"\\s+$\", \"\")\n",
    ").withColumn(\n",
    "    \"description\", F.regexp_replace(\"description\", \"\\)$\", \"\")\n",
    ").withColumn(\n",
    "    \"desc_split\", F.split(\"description\", \" \\(\")\n",
    ")\n",
    "\n",
    "dfTeam = dfTeam.withColumn(\n",
    "    \"name\", dfTeam.desc_split.getItem(0).cast(Str())\n",
    ").withColumn(\n",
    "    \"time\", dfTeam.desc_split.getItem(1).cast(Str())\n",
    ").drop(\n",
    "    \"desc_split\"\n",
    ").drop(\n",
    "    \"description\"\n",
    ")\n",
    "\n",
    "# eyeball if everything okay\n",
    "print([r[0] for r in dfTeam.select(\"time\").collect()])\n",
    "print([r[0] for r in dfTeam.select(\"city\").collect()])"
   ]
  },
  {
   "cell_type": "code",
   "execution_count": 45,
   "metadata": {
    "editable": true
   },
   "outputs": [
    {
     "name": "stdout",
     "output_type": "stream",
     "text": [
      "True True\n",
      "\n",
      "set(abbre0) - set(abbre1)\n",
      " {'PIT', 'DTF', 'CLR', 'PRO', 'INJ', 'TRH'}\n",
      "set(abbre1) - set(abbre0)\n",
      " {'TOT', None}\n",
      "set(names0) - set(names1)\n",
      " {'Indianapolis Jets', 'Charlotte Hornets [1st team]', 'Waterloo Hawks', 'Toronto Huskies', 'Detroit Falcons', 'Baltimore Bullets [1st team]', 'Charlotte Hornets [2nd team]', 'Denver Nuggets [2nd team]', 'Chicago Stags', 'Baltimore Bullets [2nd team]', 'Washington Capitols', 'Cleveland Rebels', 'Denver Nuggets [1st team]', 'Pittsburgh Ironmen', 'Indianapolis Olympians', 'Providence Steamrollers', 'Sheboygan Redskins', 'Anderson Packers', 'St. Louis Bombers'}\n",
      "set(names1) - set(names0)\n",
      " {'Denver Nuggets', 'Charlotte Hornets', 'Baltimore Bullets'}\n"
     ]
    }
   ],
   "source": [
    "# team name and team abbrev, mapping player stats to team stats\n",
    "abbre0 = [r[0] for r in dfTeam.select(dfTeam.abbrev).collect()]\n",
    "names0 = [r[0] for r in dfTeam.select(dfTeam.name).collect()]\n",
    "print(\n",
    "    len(abbre0) == len(set(abbre0)), \n",
    "    len(names0) == len(set(names0)),\n",
    ")\n",
    "abbre0 = set(abbre0)\n",
    "names0 = set(names0)\n",
    "abbre1 = {r[0] for r in dfPlayerStats.select(dfPlayerStats.team).dropDuplicates().collect()}\n",
    "names1 = {r[0] for r in dfTeamStats.select(dfTeamStats.team).dropDuplicates().collect()}\n",
    "print()\n",
    "print(\"set(abbre0) - set(abbre1)\\n\", set(abbre0) - set(abbre1))\n",
    "print(\"set(abbre1) - set(abbre0)\\n\", set(abbre1) - set(abbre0))\n",
    "print(\"set(names0) - set(names1)\\n\", set(names0) - set(names1))\n",
    "print(\"set(names1) - set(names0)\\n\", set(names1) - set(names0))"
   ]
  },
  {
   "cell_type": "code",
   "execution_count": 46,
   "metadata": {
    "editable": true
   },
   "outputs": [
    {
     "name": "stdout",
     "output_type": "stream",
     "text": [
      "+---------+------+----------------------------+-----------------+\n",
      "|city     |abbrev|name                        |time             |\n",
      "+---------+------+----------------------------+-----------------+\n",
      "|Baltimore|BLB   |Baltimore Bullets [1st team]|1947-48 - 1953-54|\n",
      "|Baltimore|BAL   |Baltimore Bullets [2nd team]|1963-64 - 1972-73|\n",
      "|Charlotte|CHH   |Charlotte Hornets [1st team]|1988-89 - 2001-02|\n",
      "|Charlotte|CHO   |Charlotte Hornets [2nd team]|2014-15 - present|\n",
      "|Denver   |DNN   |Denver Nuggets [1st team]   |1949-50          |\n",
      "|Denver   |DEN   |Denver Nuggets [2nd team]   |1976-77 - present|\n",
      "+---------+------+----------------------------+-----------------+\n",
      "\n"
     ]
    }
   ],
   "source": [
    "dfTeam.where(dfTeam.name.like(\"% team]\")).show(truncate=False)"
   ]
  },
  {
   "cell_type": "markdown",
   "metadata": {
    "editable": true
   },
   "source": [
    "#### Some team show up multiple times in NBA history. Need to map team name to specific version, so that we can find the correct abbrevation\n",
    "|city         |abbrev|name                        |time             |\n",
    "|-------------|------|----------------------------|-----------------|\n",
    "|Bal Bullets  |BLB   |Baltimore Bullets [1st team]|1947-48 - 1953-54|\n",
    "|Baltimore    |BAL   |Baltimore Bullets [2nd team]|1963-64 - 1972-73|\n",
    "|Charlotte    |CHH   |Charlotte Hornets [1st team]|1988-89 - 2001-02|\n",
    "|Charlotte    |CHO   |Charlotte Hornets [2nd team]|2014-15 - present|\n",
    "|Den Nuggets  |DNN   |Denver Nuggets [1st team]   |1949-50          |\n",
    "|Denver       |DEN   |Denver Nuggets [2nd team]   |1976-77 - present|"
   ]
  },
  {
   "cell_type": "code",
   "execution_count": 47,
   "metadata": {
    "editable": true
   },
   "outputs": [
    {
     "name": "stdout",
     "output_type": "stream",
     "text": [
      "+-------+------+--------------+----+------+-----+------+-----+----+--------+-----+--------+-----+--------+--------+--------------------+---------------+-------------+---------------+\n",
      "| season|league|          team|wins|losses|wl_pc|finish|  srs|pace|rel_pace| ortg|rel_ortg| drtg|rel_drtg|playoffs|             coaches|         top_ws|playoff_score|season_end_year|\n",
      "+-------+------+--------------+----+------+-----+------+-----+----+--------+-----+--------+-----+--------+--------+--------------------+---------------+-------------+---------------+\n",
      "|2017-18|   NBA|Denver Nuggets|  19|    16|0.543|     3| 1.53|96.3|    -0.8|110.5|     2.7|108.9|     1.1|    null|   M. Malone (19-16)| N. Jokic (3.8)|            0|           2018|\n",
      "|2016-17|   NBA|Denver Nuggets|  40|    42|0.488|     4|  0.7|98.3|     1.9|113.2|     4.4|112.7|     3.9|    null|   M. Malone (40-42)| N. Jokic (9.7)|            0|           2017|\n",
      "|2015-16|   NBA|Denver Nuggets|  33|    49|0.402|     4|-2.81|95.7|    -0.1|105.6|    -0.8|108.9|     2.5|    null|   M. Malone (33-49)| N. Jokic (6.7)|            0|           2016|\n",
      "|2014-15|   NBA|Denver Nuggets|  30|    52|0.366|     4|-3.07|96.1|     2.2|104.5|    -1.1|108.2|     2.6|    null|B. Shaw (20-39) M...|T. Lawson (7.0)|            0|           2015|\n",
      "|2013-14|   NBA|Denver Nuggets|  36|    46|0.439|     4| -1.4|98.1|     4.2|106.0|    -0.7|108.2|     1.5|    null|     B. Shaw (36-46)|K. Faried (6.5)|            0|           2014|\n",
      "+-------+------+--------------+----+------+-----+------+-----+----+--------+-----+--------+-----+--------+--------+--------------------+---------------+-------------+---------------+\n",
      "only showing top 5 rows\n",
      "\n"
     ]
    }
   ],
   "source": [
    "def extract_end_year():\n",
    "    def t(col):\n",
    "        return int(col[:4])+1 # corner cases, e.g. 1999-00\n",
    "    return udf(t, Int())\n",
    "\n",
    "dfTeamStats = dfTeamStats.withColumn(\"season_end_year\", extract_end_year()(\"season\"))\n",
    "dfTeamStats.where(dfTeamStats.team.isin({'Baltimore Bullets', 'Denver Nuggets', 'Charlotte Hornets'})).show(5)\n",
    "\n",
    "def add_team_version(): # for 'Baltimore Bullets', 'Denver Nuggets', 'Charlotte Hornets'\n",
    "    def t(team, year):\n",
    "        if team == 'Baltimore Bullets':\n",
    "            if 1948 <= year <= 1954:\n",
    "                return \"Baltimore Bullets [1st team]\"\n",
    "            if 1964 <= year <= 1973:\n",
    "                return \"Baltimore Bullets [2nd team]\"\n",
    "        if team == 'Charlotte Hornets':\n",
    "            if 1989 <= year <= 2002:\n",
    "                return \"Charlotte Hornets [1st team]\"\n",
    "            if 2015 <= year <= 2018:\n",
    "                return \"Charlotte Hornets [2nd team]\"\n",
    "        if team == 'Denver Nuggets':\n",
    "            if year == 1950:\n",
    "                return \"Denver Nuggets [1st team]\"\n",
    "            if 1977 <= year <= 2018:\n",
    "                return \"Denver Nuggets [2nd team]\"\n",
    "        return team\n",
    "    return udf(t, Str())\n",
    "\n",
    "dfTeamStats = dfTeamStats.withColumn(\"team\", add_team_version()(\"team\", \"season_end_year\"))"
   ]
  },
  {
   "cell_type": "code",
   "execution_count": 48,
   "metadata": {
    "editable": true
   },
   "outputs": [
    {
     "name": "stdout",
     "output_type": "stream",
     "text": [
      "+----------------------------+---------------+\n",
      "|team                        |season_end_year|\n",
      "+----------------------------+---------------+\n",
      "|Baltimore Bullets [2nd team]|1964           |\n",
      "|Baltimore Bullets [2nd team]|1965           |\n",
      "|Baltimore Bullets [2nd team]|1966           |\n",
      "|Baltimore Bullets [2nd team]|1967           |\n",
      "|Baltimore Bullets [2nd team]|1968           |\n",
      "|Baltimore Bullets [2nd team]|1969           |\n",
      "|Baltimore Bullets [2nd team]|1970           |\n",
      "|Baltimore Bullets [2nd team]|1971           |\n",
      "|Baltimore Bullets [2nd team]|1972           |\n",
      "|Baltimore Bullets [2nd team]|1973           |\n",
      "+----------------------------+---------------+\n",
      "only showing top 10 rows\n",
      "\n",
      "+--------------+---------------+\n",
      "|          team|season_end_year|\n",
      "+--------------+---------------+\n",
      "|Boston Celtics|           2018|\n",
      "|Boston Celtics|           2017|\n",
      "|Boston Celtics|           2016|\n",
      "|Boston Celtics|           2015|\n",
      "|Boston Celtics|           2014|\n",
      "|Boston Celtics|           2013|\n",
      "|Boston Celtics|           2012|\n",
      "|Boston Celtics|           2011|\n",
      "|Boston Celtics|           2010|\n",
      "|Boston Celtics|           2009|\n",
      "+--------------+---------------+\n",
      "only showing top 10 rows\n",
      "\n",
      "+----------------------------+\n",
      "|team                        |\n",
      "+----------------------------+\n",
      "|Denver Nuggets [2nd team]   |\n",
      "|Charlotte Hornets [2nd team]|\n",
      "|Baltimore Bullets [2nd team]|\n",
      "|Charlotte Hornets [1st team]|\n",
      "+----------------------------+\n",
      "\n"
     ]
    }
   ],
   "source": [
    "# check data after transformation\n",
    "dfTeamStats.select(\"team\", \"season_end_year\").where(\n",
    "    dfTeamStats.team.like('Baltimore Bullets%') | dfTeamStats.team.like('Denver Nuggets%') | dfTeamStats.team.like('Charlotte Hornets%')\n",
    ").orderBy(\n",
    "    \"team\", \"season_end_year\"\n",
    ").dropDuplicates().show(10, truncate=False)\n",
    "\n",
    "dfTeamStats.select(\"team\", \"season_end_year\").show(10)\n",
    "\n",
    "dfTeamStats.select(\"team\", \"season_end_year\").where(\"team is null\").count()\n",
    "\n",
    "dfTeamStats.select(\"team\", \"season_end_year\").where(\"team is null\").count()\n",
    "\n",
    "dfTeamStats.select(\"team\").where(\n",
    "    dfTeamStats.team.like('Baltimore Bullets%') | dfTeamStats.team.like('Denver Nuggets%') | dfTeamStats.team.like('Charlotte Hornets%')\n",
    ").dropDuplicates().show(10, truncate=False)"
   ]
  },
  {
   "cell_type": "markdown",
   "metadata": {
    "editable": true
   },
   "source": [
    "## Step 3: Define the Data Model\n",
    "### 3.1 Conceptual Data Model\n",
    "Map out the conceptual data model and explain why you chose that model\n",
    "\n",
    "### 3.2 Mapping Out Data Pipelines\n",
    "List the steps necessary to pipeline the data into the chosen data model\n",
    "\n",
    "### 3.3 Create Redshift"
   ]
  },
  {
   "cell_type": "code",
   "execution_count": null,
   "metadata": {
    "editable": true
   },
   "outputs": [],
   "source": [
    "import pandas as pd\n",
    "import boto3\n",
    "import json"
   ]
  },
  {
   "cell_type": "code",
   "execution_count": null,
   "metadata": {
    "editable": true
   },
   "outputs": [],
   "source": [
    "import configparser\n",
    "config = configparser.ConfigParser()\n",
    "config.read_file(open('dwh.cfg'))\n",
    "\n",
    "KEY                    = config.get('AWS','KEY')\n",
    "SECRET                 = config.get('AWS','SECRET')\n",
    "\n",
    "DWH_CLUSTER_TYPE       = config.get(\"DWH\",\"DWH_CLUSTER_TYPE\")\n",
    "DWH_NUM_NODES          = config.get(\"DWH\",\"DWH_NUM_NODES\")\n",
    "DWH_NODE_TYPE          = config.get(\"DWH\",\"DWH_NODE_TYPE\")\n",
    "\n",
    "DWH_CLUSTER_IDENTIFIER = config.get(\"DWH\",\"DWH_CLUSTER_IDENTIFIER\")\n",
    "DWH_DB                 = config.get(\"DWH\",\"DWH_DB\")\n",
    "DWH_DB_USER            = config.get(\"DWH\",\"DWH_DB_USER\")\n",
    "DWH_DB_PASSWORD        = config.get(\"DWH\",\"DWH_DB_PASSWORD\")\n",
    "DWH_PORT               = config.get(\"DWH\",\"DWH_PORT\")\n",
    "\n",
    "DWH_IAM_ROLE_NAME      = config.get(\"DWH\", \"DWH_IAM_ROLE_NAME\")\n",
    "\n",
    "(DWH_DB_USER, DWH_DB_PASSWORD, DWH_DB)\n",
    "\n",
    "pd.DataFrame({\"Param\": [\"DWH_CLUSTER_TYPE\", \"DWH_NUM_NODES\", \"DWH_NODE_TYPE\", \"DWH_CLUSTER_IDENTIFIER\", \n",
    "                        \"DWH_DB\", \"DWH_DB_USER\", \"DWH_DB_PASSWORD\", \"DWH_PORT\", \"DWH_IAM_ROLE_NAME\"],\n",
    "              \"Value\": [ DWH_CLUSTER_TYPE ,  DWH_NUM_NODES ,  DWH_NODE_TYPE ,  DWH_CLUSTER_IDENTIFIER , \n",
    "                         DWH_DB ,  DWH_DB_USER ,  DWH_DB_PASSWORD ,  DWH_PORT ,  DWH_IAM_ROLE_NAME ]\n",
    "             })"
   ]
  },
  {
   "cell_type": "code",
   "execution_count": null,
   "metadata": {
    "editable": true
   },
   "outputs": [],
   "source": [
    "args = {\n",
    "    \"region_name\": \"us-west-2\",\n",
    "    \"aws_access_key_id\": KEY,\n",
    "    \"aws_secret_access_key\": SECRET\n",
    "}\n",
    "\n",
    "ec2 = boto3.resource('ec2', **args)\n",
    "s3 = boto3.resource('s3', **args)\n",
    "iam = boto3.client('iam', **args)\n",
    "redshift = boto3.client('redshift', **args)"
   ]
  },
  {
   "cell_type": "code",
   "execution_count": null,
   "metadata": {
    "editable": true
   },
   "outputs": [],
   "source": [
    "s3bucket =  s3.Bucket(\"udacity-data-eng-capstone-parquet\") # private\n",
    "\n",
    "s3_data = iter(s3bucket.objects.filter(Prefix=\"dimBirthTime/\"))\n",
    "for _ in range(5): print(next(s3_data))"
   ]
  },
  {
   "cell_type": "code",
   "execution_count": null,
   "metadata": {
    "editable": true
   },
   "outputs": [],
   "source": [
    "try:\n",
    "    print('1.1 Creating a new IAM Role')\n",
    "    dwhRole = iam.create_role(\n",
    "        Path='/',\n",
    "        RoleName=DWH_IAM_ROLE_NAME,\n",
    "        Description = \"Allows Redshift clusters to call AWS services on your behalf.\",\n",
    "        AssumeRolePolicyDocument=json.dumps(\n",
    "            {'Statement': [{'Action': 'sts:AssumeRole',\n",
    "               'Effect': 'Allow',\n",
    "               'Principal': {'Service': 'redshift.amazonaws.com'}}],\n",
    "             'Version': '2012-10-17'})\n",
    "    )    \n",
    "\n",
    "except Exception as e:\n",
    "    print(e)"
   ]
  },
  {
   "cell_type": "code",
   "execution_count": null,
   "metadata": {
    "editable": true
   },
   "outputs": [],
   "source": [
    "print('1.2 Attaching Policy')\n",
    "iam.attach_role_policy(RoleName=DWH_IAM_ROLE_NAME,\n",
    "                       PolicyArn=\"arn:aws:iam::aws:policy/AmazonS3ReadOnlyAccess\"\n",
    "                      )['ResponseMetadata']['HTTPStatusCode']"
   ]
  },
  {
   "cell_type": "code",
   "execution_count": null,
   "metadata": {
    "editable": true
   },
   "outputs": [],
   "source": [
    "print('1.3 Get the IAM role ARN')\n",
    "roleArn = iam.get_role(RoleName=DWH_IAM_ROLE_NAME)['Role']['Arn']\n",
    "print(roleArn)"
   ]
  },
  {
   "cell_type": "code",
   "execution_count": null,
   "metadata": {
    "editable": true
   },
   "outputs": [],
   "source": [
    "try:\n",
    "    response = redshift.create_cluster(        \n",
    "        # parameters for hardware\n",
    "        ClusterType=DWH_CLUSTER_TYPE,\n",
    "        NodeType=DWH_NODE_TYPE,\n",
    "        NumberOfNodes=int(DWH_NUM_NODES),\n",
    "\n",
    "        # parameters for identifiers & credentials\n",
    "        DBName=DWH_DB,\n",
    "        ClusterIdentifier=DWH_CLUSTER_IDENTIFIER,\n",
    "        MasterUsername=DWH_DB_USER,\n",
    "        MasterUserPassword=DWH_DB_PASSWORD,\n",
    "        \n",
    "        # parameter for role (to allow s3 access)\n",
    "        IamRoles=[roleArn]\n",
    "    )\n",
    "except Exception as e:\n",
    "    print(e)"
   ]
  },
  {
   "cell_type": "code",
   "execution_count": null,
   "metadata": {
    "editable": true
   },
   "outputs": [],
   "source": [
    "def prettyRedshiftProps(props):\n",
    "    pd.set_option('display.max_colwidth', -1)\n",
    "    keysToShow = [\"ClusterIdentifier\", \"NodeType\", \"ClusterStatus\", \"MasterUsername\", \"DBName\", \"Endpoint\", \"NumberOfNodes\", 'VpcId']\n",
    "    x = [(k, v) for k,v in props.items() if k in keysToShow]\n",
    "    return pd.DataFrame(data=x, columns=[\"Key\", \"Value\"])"
   ]
  },
  {
   "cell_type": "code",
   "execution_count": null,
   "metadata": {
    "editable": true
   },
   "outputs": [],
   "source": [
    "# wait till cluster status is availabe\n",
    "myClusterProps = redshift.describe_clusters(ClusterIdentifier=DWH_CLUSTER_IDENTIFIER)['Clusters'][0]\n",
    "prettyRedshiftProps(myClusterProps)"
   ]
  },
  {
   "cell_type": "markdown",
   "metadata": {
    "editable": true
   },
   "source": [
    "### Print and copy them to dwh.cfg, erase before submitting or pushing to github"
   ]
  },
  {
   "cell_type": "code",
   "execution_count": null,
   "metadata": {
    "editable": true
   },
   "outputs": [],
   "source": [
    "DWH_ENDPOINT = myClusterProps['Endpoint']['Address']\n",
    "DWH_ROLE_ARN = myClusterProps['IamRoles'][0]['IamRoleArn']\n",
    "print(\"DWH_ENDPOINT :: \", DWH_ENDPOINT)\n",
    "print(\"DWH_ROLE_ARN :: \", DWH_ROLE_ARN)"
   ]
  },
  {
   "cell_type": "code",
   "execution_count": null,
   "metadata": {
    "editable": true
   },
   "outputs": [],
   "source": [
    "%load_ext sql"
   ]
  },
  {
   "cell_type": "markdown",
   "metadata": {
    "editable": true
   },
   "source": [
    "## Step 4: Run Pipelines to Model the Data \n",
    "### 4.1 Create the data model\n",
    "Build the data pipelines to create the data model."
   ]
  },
  {
   "cell_type": "code",
   "execution_count": null,
   "metadata": {
    "editable": true
   },
   "outputs": [],
   "source": [
    "# Write code here"
   ]
  },
  {
   "cell_type": "markdown",
   "metadata": {
    "editable": true
   },
   "source": [
    "#### 4.2 Data Quality Checks\n",
    "Explain the data quality checks you'll perform to ensure the pipeline ran as expected. These could include:\n",
    " * Integrity constraints on the relational database (e.g., unique key, data type, etc.)\n",
    " * Unit tests for the scripts to ensure they are doing the right thing\n",
    " * Source/Count checks to ensure completeness\n",
    " \n",
    "Run Quality Checks"
   ]
  },
  {
   "cell_type": "code",
   "execution_count": null,
   "metadata": {
    "editable": true
   },
   "outputs": [],
   "source": [
    "# Perform quality checks here"
   ]
  },
  {
   "cell_type": "markdown",
   "metadata": {
    "editable": true
   },
   "source": [
    "#### 4.3 Data dictionary \n",
    "Create a data dictionary for your data model. For each field, provide a brief description of what the data is and where it came from. You can include the data dictionary in the notebook or in a separate file."
   ]
  },
  {
   "cell_type": "markdown",
   "metadata": {
    "editable": true
   },
   "source": [
    "## Step 5: Complete Project Write Up\n",
    "* Clearly state the rationale for the choice of tools and technologies for the project.\n",
    "* Propose how often the data should be updated and why.\n",
    "* Write a description of how you would approach the problem differently under the following scenarios:\n",
    " * The data was increased by 100x.\n",
    " * The data populates a dashboard that must be updated on a daily basis by 7am every day.\n",
    " * The database needed to be accessed by 100+ people."
   ]
  },
  {
   "cell_type": "code",
   "execution_count": null,
   "metadata": {
    "editable": true
   },
   "outputs": [],
   "source": [
    "redshift.delete_cluster(ClusterIdentifier=DWH_CLUSTER_IDENTIFIER, SkipFinalClusterSnapshot=True)\n",
    "iam.detach_role_policy(RoleName=DWH_IAM_ROLE_NAME, PolicyArn=\"arn:aws:iam::aws:policy/AmazonS3ReadOnlyAccess\")\n",
    "iam.delete_role(RoleName=DWH_IAM_ROLE_NAME)"
   ]
  },
  {
   "cell_type": "code",
   "execution_count": null,
   "metadata": {
    "editable": true
   },
   "outputs": [],
   "source": []
  },
  {
   "cell_type": "code",
   "execution_count": null,
   "metadata": {
    "editable": true
   },
   "outputs": [],
   "source": []
  },
  {
   "cell_type": "code",
   "execution_count": null,
   "metadata": {
    "editable": true
   },
   "outputs": [],
   "source": []
  },
  {
   "cell_type": "code",
   "execution_count": null,
   "metadata": {
    "editable": true
   },
   "outputs": [],
   "source": []
  },
  {
   "cell_type": "code",
   "execution_count": null,
   "metadata": {
    "editable": true
   },
   "outputs": [],
   "source": []
  }
 ],
 "metadata": {
  "kernelspec": {
   "display_name": "Python 3",
   "language": "python",
   "name": "python3"
  },
  "language_info": {
   "codemirror_mode": {
    "name": "ipython",
    "version": 3
   },
   "file_extension": ".py",
   "mimetype": "text/x-python",
   "name": "python",
   "nbconvert_exporter": "python",
   "pygments_lexer": "ipython3",
   "version": "3.6.3"
  }
 },
 "nbformat": 4,
 "nbformat_minor": 4
}
