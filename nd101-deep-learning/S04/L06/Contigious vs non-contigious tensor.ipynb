{
 "cells": [
  {
   "cell_type": "markdown",
   "metadata": {},
   "source": [
    "# Contigious vs non-contigious tensor\n",
    "\n",
    "It’s a flag indicating, if the memory is contiguously stored or not.\n",
    "\n",
    "Let use an example to see, how we can get a non-contiguous tensor."
   ]
  },
  {
   "cell_type": "code",
   "execution_count": 1,
   "metadata": {},
   "outputs": [
    {
     "name": "stdout",
     "output_type": "stream",
     "text": [
      "tensor([[ 0,  1,  2],\n",
      "        [ 3,  4,  5],\n",
      "        [ 6,  7,  8],\n",
      "        [ 9, 10, 11]]) (3, 1)\n"
     ]
    }
   ],
   "source": [
    "import torch\n",
    "# Create a tensor of shape [4, 3]\n",
    "x = torch.arange(12).view(4, 3)\n",
    "print(x, x.stride())"
   ]
  },
  {
   "cell_type": "raw",
   "metadata": {},
   "source": [
    "As you can see, the tensor has the desired shape.\n",
    "The strides are also interesting in this case. They basically tell us, how many “steps” we skip in memory to move to the next position along a certain axis.\n",
    "If we look at the strides, we see, that we would have to skip 3 values to go to the new row, while only 1 to go to the next column. That makes sense so far. The values are stored sequentially in memory, i.e. the memory cells should hold the data as [0, 1, 2, 3, ..., 11].\n",
    "\n",
    "Now lets transpose the tensor, and have again a look at the strides:"
   ]
  },
  {
   "cell_type": "code",
   "execution_count": 2,
   "metadata": {},
   "outputs": [
    {
     "name": "stdout",
     "output_type": "stream",
     "text": [
      "tensor([[ 0,  3,  6,  9],\n",
      "        [ 1,  4,  7, 10],\n",
      "        [ 2,  5,  8, 11]]) (1, 3)\n",
      "False\n"
     ]
    }
   ],
   "source": [
    "y = x.t()\n",
    "print(y, y.stride())\n",
    "print(y.is_contiguous())"
   ]
  },
  {
   "cell_type": "raw",
   "metadata": {},
   "source": [
    "The print statement of the tensor yields the desired transposed view of x.\n",
    "However, the strides are now swapped. In order to go to the next row, we only have to skip 1 value, while 3 to move to the next column.\n",
    "This makes sense, if we recall the memory layout of the tensor:\n",
    "[0, 1, 2, 3, 4, ..., 11]\n",
    "In order to move to the next column (e.g. from 0 to 3, we would have to skip 3 values.\n",
    "The tensor is thus non-contiguous anymore!\n",
    "\n",
    "That’s not really a problem for us, except, that some operations won’t work.\n",
    "E.g. if we try to get a flattened view of y, we will run into a RuntimeError:"
   ]
  },
  {
   "cell_type": "code",
   "execution_count": 3,
   "metadata": {},
   "outputs": [
    {
     "name": "stdout",
     "output_type": "stream",
     "text": [
      "view size is not compatible with input tensor's size and stride (at least one dimension spans across two contiguous subspaces). Use .reshape(...) instead.\n"
     ]
    }
   ],
   "source": [
    "try:\n",
    "    y = y.view(-1)\n",
    "except RuntimeError as e:\n",
    "    print(e)"
   ]
  },
  {
   "cell_type": "code",
   "execution_count": 4,
   "metadata": {},
   "outputs": [
    {
     "name": "stdout",
     "output_type": "stream",
     "text": [
      "(4, 1)\n",
      "tensor([ 0,  3,  6,  9,  1,  4,  7, 10,  2,  5,  8, 11])\n"
     ]
    }
   ],
   "source": [
    "y = y.contiguous()\n",
    "print(y.stride())\n",
    "y = y.view(-1)\n",
    "print(y)"
   ]
  },
  {
   "cell_type": "raw",
   "metadata": {},
   "source": [
    "Now the memory layout is contiguous once again (have a look at the strides) and the view works just fine.\n",
    "I’m not completely sure, but I assume the contiguous call copies the memory to make it continuous again.\n",
    "\n",
    "That being said, continuous arrays are necessary for some vectorized instructions to work.\n",
    "Also generally they should have some performance advantages,\n",
    "as the memory access pattern on modern CPUs will apparently be used in an optimal way,\n",
    "but I’m really not an expert on this topic, so take these last information with a grain of salt. :wink:"
   ]
  },
  {
   "cell_type": "code",
   "execution_count": null,
   "metadata": {},
   "outputs": [],
   "source": []
  }
 ],
 "metadata": {
  "kernelspec": {
   "display_name": "Python 3",
   "language": "python",
   "name": "python3"
  },
  "language_info": {
   "codemirror_mode": {
    "name": "ipython",
    "version": 3
   },
   "file_extension": ".py",
   "mimetype": "text/x-python",
   "name": "python",
   "nbconvert_exporter": "python",
   "pygments_lexer": "ipython3",
   "version": "3.7.5"
  }
 },
 "nbformat": 4,
 "nbformat_minor": 4
}
