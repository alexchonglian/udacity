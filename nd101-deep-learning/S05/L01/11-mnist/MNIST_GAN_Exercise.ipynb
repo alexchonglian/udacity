{
 "cells": [
  {
   "cell_type": "markdown",
   "metadata": {},
   "source": [
    "# Generative Adversarial Network\n",
    "\n",
    "In this notebook, we'll be building a generative adversarial network (GAN) trained on the MNIST dataset. From this, we'll be able to generate new handwritten digits!\n",
    "\n",
    "GANs were [first reported on](https://arxiv.org/abs/1406.2661) in 2014 from Ian Goodfellow and others in Yoshua Bengio's lab. Since then, GANs have exploded in popularity. Here are a few examples to check out:\n",
    "\n",
    "* [Pix2Pix](https://affinelayer.com/pixsrv/) \n",
    "* [CycleGAN & Pix2Pix in PyTorch, Jun-Yan Zhu](https://github.com/junyanz/pytorch-CycleGAN-and-pix2pix)\n",
    "* [A list of generative models](https://github.com/wiseodd/generative-models)\n",
    "\n",
    "The idea behind GANs is that you have two networks, a generator $G$ and a discriminator $D$, competing against each other. The generator makes \"fake\" data to pass to the discriminator. The discriminator also sees real training data and predicts if the data it's received is real or fake. \n",
    "> * The generator is trained to fool the discriminator, it wants to output data that looks _as close as possible_ to real, training data. \n",
    "* The discriminator is a classifier that is trained to figure out which data is real and which is fake. \n",
    "\n",
    "What ends up happening is that the generator learns to make data that is indistinguishable from real data to the discriminator.\n",
    "\n",
    "<img src='assets/gan_pipeline.png' width=70% />\n",
    "\n",
    "The general structure of a GAN is shown in the diagram above, using MNIST images as data. The latent sample is a random vector that the generator uses to construct its fake images. This is often called a **latent vector** and that vector space is called **latent space**. As the generator trains, it figures out how to map latent vectors to recognizable images that can fool the discriminator.\n",
    "\n",
    "If you're interested in generating only new images, you can throw out the discriminator after training. In this notebook, I'll show you how to define and train these adversarial networks in PyTorch and generate new images!"
   ]
  },
  {
   "cell_type": "code",
   "execution_count": 1,
   "metadata": {},
   "outputs": [],
   "source": [
    "%matplotlib inline\n",
    "\n",
    "import numpy as np\n",
    "import torch\n",
    "import matplotlib.pyplot as plt"
   ]
  },
  {
   "cell_type": "code",
   "execution_count": 2,
   "metadata": {},
   "outputs": [],
   "source": [
    "from torchvision import datasets\n",
    "import torchvision.transforms as transforms\n",
    "\n",
    "# number of subprocesses to use for data loading\n",
    "num_workers = 0\n",
    "# how many samples per batch to load\n",
    "batch_size = 64\n",
    "\n",
    "# convert data to torch.FloatTensor\n",
    "transform = transforms.ToTensor()\n",
    "\n",
    "# get the training datasets\n",
    "train_data = datasets.MNIST(root='data', train=True,\n",
    "                            download=True, transform=transform)\n",
    "\n",
    "# prepare data loader\n",
    "train_loader = torch.utils.data.DataLoader(train_data, batch_size=batch_size,\n",
    "                                           num_workers=num_workers)"
   ]
  },
  {
   "cell_type": "markdown",
   "metadata": {},
   "source": [
    "### Visualize the data"
   ]
  },
  {
   "cell_type": "code",
   "execution_count": 3,
   "metadata": {},
   "outputs": [
    {
     "data": {
      "text/plain": [
       "<matplotlib.image.AxesImage at 0x7f6f600bf5f8>"
      ]
     },
     "execution_count": 3,
     "metadata": {},
     "output_type": "execute_result"
    },
    {
     "data": {
      "image/png": "[encoded data removed]",
      "text/plain": [
       "<matplotlib.figure.Figure at 0x7f6f600f0f28>"
      ]
     },
     "metadata": {
      "needs_background": "light"
     },
     "output_type": "display_data"
    }
   ],
   "source": [
    "# obtain one batch of training images\n",
    "dataiter = iter(train_loader)\n",
    "images, labels = dataiter.next()\n",
    "images = images.numpy()\n",
    "\n",
    "# get one image from the batch\n",
    "img = np.squeeze(images[0])\n",
    "\n",
    "fig = plt.figure(figsize = (3,3)) \n",
    "ax = fig.add_subplot(111)\n",
    "ax.imshow(img, cmap='gray')"
   ]
  },
  {
   "cell_type": "markdown",
   "metadata": {},
   "source": [
    "---\n",
    "# Define the Model\n",
    "\n",
    "A GAN is comprised of two adversarial networks, a discriminator and a generator."
   ]
  },
  {
   "cell_type": "markdown",
   "metadata": {},
   "source": [
    "## Discriminator\n",
    "\n",
    "The discriminator network is going to be a pretty typical linear classifier. To make this network a universal function approximator, we'll need at least one hidden layer, and these hidden layers should have one key attribute:\n",
    "> All hidden layers will have a [Leaky ReLu](https://pytorch.org/docs/stable/nn.html#torch.nn.LeakyReLU) activation function applied to their outputs.\n",
    "\n",
    "<img src='assets/gan_network.png' width=70% />\n",
    "\n",
    "#### Leaky ReLu\n",
    "\n",
    "We should use a leaky ReLU to allow gradients to flow backwards through the layer unimpeded. A leaky ReLU is like a normal ReLU, except that there is a small non-zero output for negative input values.\n",
    "\n",
    "<img src='assets/leaky_relu.png' width=40% />\n",
    "\n",
    "#### Sigmoid Output\n",
    "\n",
    "We'll also take the approach of using a more numerically stable loss function on the outputs. Recall that we want the discriminator to output a value 0-1 indicating whether an image is _real or fake_. \n",
    "> We will ultimately use [BCEWithLogitsLoss](https://pytorch.org/docs/stable/nn.html#bcewithlogitsloss), which combines a `sigmoid` activation function **and** and binary cross entropy loss in one function. \n",
    "\n",
    "So, our final output layer should not have any activation function applied to it."
   ]
  },
  {
   "cell_type": "code",
   "execution_count": 4,
   "metadata": {},
   "outputs": [],
   "source": [
    "import torch.nn as nn\n",
    "import torch.nn.functional as F"
   ]
  },
  {
   "cell_type": "code",
   "execution_count": 5,
   "metadata": {},
   "outputs": [],
   "source": [
    "class Discriminator(nn.Module):\n",
    "\n",
    "    def __init__(self, input_size, hidden_dim, output_size):\n",
    "        super(Discriminator, self).__init__()\n",
    "        # define hidden linear layers\n",
    "        self.fc1 = nn.Linear(input_size, hidden_dim*4)\n",
    "        self.fc2 = nn.Linear(hidden_dim*4, hidden_dim*2)\n",
    "        self.fc3 = nn.Linear(hidden_dim*2, hidden_dim)\n",
    "        # final fully-connected layer\n",
    "        self.fc4 = nn.Linear(hidden_dim, output_size)\n",
    "        # dropout layer \n",
    "        self.dropout = nn.Dropout(0.3)\n",
    "        \n",
    "        \n",
    "    def forward(self, x):\n",
    "        # flatten image\n",
    "        x = x.view(-1, 28*28)\n",
    "        # all hidden layers\n",
    "        x = self.dropout(F.leaky_relu(self.fc1(x), 0.2))\n",
    "        x = self.dropout(F.leaky_relu(self.fc2(x), 0.2))\n",
    "        x = self.dropout(F.leaky_relu(self.fc3(x), 0.2))\n",
    "        # final layer\n",
    "        x = self.fc4(x)\n",
    "        return x"
   ]
  },
  {
   "cell_type": "markdown",
   "metadata": {},
   "source": [
    "## Generator\n",
    "\n",
    "The generator network will be almost exactly the same as the discriminator network, except that we're applying a [tanh activation function](https://pytorch.org/docs/stable/nn.html#tanh) to our output layer.\n",
    "\n",
    "#### tanh Output\n",
    "The generator has been found to perform the best with $tanh$ for the generator output, which scales the output to be between -1 and 1, instead of 0 and 1. \n",
    "\n",
    "<img src='assets/tanh_fn.png' width=40% />\n",
    "\n",
    "Recall that we also want these outputs to be comparable to the *real* input pixel values, which are read in as normalized values between 0 and 1. \n",
    "> So, we'll also have to **scale our real input images to have pixel values between -1 and 1** when we train the discriminator. \n",
    "\n",
    "I'll do this in the training loop, later on."
   ]
  },
  {
   "cell_type": "code",
   "execution_count": 6,
   "metadata": {},
   "outputs": [],
   "source": [
    "class Generator(nn.Module):\n",
    "\n",
    "    def __init__(self, input_size, hidden_dim, output_size):\n",
    "        super(Generator, self).__init__()\n",
    "        # define hidden linear layers\n",
    "        self.fc1 = nn.Linear(input_size, hidden_dim)\n",
    "        self.fc2 = nn.Linear(hidden_dim, hidden_dim*2)\n",
    "        self.fc3 = nn.Linear(hidden_dim*2, hidden_dim*4)\n",
    "        # final fully-connected layer\n",
    "        self.fc4 = nn.Linear(hidden_dim*4, output_size)\n",
    "        # dropout layer \n",
    "        self.dropout = nn.Dropout(0.3)\n",
    "\n",
    "    def forward(self, x):\n",
    "        # all hidden layers\n",
    "        x = self.dropout(F.leaky_relu(self.fc1(x), 0.2))\n",
    "        x = self.dropout(F.leaky_relu(self.fc2(x), 0.2))\n",
    "        x = self.dropout(F.leaky_relu(self.fc3(x), 0.2))\n",
    "        # final layer with tanh applied\n",
    "        x = F.tanh(self.fc4(x))\n",
    "        return x"
   ]
  },
  {
   "cell_type": "markdown",
   "metadata": {},
   "source": [
    "## Model hyperparameters"
   ]
  },
  {
   "cell_type": "code",
   "execution_count": 7,
   "metadata": {},
   "outputs": [],
   "source": [
    "# Discriminator hyperparams\n",
    "\n",
    "# Size of input image to discriminator (28*28)\n",
    "input_size = 28*28\n",
    "# Size of discriminator output (real or fake)\n",
    "d_output_size = 1\n",
    "# Size of *last* hidden layer in the discriminator\n",
    "d_hidden_size = 32\n",
    "\n",
    "# Generator hyperparams\n",
    "\n",
    "# Size of latent vector to give to generator\n",
    "z_size = 100\n",
    "# Size of discriminator output (generated image)\n",
    "g_output_size = 28*28\n",
    "# Size of *first* hidden layer in the generator\n",
    "g_hidden_size = 32"
   ]
  },
  {
   "cell_type": "markdown",
   "metadata": {},
   "source": [
    "## Build complete network\n",
    "\n",
    "Now we're instantiating the discriminator and generator from the classes defined above. Make sure you've passed in the correct input arguments."
   ]
  },
  {
   "cell_type": "code",
   "execution_count": 8,
   "metadata": {},
   "outputs": [
    {
     "name": "stdout",
     "output_type": "stream",
     "text": [
      "Discriminator(\n",
      "  (fc1): Linear(in_features=784, out_features=128, bias=True)\n",
      "  (fc2): Linear(in_features=128, out_features=64, bias=True)\n",
      "  (fc3): Linear(in_features=64, out_features=32, bias=True)\n",
      "  (fc4): Linear(in_features=32, out_features=1, bias=True)\n",
      "  (dropout): Dropout(p=0.3)\n",
      ")\n",
      "\n",
      "Generator(\n",
      "  (fc1): Linear(in_features=100, out_features=32, bias=True)\n",
      "  (fc2): Linear(in_features=32, out_features=64, bias=True)\n",
      "  (fc3): Linear(in_features=64, out_features=128, bias=True)\n",
      "  (fc4): Linear(in_features=128, out_features=784, bias=True)\n",
      "  (dropout): Dropout(p=0.3)\n",
      ")\n"
     ]
    }
   ],
   "source": [
    "# instantiate discriminator and generator\n",
    "D = Discriminator(input_size, d_hidden_size, d_output_size)\n",
    "G = Generator(z_size, g_hidden_size, g_output_size)\n",
    "\n",
    "# check that they are as you expect\n",
    "print(D)\n",
    "print()\n",
    "print(G)"
   ]
  },
  {
   "cell_type": "markdown",
   "metadata": {},
   "source": [
    "---\n",
    "## Discriminator and Generator Losses\n",
    "\n",
    "Now we need to calculate the losses. \n",
    "\n",
    "### Discriminator Losses\n",
    "\n",
    "> * For the discriminator, the total loss is the sum of the losses for real and fake images, `d_loss = d_real_loss + d_fake_loss`. \n",
    "* Remember that we want the discriminator to output 1 for real images and 0 for fake images, so we need to set up the losses to reflect that.\n",
    "\n",
    "<img src='assets/gan_pipeline.png' width=70% />\n",
    "\n",
    "The losses will by binary cross entropy loss with logits, which we can get with [BCEWithLogitsLoss](https://pytorch.org/docs/stable/nn.html#bcewithlogitsloss). This combines a `sigmoid` activation function **and** and binary cross entropy loss in one function.\n",
    "\n",
    "For the real images, we want `D(real_images) = 1`. That is, we want the discriminator to classify the the real images with a label = 1, indicating that these are real. To help the discriminator generalize better, the labels are **reduced a bit from 1.0 to 0.9**. For this, we'll use the parameter `smooth`; if True, then we should smooth our labels. In PyTorch, this looks like `labels = torch.ones(size) * 0.9`\n",
    "\n",
    "The discriminator loss for the fake data is similar. We want `D(fake_images) = 0`, where the fake images are the _generator output_, `fake_images = G(z)`. \n",
    "\n",
    "### Generator Loss\n",
    "\n",
    "The generator loss will look similar only with flipped labels. The generator's goal is to get `D(fake_images) = 1`. In this case, the labels are **flipped** to represent that the generator is trying to fool the discriminator into thinking that the images it generates (fakes) are real!"
   ]
  },
  {
   "cell_type": "code",
   "execution_count": 9,
   "metadata": {},
   "outputs": [],
   "source": [
    "# Calculate losses\n",
    "def real_loss(D_out, smooth=False):\n",
    "    batch_size = D_out.size(0)\n",
    "    # label smoothing\n",
    "    if smooth:\n",
    "        # smooth, real labels = 0.9\n",
    "        labels = torch.ones(batch_size)*0.9\n",
    "    else:\n",
    "        labels = torch.ones(batch_size) # real labels = 1\n",
    "        \n",
    "    # numerically stable loss\n",
    "    criterion = nn.BCEWithLogitsLoss()\n",
    "    # calculate loss\n",
    "    loss = criterion(D_out.squeeze(), labels)\n",
    "    return loss\n",
    "\n",
    "def fake_loss(D_out):\n",
    "    batch_size = D_out.size(0)\n",
    "    labels = torch.zeros(batch_size) # fake labels = 0\n",
    "    criterion = nn.BCEWithLogitsLoss()\n",
    "    # calculate loss\n",
    "    loss = criterion(D_out.squeeze(), labels)\n",
    "    return loss"
   ]
  },
  {
   "cell_type": "markdown",
   "metadata": {},
   "source": [
    "## Optimizers\n",
    "\n",
    "We want to update the generator and discriminator variables separately. So, we'll define two separate Adam optimizers."
   ]
  },
  {
   "cell_type": "code",
   "execution_count": 10,
   "metadata": {
    "scrolled": true
   },
   "outputs": [],
   "source": [
    "import torch.optim as optim\n",
    "\n",
    "# learning rate for optimizers\n",
    "lr = 0.002\n",
    "\n",
    "# Create optimizers for the discriminator and generator\n",
    "d_optimizer = optim.Adam(D.parameters(), lr)\n",
    "g_optimizer = optim.Adam(G.parameters(), lr)"
   ]
  },
  {
   "cell_type": "markdown",
   "metadata": {},
   "source": [
    "---\n",
    "## Training\n",
    "\n",
    "Training will involve alternating between training the discriminator and the generator. We'll use our functions `real_loss` and `fake_loss` to help us calculate the discriminator losses in all of the following cases.\n",
    "\n",
    "### Discriminator training\n",
    "1. Compute the discriminator loss on real, training images        \n",
    "2. Generate fake images\n",
    "3. Compute the discriminator loss on fake, generated images     \n",
    "4. Add up real and fake loss\n",
    "5. Perform backpropagation + an optimization step to update the discriminator's weights\n",
    "\n",
    "### Generator training\n",
    "1. Generate fake images\n",
    "2. Compute the discriminator loss on fake images, using **flipped** labels!\n",
    "3. Perform backpropagation + an optimization step to update the generator's weights\n",
    "\n",
    "#### Saving Samples\n",
    "\n",
    "As we train, we'll also print out some loss statistics and save some generated \"fake\" samples."
   ]
  },
  {
   "cell_type": "code",
   "execution_count": 11,
   "metadata": {
    "scrolled": true
   },
   "outputs": [
    {
     "name": "stdout",
     "output_type": "stream",
     "text": [
      "Epoch [    1/  100] | d_loss: 1.3852 | g_loss: 0.7205\n",
      "Epoch [    1/  100] | d_loss: 1.3504 | g_loss: 1.3536\n",
      "Epoch [    1/  100] | d_loss: 1.0758 | g_loss: 1.3500\n",
      "Epoch [    2/  100] | d_loss: 1.0009 | g_loss: 2.8012\n",
      "Epoch [    2/  100] | d_loss: 1.2779 | g_loss: 0.9146\n",
      "Epoch [    2/  100] | d_loss: 1.4681 | g_loss: 0.6451\n",
      "Epoch [    3/  100] | d_loss: 1.0709 | g_loss: 1.8499\n",
      "Epoch [    3/  100] | d_loss: 1.2587 | g_loss: 1.3710\n",
      "Epoch [    3/  100] | d_loss: 1.2695 | g_loss: 0.8816\n",
      "Epoch [    4/  100] | d_loss: 1.2712 | g_loss: 0.8997\n",
      "Epoch [    4/  100] | d_loss: 1.1018 | g_loss: 1.0300\n",
      "Epoch [    4/  100] | d_loss: 1.0474 | g_loss: 1.0893\n",
      "Epoch [    5/  100] | d_loss: 1.0745 | g_loss: 1.2618\n",
      "Epoch [    5/  100] | d_loss: 1.1477 | g_loss: 1.1498\n",
      "Epoch [    5/  100] | d_loss: 0.9955 | g_loss: 1.3653\n",
      "Epoch [    6/  100] | d_loss: 1.2956 | g_loss: 1.1501\n",
      "Epoch [    6/  100] | d_loss: 1.1894 | g_loss: 1.7398\n",
      "Epoch [    6/  100] | d_loss: 1.7880 | g_loss: 1.4543\n",
      "Epoch [    7/  100] | d_loss: 1.1105 | g_loss: 1.0308\n",
      "Epoch [    7/  100] | d_loss: 1.3165 | g_loss: 1.8418\n",
      "Epoch [    7/  100] | d_loss: 1.0499 | g_loss: 3.7062\n",
      "Epoch [    8/  100] | d_loss: 1.1780 | g_loss: 7.5222\n",
      "Epoch [    8/  100] | d_loss: 0.9265 | g_loss: 3.6247\n",
      "Epoch [    8/  100] | d_loss: 0.9643 | g_loss: 2.0089\n",
      "Epoch [    9/  100] | d_loss: 0.8636 | g_loss: 6.1302\n",
      "Epoch [    9/  100] | d_loss: 1.0425 | g_loss: 2.0160\n",
      "Epoch [    9/  100] | d_loss: 1.0982 | g_loss: 2.6867\n",
      "Epoch [   10/  100] | d_loss: 1.2189 | g_loss: 2.6872\n",
      "Epoch [   10/  100] | d_loss: 0.8908 | g_loss: 1.8374\n",
      "Epoch [   10/  100] | d_loss: 1.2260 | g_loss: 1.1760\n",
      "Epoch [   11/  100] | d_loss: 1.1982 | g_loss: 1.2606\n",
      "Epoch [   11/  100] | d_loss: 1.1468 | g_loss: 1.5375\n",
      "Epoch [   11/  100] | d_loss: 1.1252 | g_loss: 1.1759\n",
      "Epoch [   12/  100] | d_loss: 1.1622 | g_loss: 1.3060\n",
      "Epoch [   12/  100] | d_loss: 1.1810 | g_loss: 1.3488\n",
      "Epoch [   12/  100] | d_loss: 1.3258 | g_loss: 1.2035\n",
      "Epoch [   13/  100] | d_loss: 1.2762 | g_loss: 1.0790\n",
      "Epoch [   13/  100] | d_loss: 1.2900 | g_loss: 0.9937\n",
      "Epoch [   13/  100] | d_loss: 1.2949 | g_loss: 1.1970\n",
      "Epoch [   14/  100] | d_loss: 1.3958 | g_loss: 1.2854\n",
      "Epoch [   14/  100] | d_loss: 1.3232 | g_loss: 0.9517\n",
      "Epoch [   14/  100] | d_loss: 1.2894 | g_loss: 1.0039\n",
      "Epoch [   15/  100] | d_loss: 1.2914 | g_loss: 1.1368\n",
      "Epoch [   15/  100] | d_loss: 1.2758 | g_loss: 0.9945\n",
      "Epoch [   15/  100] | d_loss: 1.3919 | g_loss: 0.8801\n",
      "Epoch [   16/  100] | d_loss: 1.2504 | g_loss: 0.9276\n",
      "Epoch [   16/  100] | d_loss: 1.2454 | g_loss: 1.0096\n",
      "Epoch [   16/  100] | d_loss: 1.3435 | g_loss: 0.9997\n",
      "Epoch [   17/  100] | d_loss: 1.2378 | g_loss: 0.9787\n",
      "Epoch [   17/  100] | d_loss: 1.1857 | g_loss: 1.0844\n",
      "Epoch [   17/  100] | d_loss: 1.2907 | g_loss: 0.8563\n",
      "Epoch [   18/  100] | d_loss: 1.1588 | g_loss: 1.5027\n",
      "Epoch [   18/  100] | d_loss: 1.2603 | g_loss: 0.9821\n",
      "Epoch [   18/  100] | d_loss: 1.2885 | g_loss: 1.1426\n",
      "Epoch [   19/  100] | d_loss: 1.3130 | g_loss: 1.0415\n",
      "Epoch [   19/  100] | d_loss: 1.3446 | g_loss: 0.9786\n",
      "Epoch [   19/  100] | d_loss: 1.1976 | g_loss: 1.1743\n",
      "Epoch [   20/  100] | d_loss: 1.3012 | g_loss: 0.9233\n",
      "Epoch [   20/  100] | d_loss: 1.2656 | g_loss: 0.9328\n",
      "Epoch [   20/  100] | d_loss: 1.2522 | g_loss: 1.8698\n",
      "Epoch [   21/  100] | d_loss: 1.2600 | g_loss: 0.8317\n",
      "Epoch [   21/  100] | d_loss: 1.3075 | g_loss: 0.9722\n",
      "Epoch [   21/  100] | d_loss: 1.3225 | g_loss: 1.0814\n",
      "Epoch [   22/  100] | d_loss: 1.2629 | g_loss: 1.1344\n",
      "Epoch [   22/  100] | d_loss: 1.1212 | g_loss: 1.6709\n",
      "Epoch [   22/  100] | d_loss: 1.2765 | g_loss: 1.1372\n",
      "Epoch [   23/  100] | d_loss: 1.2374 | g_loss: 1.3891\n",
      "Epoch [   23/  100] | d_loss: 1.1522 | g_loss: 1.1093\n",
      "Epoch [   23/  100] | d_loss: 1.4451 | g_loss: 0.8139\n",
      "Epoch [   24/  100] | d_loss: 1.3003 | g_loss: 1.4321\n",
      "Epoch [   24/  100] | d_loss: 1.1508 | g_loss: 1.3065\n",
      "Epoch [   24/  100] | d_loss: 1.3581 | g_loss: 1.2163\n",
      "Epoch [   25/  100] | d_loss: 1.3243 | g_loss: 1.7189\n",
      "Epoch [   25/  100] | d_loss: 1.1437 | g_loss: 1.0844\n",
      "Epoch [   25/  100] | d_loss: 1.2863 | g_loss: 0.9121\n",
      "Epoch [   26/  100] | d_loss: 1.3572 | g_loss: 0.9614\n",
      "Epoch [   26/  100] | d_loss: 1.1601 | g_loss: 1.2076\n",
      "Epoch [   26/  100] | d_loss: 1.3834 | g_loss: 0.9726\n",
      "Epoch [   27/  100] | d_loss: 1.2568 | g_loss: 1.0849\n",
      "Epoch [   27/  100] | d_loss: 1.2403 | g_loss: 1.0014\n",
      "Epoch [   27/  100] | d_loss: 1.3221 | g_loss: 1.2552\n",
      "Epoch [   28/  100] | d_loss: 1.2421 | g_loss: 1.1973\n",
      "Epoch [   28/  100] | d_loss: 1.2318 | g_loss: 1.7871\n",
      "Epoch [   28/  100] | d_loss: 1.2511 | g_loss: 0.8720\n",
      "Epoch [   29/  100] | d_loss: 1.3366 | g_loss: 1.0386\n",
      "Epoch [   29/  100] | d_loss: 1.1885 | g_loss: 1.1001\n",
      "Epoch [   29/  100] | d_loss: 1.2797 | g_loss: 0.9154\n",
      "Epoch [   30/  100] | d_loss: 1.2527 | g_loss: 0.9116\n",
      "Epoch [   30/  100] | d_loss: 1.2392 | g_loss: 0.9331\n",
      "Epoch [   30/  100] | d_loss: 1.2825 | g_loss: 1.0754\n",
      "Epoch [   31/  100] | d_loss: 1.2701 | g_loss: 0.9184\n",
      "Epoch [   31/  100] | d_loss: 1.2601 | g_loss: 1.2236\n",
      "Epoch [   31/  100] | d_loss: 1.3441 | g_loss: 1.3567\n",
      "Epoch [   32/  100] | d_loss: 1.2938 | g_loss: 1.2022\n",
      "Epoch [   32/  100] | d_loss: 1.1371 | g_loss: 1.4996\n",
      "Epoch [   32/  100] | d_loss: 1.3396 | g_loss: 1.0835\n",
      "Epoch [   33/  100] | d_loss: 1.2722 | g_loss: 0.9017\n",
      "Epoch [   33/  100] | d_loss: 1.2146 | g_loss: 1.1056\n",
      "Epoch [   33/  100] | d_loss: 1.2801 | g_loss: 1.1090\n",
      "Epoch [   34/  100] | d_loss: 1.1827 | g_loss: 1.5667\n",
      "Epoch [   34/  100] | d_loss: 1.1119 | g_loss: 1.3772\n",
      "Epoch [   34/  100] | d_loss: 1.3207 | g_loss: 1.4998\n",
      "Epoch [   35/  100] | d_loss: 1.2815 | g_loss: 1.1027\n",
      "Epoch [   35/  100] | d_loss: 1.2557 | g_loss: 0.9712\n",
      "Epoch [   35/  100] | d_loss: 1.3049 | g_loss: 0.8828\n",
      "Epoch [   36/  100] | d_loss: 1.3016 | g_loss: 1.2048\n",
      "Epoch [   36/  100] | d_loss: 1.1492 | g_loss: 1.0619\n",
      "Epoch [   36/  100] | d_loss: 1.5061 | g_loss: 1.2627\n",
      "Epoch [   37/  100] | d_loss: 1.3290 | g_loss: 0.8719\n",
      "Epoch [   37/  100] | d_loss: 1.2356 | g_loss: 0.9662\n",
      "Epoch [   37/  100] | d_loss: 1.3229 | g_loss: 1.1010\n",
      "Epoch [   38/  100] | d_loss: 1.2841 | g_loss: 0.9620\n",
      "Epoch [   38/  100] | d_loss: 1.3551 | g_loss: 1.2185\n",
      "Epoch [   38/  100] | d_loss: 1.3415 | g_loss: 0.9608\n",
      "Epoch [   39/  100] | d_loss: 1.2229 | g_loss: 1.1429\n",
      "Epoch [   39/  100] | d_loss: 1.3429 | g_loss: 0.9959\n",
      "Epoch [   39/  100] | d_loss: 1.4119 | g_loss: 1.1650\n",
      "Epoch [   40/  100] | d_loss: 1.3063 | g_loss: 1.1158\n",
      "Epoch [   40/  100] | d_loss: 1.2648 | g_loss: 0.9223\n",
      "Epoch [   40/  100] | d_loss: 1.2848 | g_loss: 1.0550\n",
      "Epoch [   41/  100] | d_loss: 1.2916 | g_loss: 1.0957\n",
      "Epoch [   41/  100] | d_loss: 1.2232 | g_loss: 0.9875\n",
      "Epoch [   41/  100] | d_loss: 1.3329 | g_loss: 1.2044\n",
      "Epoch [   42/  100] | d_loss: 1.2686 | g_loss: 1.0571\n",
      "Epoch [   42/  100] | d_loss: 1.2263 | g_loss: 0.8768\n",
      "Epoch [   42/  100] | d_loss: 1.2991 | g_loss: 1.0406\n",
      "Epoch [   43/  100] | d_loss: 1.2666 | g_loss: 0.9920\n",
      "Epoch [   43/  100] | d_loss: 1.2703 | g_loss: 1.0084\n",
      "Epoch [   43/  100] | d_loss: 1.2458 | g_loss: 1.2527\n",
      "Epoch [   44/  100] | d_loss: 1.2890 | g_loss: 1.1437\n",
      "Epoch [   44/  100] | d_loss: 1.2041 | g_loss: 1.0787\n",
      "Epoch [   44/  100] | d_loss: 1.2788 | g_loss: 1.1604\n",
      "Epoch [   45/  100] | d_loss: 1.2533 | g_loss: 1.1713\n",
      "Epoch [   45/  100] | d_loss: 1.2585 | g_loss: 0.9635\n",
      "Epoch [   45/  100] | d_loss: 1.3205 | g_loss: 0.8662\n",
      "Epoch [   46/  100] | d_loss: 1.2720 | g_loss: 1.2766\n",
      "Epoch [   46/  100] | d_loss: 1.2849 | g_loss: 0.9904\n",
      "Epoch [   46/  100] | d_loss: 1.2907 | g_loss: 1.1461\n",
      "Epoch [   47/  100] | d_loss: 1.2720 | g_loss: 1.0611\n",
      "Epoch [   47/  100] | d_loss: 1.2834 | g_loss: 0.9350\n",
      "Epoch [   47/  100] | d_loss: 1.2916 | g_loss: 1.1754\n",
      "Epoch [   48/  100] | d_loss: 1.2617 | g_loss: 1.1498\n",
      "Epoch [   48/  100] | d_loss: 1.2373 | g_loss: 1.1287\n",
      "Epoch [   48/  100] | d_loss: 1.4135 | g_loss: 1.1194\n",
      "Epoch [   49/  100] | d_loss: 1.2645 | g_loss: 1.1937\n",
      "Epoch [   49/  100] | d_loss: 1.2091 | g_loss: 1.1208\n",
      "Epoch [   49/  100] | d_loss: 1.3267 | g_loss: 1.0474\n",
      "Epoch [   50/  100] | d_loss: 1.4218 | g_loss: 1.3756\n",
      "Epoch [   50/  100] | d_loss: 1.2711 | g_loss: 1.0514\n",
      "Epoch [   50/  100] | d_loss: 1.1726 | g_loss: 1.1564\n",
      "Epoch [   51/  100] | d_loss: 1.3007 | g_loss: 1.4549\n",
      "Epoch [   51/  100] | d_loss: 1.2102 | g_loss: 0.9700\n",
      "Epoch [   51/  100] | d_loss: 1.3178 | g_loss: 1.0976\n",
      "Epoch [   52/  100] | d_loss: 1.2395 | g_loss: 1.8897\n",
      "Epoch [   52/  100] | d_loss: 1.1679 | g_loss: 1.2392\n",
      "Epoch [   52/  100] | d_loss: 1.4399 | g_loss: 1.1511\n",
      "Epoch [   53/  100] | d_loss: 1.2470 | g_loss: 0.9598\n",
      "Epoch [   53/  100] | d_loss: 1.2520 | g_loss: 1.0250\n",
      "Epoch [   53/  100] | d_loss: 1.3610 | g_loss: 1.0002\n",
      "Epoch [   54/  100] | d_loss: 1.2747 | g_loss: 0.9330\n",
      "Epoch [   54/  100] | d_loss: 1.2672 | g_loss: 1.0128\n",
      "Epoch [   54/  100] | d_loss: 1.2855 | g_loss: 1.0830\n",
      "Epoch [   55/  100] | d_loss: 1.3751 | g_loss: 1.7604\n",
      "Epoch [   55/  100] | d_loss: 1.1293 | g_loss: 1.3092\n",
      "Epoch [   55/  100] | d_loss: 1.3744 | g_loss: 0.9788\n",
      "Epoch [   56/  100] | d_loss: 1.1064 | g_loss: 1.6224\n",
      "Epoch [   56/  100] | d_loss: 1.2100 | g_loss: 0.9160\n",
      "Epoch [   56/  100] | d_loss: 1.3458 | g_loss: 1.2885\n",
      "Epoch [   57/  100] | d_loss: 1.3594 | g_loss: 0.9445\n",
      "Epoch [   57/  100] | d_loss: 1.2438 | g_loss: 0.9396\n",
      "Epoch [   57/  100] | d_loss: 1.2626 | g_loss: 1.0881\n",
      "Epoch [   58/  100] | d_loss: 1.2733 | g_loss: 1.1976\n",
      "Epoch [   58/  100] | d_loss: 1.3476 | g_loss: 0.9327\n",
      "Epoch [   58/  100] | d_loss: 1.3554 | g_loss: 1.0925\n",
      "Epoch [   59/  100] | d_loss: 1.3917 | g_loss: 0.8945\n",
      "Epoch [   59/  100] | d_loss: 1.2516 | g_loss: 1.2260\n",
      "Epoch [   59/  100] | d_loss: 1.3203 | g_loss: 1.0650\n",
      "Epoch [   60/  100] | d_loss: 1.2350 | g_loss: 1.3943\n",
      "Epoch [   60/  100] | d_loss: 1.2015 | g_loss: 1.0712\n",
      "Epoch [   60/  100] | d_loss: 1.2412 | g_loss: 1.2055\n",
      "Epoch [   61/  100] | d_loss: 1.3372 | g_loss: 0.9293\n",
      "Epoch [   61/  100] | d_loss: 1.2108 | g_loss: 0.9131\n",
      "Epoch [   61/  100] | d_loss: 1.3163 | g_loss: 1.0339\n",
      "Epoch [   62/  100] | d_loss: 1.2277 | g_loss: 1.0098\n",
      "Epoch [   62/  100] | d_loss: 1.2904 | g_loss: 1.0470\n",
      "Epoch [   62/  100] | d_loss: 1.3594 | g_loss: 1.3779\n",
      "Epoch [   63/  100] | d_loss: 1.2961 | g_loss: 0.9226\n",
      "Epoch [   63/  100] | d_loss: 1.2876 | g_loss: 1.0140\n",
      "Epoch [   63/  100] | d_loss: 1.3049 | g_loss: 1.1404\n",
      "Epoch [   64/  100] | d_loss: 1.2617 | g_loss: 1.1145\n",
      "Epoch [   64/  100] | d_loss: 1.2867 | g_loss: 1.0809\n",
      "Epoch [   64/  100] | d_loss: 1.4731 | g_loss: 1.2705\n",
      "Epoch [   65/  100] | d_loss: 1.3127 | g_loss: 1.0363\n",
      "Epoch [   65/  100] | d_loss: 1.2894 | g_loss: 1.0538\n",
      "Epoch [   65/  100] | d_loss: 1.3545 | g_loss: 1.0612\n",
      "Epoch [   66/  100] | d_loss: 1.3935 | g_loss: 0.7988\n",
      "Epoch [   66/  100] | d_loss: 1.3691 | g_loss: 0.9457\n",
      "Epoch [   66/  100] | d_loss: 1.3624 | g_loss: 1.0048\n",
      "Epoch [   67/  100] | d_loss: 1.2451 | g_loss: 1.1911\n",
      "Epoch [   67/  100] | d_loss: 1.2069 | g_loss: 1.1836\n",
      "Epoch [   67/  100] | d_loss: 1.2818 | g_loss: 1.1369\n",
      "Epoch [   68/  100] | d_loss: 1.2853 | g_loss: 1.1314\n",
      "Epoch [   68/  100] | d_loss: 1.2960 | g_loss: 0.9998\n",
      "Epoch [   68/  100] | d_loss: 1.3751 | g_loss: 0.9145\n",
      "Epoch [   69/  100] | d_loss: 1.1585 | g_loss: 1.2253\n",
      "Epoch [   69/  100] | d_loss: 1.2407 | g_loss: 1.1090\n",
      "Epoch [   69/  100] | d_loss: 1.4408 | g_loss: 0.9566\n",
      "Epoch [   70/  100] | d_loss: 1.1767 | g_loss: 1.4510\n",
      "Epoch [   70/  100] | d_loss: 1.2566 | g_loss: 0.9083\n",
      "Epoch [   70/  100] | d_loss: 1.2743 | g_loss: 1.0434\n",
      "Epoch [   71/  100] | d_loss: 1.2902 | g_loss: 1.2352\n",
      "Epoch [   71/  100] | d_loss: 1.3112 | g_loss: 1.6569\n",
      "Epoch [   71/  100] | d_loss: 1.2653 | g_loss: 1.0389\n",
      "Epoch [   72/  100] | d_loss: 1.3241 | g_loss: 0.9636\n",
      "Epoch [   72/  100] | d_loss: 1.2709 | g_loss: 1.0373\n",
      "Epoch [   72/  100] | d_loss: 1.3243 | g_loss: 1.2798\n",
      "Epoch [   73/  100] | d_loss: 1.2539 | g_loss: 1.0981\n",
      "Epoch [   73/  100] | d_loss: 1.2743 | g_loss: 0.9571\n",
      "Epoch [   73/  100] | d_loss: 1.4106 | g_loss: 0.9546\n",
      "Epoch [   74/  100] | d_loss: 1.2532 | g_loss: 1.1584\n",
      "Epoch [   74/  100] | d_loss: 1.2668 | g_loss: 0.9967\n",
      "Epoch [   74/  100] | d_loss: 1.2348 | g_loss: 1.4144\n",
      "Epoch [   75/  100] | d_loss: 1.3988 | g_loss: 0.9672\n",
      "Epoch [   75/  100] | d_loss: 1.2054 | g_loss: 1.2302\n",
      "Epoch [   75/  100] | d_loss: 1.4490 | g_loss: 0.9999\n",
      "Epoch [   76/  100] | d_loss: 1.2440 | g_loss: 1.2640\n",
      "Epoch [   76/  100] | d_loss: 1.3893 | g_loss: 0.8488\n",
      "Epoch [   76/  100] | d_loss: 1.3745 | g_loss: 1.0880\n",
      "Epoch [   77/  100] | d_loss: 1.1925 | g_loss: 0.9281\n",
      "Epoch [   77/  100] | d_loss: 1.2181 | g_loss: 1.0415\n",
      "Epoch [   77/  100] | d_loss: 1.3347 | g_loss: 0.9398\n",
      "Epoch [   78/  100] | d_loss: 1.2689 | g_loss: 1.0315\n",
      "Epoch [   78/  100] | d_loss: 1.1993 | g_loss: 0.9957\n",
      "Epoch [   78/  100] | d_loss: 1.3605 | g_loss: 1.0804\n",
      "Epoch [   79/  100] | d_loss: 1.2368 | g_loss: 0.9019\n",
      "Epoch [   79/  100] | d_loss: 1.2751 | g_loss: 0.9834\n",
      "Epoch [   79/  100] | d_loss: 1.3141 | g_loss: 1.0779\n",
      "Epoch [   80/  100] | d_loss: 1.3072 | g_loss: 1.1417\n",
      "Epoch [   80/  100] | d_loss: 1.2959 | g_loss: 0.8794\n",
      "Epoch [   80/  100] | d_loss: 1.3897 | g_loss: 1.0123\n",
      "Epoch [   81/  100] | d_loss: 1.2912 | g_loss: 1.0237\n",
      "Epoch [   81/  100] | d_loss: 1.2242 | g_loss: 1.2031\n",
      "Epoch [   81/  100] | d_loss: 1.3340 | g_loss: 1.1360\n",
      "Epoch [   82/  100] | d_loss: 1.2400 | g_loss: 1.2607\n",
      "Epoch [   82/  100] | d_loss: 1.2424 | g_loss: 1.1035\n",
      "Epoch [   82/  100] | d_loss: 1.3019 | g_loss: 0.9727\n",
      "Epoch [   83/  100] | d_loss: 1.2517 | g_loss: 0.9047\n",
      "Epoch [   83/  100] | d_loss: 1.2394 | g_loss: 0.9630\n",
      "Epoch [   83/  100] | d_loss: 1.2934 | g_loss: 1.2718\n",
      "Epoch [   84/  100] | d_loss: 1.3492 | g_loss: 1.2702\n",
      "Epoch [   84/  100] | d_loss: 1.2200 | g_loss: 0.9240\n",
      "Epoch [   84/  100] | d_loss: 1.1763 | g_loss: 1.5117\n",
      "Epoch [   85/  100] | d_loss: 1.2419 | g_loss: 1.0270\n",
      "Epoch [   85/  100] | d_loss: 1.3192 | g_loss: 1.1725\n",
      "Epoch [   85/  100] | d_loss: 1.4060 | g_loss: 1.0625\n",
      "Epoch [   86/  100] | d_loss: 1.2408 | g_loss: 1.1278\n",
      "Epoch [   86/  100] | d_loss: 1.1985 | g_loss: 1.0457\n",
      "Epoch [   86/  100] | d_loss: 1.2847 | g_loss: 1.0077\n",
      "Epoch [   87/  100] | d_loss: 1.2466 | g_loss: 1.1001\n",
      "Epoch [   87/  100] | d_loss: 1.1850 | g_loss: 1.0656\n",
      "Epoch [   87/  100] | d_loss: 1.3660 | g_loss: 1.2641\n",
      "Epoch [   88/  100] | d_loss: 1.2514 | g_loss: 1.0079\n",
      "Epoch [   88/  100] | d_loss: 1.3126 | g_loss: 1.0251\n",
      "Epoch [   88/  100] | d_loss: 1.2474 | g_loss: 1.1956\n",
      "Epoch [   89/  100] | d_loss: 1.2012 | g_loss: 0.8893\n",
      "Epoch [   89/  100] | d_loss: 1.3455 | g_loss: 0.9444\n",
      "Epoch [   89/  100] | d_loss: 1.3331 | g_loss: 1.1725\n",
      "Epoch [   90/  100] | d_loss: 1.2532 | g_loss: 1.0492\n",
      "Epoch [   90/  100] | d_loss: 1.2778 | g_loss: 1.0178\n",
      "Epoch [   90/  100] | d_loss: 1.1824 | g_loss: 1.1172\n",
      "Epoch [   91/  100] | d_loss: 1.2712 | g_loss: 1.0694\n",
      "Epoch [   91/  100] | d_loss: 1.2302 | g_loss: 1.0180\n",
      "Epoch [   91/  100] | d_loss: 1.3481 | g_loss: 1.0397\n",
      "Epoch [   92/  100] | d_loss: 1.2689 | g_loss: 1.1942\n",
      "Epoch [   92/  100] | d_loss: 1.1294 | g_loss: 0.8573\n",
      "Epoch [   92/  100] | d_loss: 1.3543 | g_loss: 0.9831\n",
      "Epoch [   93/  100] | d_loss: 1.2470 | g_loss: 1.1589\n",
      "Epoch [   93/  100] | d_loss: 1.3065 | g_loss: 1.1088\n",
      "Epoch [   93/  100] | d_loss: 1.3808 | g_loss: 1.1051\n",
      "Epoch [   94/  100] | d_loss: 1.4317 | g_loss: 1.1233\n",
      "Epoch [   94/  100] | d_loss: 1.2181 | g_loss: 1.0513\n",
      "Epoch [   94/  100] | d_loss: 1.4758 | g_loss: 1.1191\n",
      "Epoch [   95/  100] | d_loss: 1.2159 | g_loss: 1.0562\n",
      "Epoch [   95/  100] | d_loss: 1.2767 | g_loss: 0.9747\n",
      "Epoch [   95/  100] | d_loss: 1.2794 | g_loss: 0.9419\n",
      "Epoch [   96/  100] | d_loss: 1.1958 | g_loss: 1.2614\n",
      "Epoch [   96/  100] | d_loss: 1.2546 | g_loss: 1.0679\n",
      "Epoch [   96/  100] | d_loss: 1.3521 | g_loss: 1.2141\n",
      "Epoch [   97/  100] | d_loss: 1.1709 | g_loss: 1.2448\n",
      "Epoch [   97/  100] | d_loss: 1.2433 | g_loss: 0.9647\n",
      "Epoch [   97/  100] | d_loss: 1.4229 | g_loss: 1.0044\n",
      "Epoch [   98/  100] | d_loss: 1.3392 | g_loss: 1.1469\n",
      "Epoch [   98/  100] | d_loss: 1.1284 | g_loss: 1.1818\n",
      "Epoch [   98/  100] | d_loss: 1.3117 | g_loss: 1.1808\n",
      "Epoch [   99/  100] | d_loss: 1.2165 | g_loss: 1.0259\n",
      "Epoch [   99/  100] | d_loss: 1.2713 | g_loss: 0.9211\n",
      "Epoch [   99/  100] | d_loss: 1.3026 | g_loss: 1.3818\n",
      "Epoch [  100/  100] | d_loss: 1.3156 | g_loss: 1.0444\n",
      "Epoch [  100/  100] | d_loss: 1.3110 | g_loss: 1.0617\n",
      "Epoch [  100/  100] | d_loss: 1.3008 | g_loss: 1.1224\n"
     ]
    }
   ],
   "source": [
    "import pickle as pkl\n",
    "\n",
    "# training hyperparams\n",
    "num_epochs = 100\n",
    "\n",
    "# keep track of loss and generated, \"fake\" samples\n",
    "samples = []\n",
    "losses = []\n",
    "\n",
    "print_every = 400\n",
    "\n",
    "# Get some fixed data for sampling. These are images that are held\n",
    "# constant throughout training, and allow us to inspect the model's performance\n",
    "sample_size=16\n",
    "fixed_z = np.random.uniform(-1, 1, size=(sample_size, z_size))\n",
    "fixed_z = torch.from_numpy(fixed_z).float()\n",
    "\n",
    "# train the network\n",
    "D.train()\n",
    "G.train()\n",
    "for epoch in range(num_epochs):\n",
    "    \n",
    "    for batch_i, (real_images, _) in enumerate(train_loader):\n",
    "                \n",
    "        batch_size = real_images.size(0)\n",
    "        \n",
    "        ## Important rescaling step ## \n",
    "        real_images = real_images*2 - 1  # rescale input images from [0,1) to [-1, 1)\n",
    "        \n",
    "        # ============================================\n",
    "        #            TRAIN THE DISCRIMINATOR\n",
    "        # ============================================\n",
    "        d_optimizer.zero_grad()\n",
    "        # 1. Train with real images\n",
    "\n",
    "        # Compute the discriminator losses on real images\n",
    "        # use smoothed labels\n",
    "        D_real = D(real_images)\n",
    "        d_real_loss = real_loss(D_real, smooth=True)\n",
    "        \n",
    "        # 2. Train with fake images\n",
    "        \n",
    "        # Generate fake images\n",
    "        z = np.random.uniform(-1, 1, size=(batch_size, z_size))\n",
    "        z = torch.from_numpy(z).float()\n",
    "        fake_images = G(z)\n",
    "        \n",
    "        # Compute the discriminator losses on fake images        \n",
    "        D_fake = D(fake_images)\n",
    "        d_fake_loss = fake_loss(D_fake)\n",
    "\n",
    "        # add up real and fake losses and perform backprop\n",
    "        d_loss = d_real_loss + d_fake_loss\n",
    "        d_loss.backward()\n",
    "        d_optimizer.step()\n",
    "        \n",
    "        \n",
    "        # =========================================\n",
    "        #            TRAIN THE GENERATOR\n",
    "        # =========================================\n",
    "        g_optimizer.zero_grad()\n",
    "        # 1. Train with fake images and flipped labels\n",
    "        # Generate fake images\n",
    "        z = np.random.uniform(-1, 1, size=(batch_size, z_size))\n",
    "        z = torch.from_numpy(z).float()\n",
    "        fake_images = G(z)\n",
    "        # Compute the discriminator losses on fake images \n",
    "        # using flipped labels!\n",
    "        D_fake = D(fake_images)\n",
    "        g_loss = real_loss(D_fake)\n",
    "        # perform backprop\n",
    "        g_loss.backward()\n",
    "        g_optimizer.step()\n",
    "        \n",
    "        # Print some loss stats\n",
    "        if batch_i % print_every == 0:\n",
    "            # print discriminator and generator loss\n",
    "            print('Epoch [{:5d}/{:5d}] | d_loss: {:6.4f} | g_loss: {:6.4f}'.format(\n",
    "                    epoch+1, num_epochs, d_loss.item(), g_loss.item()))\n",
    "\n",
    "    \n",
    "    ## AFTER EACH EPOCH##\n",
    "    # append discriminator loss and generator loss\n",
    "    losses.append((d_loss.item(), g_loss.item()))\n",
    "    \n",
    "    # generate and save sample, fake images\n",
    "    G.eval() # eval mode for generating samples\n",
    "    samples_z = G(fixed_z)\n",
    "    samples.append(samples_z)\n",
    "    G.train() # back to train mode\n",
    "\n",
    "\n",
    "# Save training generator samples\n",
    "with open('train_samples.pkl', 'wb') as f:\n",
    "    pkl.dump(samples, f)"
   ]
  },
  {
   "cell_type": "markdown",
   "metadata": {},
   "source": [
    "## Training loss\n",
    "\n",
    "Here we'll plot the training losses for the generator and discriminator, recorded after each epoch."
   ]
  },
  {
   "cell_type": "code",
   "execution_count": 12,
   "metadata": {},
   "outputs": [
    {
     "data": {
      "text/plain": [
       "<matplotlib.legend.Legend at 0x7f6f56a61a90>"
      ]
     },
     "execution_count": 12,
     "metadata": {},
     "output_type": "execute_result"
    },
    {
     "data": {
      "image/png": "[encoded data removed]",
      "text/plain": [
       "<matplotlib.figure.Figure at 0x7f6f601178d0>"
      ]
     },
     "metadata": {
      "needs_background": "light"
     },
     "output_type": "display_data"
    }
   ],
   "source": [
    "fig, ax = plt.subplots()\n",
    "losses = np.array(losses)\n",
    "plt.plot(losses.T[0], label='Discriminator')\n",
    "plt.plot(losses.T[1], label='Generator')\n",
    "plt.title(\"Training Losses\")\n",
    "plt.legend()"
   ]
  },
  {
   "cell_type": "markdown",
   "metadata": {},
   "source": [
    "## Generator samples from training\n",
    "\n",
    "Here we can view samples of images from the generator. First we'll look at the images we saved during training."
   ]
  },
  {
   "cell_type": "code",
   "execution_count": 13,
   "metadata": {},
   "outputs": [],
   "source": [
    "# helper function for viewing a list of passed in sample images\n",
    "def view_samples(epoch, samples):\n",
    "    fig, axes = plt.subplots(figsize=(7,7), nrows=4, ncols=4, sharey=True, sharex=True)\n",
    "    for ax, img in zip(axes.flatten(), samples[epoch]):\n",
    "        img = img.detach()\n",
    "        ax.xaxis.set_visible(False)\n",
    "        ax.yaxis.set_visible(False)\n",
    "        im = ax.imshow(img.reshape((28,28)), cmap='Greys_r')"
   ]
  },
  {
   "cell_type": "code",
   "execution_count": 14,
   "metadata": {},
   "outputs": [],
   "source": [
    "# Load samples from generator, taken while training\n",
    "with open('train_samples.pkl', 'rb') as f:\n",
    "    samples = pkl.load(f)"
   ]
  },
  {
   "cell_type": "markdown",
   "metadata": {},
   "source": [
    "These are samples from the final training epoch. You can see the generator is able to reproduce numbers like 1, 7, 3, 2. Since this is just a sample, it isn't representative of the full range of images this generator can make."
   ]
  },
  {
   "cell_type": "code",
   "execution_count": 15,
   "metadata": {},
   "outputs": [
    {
     "data": {
      "image/png": "[encoded data removed]",
      "text/plain": [
       "<matplotlib.figure.Figure at 0x7f6f600810b8>"
      ]
     },
     "metadata": {
      "needs_background": "light"
     },
     "output_type": "display_data"
    }
   ],
   "source": [
    "# -1 indicates final epoch's samples (the last in the list)\n",
    "view_samples(-1, samples)"
   ]
  },
  {
   "cell_type": "markdown",
   "metadata": {},
   "source": [
    "Below I'm showing the generated images as the network was training, every 10 epochs."
   ]
  },
  {
   "cell_type": "code",
   "execution_count": 16,
   "metadata": {},
   "outputs": [
    {
     "data": {
      "image/png": "[encoded data removed]",
      "text/plain": [
       "<matplotlib.figure.Figure at 0x7f6f56135080>"
      ]
     },
     "metadata": {
      "needs_background": "light"
     },
     "output_type": "display_data"
    }
   ],
   "source": [
    "rows = 10 # split epochs into 10, so 100/10 = every 10 epochs\n",
    "cols = 6\n",
    "fig, axes = plt.subplots(figsize=(7,12), nrows=rows, ncols=cols, sharex=True, sharey=True)\n",
    "\n",
    "for sample, ax_row in zip(samples[::int(len(samples)/rows)], axes):\n",
    "    for img, ax in zip(sample[::int(len(sample)/cols)], ax_row):\n",
    "        img = img.detach()\n",
    "        ax.imshow(img.reshape((28,28)), cmap='Greys_r')\n",
    "        ax.xaxis.set_visible(False)\n",
    "        ax.yaxis.set_visible(False)"
   ]
  },
  {
   "cell_type": "markdown",
   "metadata": {},
   "source": [
    "It starts out as all noise. Then it learns to make only the center white and the rest black. You can start to see some number like structures appear out of the noise like 1s and 9s."
   ]
  },
  {
   "cell_type": "markdown",
   "metadata": {},
   "source": [
    "## Sampling from the generator\n",
    "\n",
    "We can also get completely new images from the generator by using the checkpoint we saved after training. **We just need to pass in a new latent vector $z$ and we'll get new samples**!"
   ]
  },
  {
   "cell_type": "code",
   "execution_count": null,
   "metadata": {},
   "outputs": [],
   "source": [
    "# randomly generated, new latent vectors\n",
    "sample_size=16\n",
    "rand_z = np.random.uniform(-1, 1, size=(sample_size, z_size))\n",
    "rand_z = torch.from_numpy(rand_z).float()\n",
    "\n",
    "G.eval() # eval mode\n",
    "# generated samples\n",
    "rand_images = G(rand_z)\n",
    "\n",
    "# 0 indicates the first set of samples in the passed in list\n",
    "# and we only have one batch of samples, here\n",
    "view_samples(0, [rand_images])"
   ]
  }
 ],
 "metadata": {
  "kernelspec": {
   "display_name": "Python 3",
   "language": "python",
   "name": "python3"
  },
  "language_info": {
   "codemirror_mode": {
    "name": "ipython",
    "version": 3
   },
   "file_extension": ".py",
   "mimetype": "text/x-python",
   "name": "python",
   "nbconvert_exporter": "python",
   "pygments_lexer": "ipython3",
   "version": "3.7.5"
  }
 },
 "nbformat": 4,
 "nbformat_minor": 2
}
